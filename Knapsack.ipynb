{
  "nbformat": 4,
  "nbformat_minor": 0,
  "metadata": {
    "colab": {
      "name": "Knapsack.ipynb",
      "provenance": [],
      "authorship_tag": "ABX9TyPSsVgC4WKsGXzQhudh/SMj",
      "include_colab_link": true
    },
    "kernelspec": {
      "name": "python3",
      "display_name": "Python 3"
    }
  },
  "cells": [
    {
      "cell_type": "markdown",
      "metadata": {
        "id": "view-in-github",
        "colab_type": "text"
      },
      "source": [
        "<a href=\"https://colab.research.google.com/github/souravgopal25/Data-Structure-Algorithm-Nanodegree/blob/master/Knapsack.ipynb\" target=\"_parent\"><img src=\"https://colab.research.google.com/assets/colab-badge.svg\" alt=\"Open In Colab\"/></a>"
      ]
    },
    {
      "cell_type": "markdown",
      "metadata": {
        "id": "MPFMOxcs6cxr",
        "colab_type": "text"
      },
      "source": [
        "# Knapsack Problem\n",
        "Implement the function `max_value` to return the maximum value given the items (`items`) and the maximum weight of the knapsack (`knapsack_max_weight`). The `items` variable is the type `Item`, which is a [named tuple](https://docs.python.org/3/library/collections.html#collections.namedtuple)."
      ]
    },
    {
      "cell_type": "code",
      "metadata": {
        "id": "T_Wzq4qt6XoM",
        "colab_type": "code",
        "colab": {}
      },
      "source": [
        "import collections\n",
        "\n",
        "Item = collections.namedtuple('Item', ['weight', 'value'])"
      ],
      "execution_count": 0,
      "outputs": []
    },
    {
      "cell_type": "code",
      "metadata": {
        "id": "v_v9ZcIN6t5y",
        "colab_type": "code",
        "colab": {}
      },
      "source": [
        "def max_value(knapsack_max_weight, items):\n",
        "    lookup_table = [0] * (knapsack_max_weight + 1)\n",
        "\n",
        "    for item in items:\n",
        "        for capacity in reversed(range(knapsack_max_weight + 1)):\n",
        "            if item.weight <= capacity:\n",
        "                lookup_table[capacity] = max(lookup_table[capacity], lookup_table[capacity - item.weight] + item.value)\n",
        "\n",
        "    return lookup_table[-1]"
      ],
      "execution_count": 0,
      "outputs": []
    },
    {
      "cell_type": "code",
      "metadata": {
        "id": "EdcLAVE-63Gf",
        "colab_type": "code",
        "colab": {
          "base_uri": "https://localhost:8080/",
          "height": 51
        },
        "outputId": "257d9d01-53e4-41f3-87e2-8d67086fe409"
      },
      "source": [
        "tests = [\n",
        "    {\n",
        "        'correct_output': 14,\n",
        "        'input':\n",
        "            {\n",
        "                'knapsack_max_weight': 15,\n",
        "                'items': [Item(10, 7), Item(9, 8), Item(5, 6)]}},\n",
        "    {\n",
        "        'correct_output': 13,\n",
        "        'input':\n",
        "            {\n",
        "                'knapsack_max_weight': 25,\n",
        "                'items': [Item(10, 2), Item(29, 10), Item(5, 7), Item(5, 3), Item(5, 1), Item(24, 12)]}}]\n",
        "for test in tests:\n",
        "    print( test['correct_output'] == max_value(**test['input']))"
      ],
      "execution_count": 4,
      "outputs": [
        {
          "output_type": "stream",
          "text": [
            "True\n",
            "True\n"
          ],
          "name": "stdout"
        }
      ]
    },
    {
      "cell_type": "code",
      "metadata": {
        "id": "2YaNG9J267S3",
        "colab_type": "code",
        "colab": {}
      },
      "source": [
        ""
      ],
      "execution_count": 0,
      "outputs": []
    }
  ]
}