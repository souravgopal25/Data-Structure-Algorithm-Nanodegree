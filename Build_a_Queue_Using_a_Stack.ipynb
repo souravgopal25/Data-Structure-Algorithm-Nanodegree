{
  "nbformat": 4,
  "nbformat_minor": 0,
  "metadata": {
    "graffiti": {
      "firstAuthorId": "10694620118",
      "id": "id_hnsofe2",
      "language": "EN"
    },
    "kernelspec": {
      "display_name": "Python 3",
      "language": "python",
      "name": "python3"
    },
    "language_info": {
      "codemirror_mode": {
        "name": "ipython",
        "version": 3
      },
      "file_extension": ".py",
      "mimetype": "text/x-python",
      "name": "python",
      "nbconvert_exporter": "python",
      "pygments_lexer": "ipython3",
      "version": "3.6.3"
    },
    "colab": {
      "name": "Build a Queue Using a Stack.ipynb",
      "provenance": [],
      "include_colab_link": true
    }
  },
  "cells": [
    {
      "cell_type": "markdown",
      "metadata": {
        "id": "view-in-github",
        "colab_type": "text"
      },
      "source": [
        "<a href=\"https://colab.research.google.com/github/souravgopal25/Data-Structure-Algorithm-Nanodegree/blob/master/Build_a_Queue_Using_a_Stack.ipynb\" target=\"_parent\"><img src=\"https://colab.research.google.com/assets/colab-badge.svg\" alt=\"Open In Colab\"/></a>"
      ]
    },
    {
      "cell_type": "markdown",
      "metadata": {
        "graffitiCellId": "id_d0572r6",
        "id": "TbWhvM07xepR",
        "colab_type": "text"
      },
      "source": [
        "# Build a Queue From Stacks"
      ]
    },
    {
      "cell_type": "markdown",
      "metadata": {
        "graffitiCellId": "id_hyxoxmu",
        "id": "u4eHgLR6xepT",
        "colab_type": "text"
      },
      "source": [
        "#### Code"
      ]
    },
    {
      "cell_type": "code",
      "metadata": {
        "id": "6WxEqWlIxkpQ",
        "colab_type": "code",
        "colab": {}
      },
      "source": [
        "class Stack:\n",
        "    def __init__(self):\n",
        "        self.items = []\n",
        "    \n",
        "    def size(self):\n",
        "        return len(self.items)\n",
        "    \n",
        "    def push(self, item):\n",
        "        self.items.append(item)\n",
        "\n",
        "    def pop(self):\n",
        "        if self.size()==0:\n",
        "            return None\n",
        "        else:\n",
        "            return self.items.pop()"
      ],
      "execution_count": 0,
      "outputs": []
    },
    {
      "cell_type": "code",
      "metadata": {
        "graffitiCellId": "id_u8iro3g",
        "id": "k1t7ZcVfxepU",
        "colab_type": "code",
        "colab": {}
      },
      "source": [
        "class Queue:\n",
        "    def __init__(self):\n",
        "        self.instorage=Stack()\n",
        "        self.outstorage=Stack()\n",
        "        \n",
        "    def size(self):\n",
        "         return self.outstorage.size() + self.instorage.size()\n",
        "        \n",
        "    def enqueue(self,item):\n",
        "        self.instorage.push(item)\n",
        "        \n",
        "    def dequeue(self):\n",
        "        if not self.outstorage.items:\n",
        "            while self.instorage.items:\n",
        "                self.outstorage.push(self.instorage.pop())\n",
        "        return self.outstorage.pop()"
      ],
      "execution_count": 0,
      "outputs": []
    },
    {
      "cell_type": "markdown",
      "metadata": {
        "graffitiCellId": "id_3ahdavv",
        "id": "PYh6kOS4xepa",
        "colab_type": "text"
      },
      "source": [
        "#### Test Cases"
      ]
    },
    {
      "cell_type": "code",
      "metadata": {
        "graffitiCellId": "id_jcf215k",
        "id": "0AuK28A8xepb",
        "colab_type": "code",
        "colab": {
          "base_uri": "https://localhost:8080/",
          "height": 115
        },
        "outputId": "41dea351-c6b2-40cf-d695-659377f8c90a"
      },
      "source": [
        "# Setup\n",
        "q = Queue()\n",
        "q.enqueue(1)\n",
        "q.enqueue(2)\n",
        "q.enqueue(3)\n",
        "\n",
        "# Test size\n",
        "print (\"Pass\" if (q.size() == 3) else \"Fail\")\n",
        "\n",
        "# Test dequeue\n",
        "print (\"Pass\" if (q.dequeue() == 1) else \"Fail\")\n",
        "\n",
        "# Test enqueue\n",
        "q.enqueue(4)\n",
        "print (\"Pass\" if (q.dequeue() == 2) else \"Fail\")\n",
        "print (\"Pass\" if (q.dequeue() == 3) else \"Fail\")\n",
        "print (\"Pass\" if (q.dequeue() == 4) else \"Fail\")\n",
        "q.enqueue(5)\n",
        "print (\"Pass\" if (q.size() == 1) else \"Fail\")"
      ],
      "execution_count": 3,
      "outputs": [
        {
          "output_type": "stream",
          "text": [
            "Pass\n",
            "Pass\n",
            "Pass\n",
            "Pass\n",
            "Pass\n",
            "Pass\n"
          ],
          "name": "stdout"
        }
      ]
    }
  ]
}