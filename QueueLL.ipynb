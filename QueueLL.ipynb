{
  "nbformat": 4,
  "nbformat_minor": 0,
  "metadata": {
    "colab": {
      "name": "QueueLL.ipynb",
      "provenance": [],
      "authorship_tag": "ABX9TyPx4R+Ct2APrQVDjn4753HJ",
      "include_colab_link": true
    },
    "kernelspec": {
      "name": "python3",
      "display_name": "Python 3"
    }
  },
  "cells": [
    {
      "cell_type": "markdown",
      "metadata": {
        "id": "view-in-github",
        "colab_type": "text"
      },
      "source": [
        "<a href=\"https://colab.research.google.com/github/souravgopal25/Data-Structure-Algorithm-Nanodegree/blob/master/QueueLL.ipynb\" target=\"_parent\"><img src=\"https://colab.research.google.com/assets/colab-badge.svg\" alt=\"Open In Colab\"/></a>"
      ]
    },
    {
      "cell_type": "markdown",
      "metadata": {
        "id": "9kPudrF6t4qL",
        "colab_type": "text"
      },
      "source": [
        "#QUEUE USING LinkedList\n"
      ]
    },
    {
      "cell_type": "code",
      "metadata": {
        "id": "YrOSJAjZwOJs",
        "colab_type": "code",
        "colab": {}
      },
      "source": [
        "class Node:\n",
        "  def __init__(self,value):\n",
        "    self.value=value\n",
        "    self.next=None"
      ],
      "execution_count": 0,
      "outputs": []
    },
    {
      "cell_type": "code",
      "metadata": {
        "id": "TRzDPdg2t10q",
        "colab_type": "code",
        "colab": {}
      },
      "source": [
        "class Queue:\n",
        "    \n",
        "    def __init__(self):\n",
        "        self.head = None\n",
        "        self.tail = None\n",
        "        self.num_elements = 0\n",
        "        \n",
        "    def enqueue(self, value):\n",
        "        new_node = Node(value)\n",
        "        if self.head is None:\n",
        "            self.head = new_node\n",
        "            self.tail = self.head\n",
        "        else:\n",
        "            self.tail.next = new_node    # add data to the next attribute of the tail (i.e. the end of the queue)\n",
        "            self.tail = self.tail.next   # shift the tail (i.e., the back of the queue)\n",
        "        self.num_elements += 1\n",
        "            \n",
        "    def dequeue(self):\n",
        "        if self.is_empty():\n",
        "            return None\n",
        "        value=self.head.value\n",
        "        self.head=self.head.next\n",
        "        self.num_elements-=1\n",
        "        return value\n",
        "    \n",
        "    def size(self):\n",
        "        return self.num_elements\n",
        "    \n",
        "    def is_empty(self):\n",
        "        return self.num_elements == 0\n",
        "        "
      ],
      "execution_count": 0,
      "outputs": []
    },
    {
      "cell_type": "code",
      "metadata": {
        "id": "uxaB6PCwwDr6",
        "colab_type": "code",
        "colab": {
          "base_uri": "https://localhost:8080/",
          "height": 115
        },
        "outputId": "1b5cf95a-aa7c-41c8-a87c-ace9896918d2"
      },
      "source": [
        "# Setup\n",
        "q = Queue()\n",
        "q.enqueue(1)\n",
        "q.enqueue(2)\n",
        "q.enqueue(3)\n",
        "\n",
        "# Test size\n",
        "print (\"Pass\" if (q.size() == 3) else \"Fail\")\n",
        "\n",
        "# Test dequeue\n",
        "print (\"Pass\" if (q.dequeue() == 1) else \"Fail\")\n",
        "\n",
        "# Test enqueue\n",
        "q.enqueue(4)\n",
        "print (\"Pass\" if (q.dequeue() == 2) else \"Fail\")\n",
        "print (\"Pass\" if (q.dequeue() == 3) else \"Fail\")\n",
        "print (\"Pass\" if (q.dequeue() == 4) else \"Fail\")\n",
        "q.enqueue(5)\n",
        "print (\"Pass\" if (q.size() == 1) else \"Fail\")"
      ],
      "execution_count": 8,
      "outputs": [
        {
          "output_type": "stream",
          "text": [
            "Pass\n",
            "Pass\n",
            "Pass\n",
            "Pass\n",
            "Pass\n",
            "Pass\n"
          ],
          "name": "stdout"
        }
      ]
    },
    {
      "cell_type": "markdown",
      "metadata": {
        "id": "K2dyuddGw2ji",
        "colab_type": "text"
      },
      "source": [
        "## Time Complexity\n",
        "\n",
        "So what's the time complexity of adding or removing things from our queue here?\n",
        "\n",
        "Well, when we use `enqueue`, we simply create a new node and add it to the tail of the list. And when we `dequeue` an item, we simply get the value from the head of the list and then shift the `head` variable so that it refers to the next node over.\n",
        "\n",
        "Both of these operations happen in constant time—that is, they have a time-complexity of O(1)."
      ]
    }
  ]
}