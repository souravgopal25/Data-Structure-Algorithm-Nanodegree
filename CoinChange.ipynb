{
  "nbformat": 4,
  "nbformat_minor": 0,
  "metadata": {
    "colab": {
      "name": "CoinChange.ipynb",
      "provenance": [],
      "authorship_tag": "ABX9TyPf1dQ4v9MQR98SistIgiDA",
      "include_colab_link": true
    },
    "kernelspec": {
      "name": "python3",
      "display_name": "Python 3"
    }
  },
  "cells": [
    {
      "cell_type": "markdown",
      "metadata": {
        "id": "view-in-github",
        "colab_type": "text"
      },
      "source": [
        "<a href=\"https://colab.research.google.com/github/souravgopal25/Data-Structure-Algorithm-Nanodegree/blob/master/CoinChange.ipynb\" target=\"_parent\"><img src=\"https://colab.research.google.com/assets/colab-badge.svg\" alt=\"Open In Colab\"/></a>"
      ]
    },
    {
      "cell_type": "markdown",
      "metadata": {
        "id": "mMMj1QpB_vEp",
        "colab_type": "text"
      },
      "source": [
        "# Coin Change\n",
        "\n",
        "You are given coins of different denominations and a total amount of money. Write a function to compute the fewest coins needed to make up that amount. If that amount of money cannot be made up by any combination of the coins, return `-1`.\n",
        "\n",
        "As an example:\n",
        "* Input: `coins = [1, 2, 3]`, `amount = 6`\n",
        "* Output: `2`\n",
        "* Explanation: The output is `2` because we can use `2` coins with value `3`. That is, `6 = 3 + 3`. We could also use `3` coins with value `2` (that is, `6 = 2 + 2 + 2`), but this would use more coins—and the problem specifies we should use the smallest number of coins possible.\n",
        "\n",
        "There's test code below that you can use to check your solution. And at the bottom of the notebook, you'll find two different possible solutions."
      ]
    },
    {
      "cell_type": "code",
      "metadata": {
        "id": "Iw0udXao_YS-",
        "colab_type": "code",
        "colab": {}
      },
      "source": [
        "def coin_change(coins, amount):\n",
        "    # Create a memo that will storing the fewest coins with given amount\n",
        "    # that we have already calculated so that we do not have to do the\n",
        "    # calculation again.\n",
        "    memo = {}\n",
        "    \n",
        "    def return_change(remaining):\n",
        "        # Base cases\n",
        "        if remaining < 0:  return float('inf')\n",
        "        if remaining == 0: return 0 \n",
        "        \n",
        "        # Check if we have already calculated\n",
        "        if remaining not in memo:\n",
        "            # If not previously calculated, calculate it by calling return_change with the remaining amount\n",
        "            memo[remaining] = min(return_change(remaining - c) + 1 for c in coins)\n",
        "        return memo[remaining]\n",
        "    \n",
        "    res = return_change(amount)\n",
        "    \n",
        "    # return -1 when no change found\n",
        "    return -1 if res == float('inf') else res"
      ],
      "execution_count": 0,
      "outputs": []
    },
    {
      "cell_type": "code",
      "metadata": {
        "id": "RB95yg9S_3xx",
        "colab_type": "code",
        "colab": {}
      },
      "source": [
        "def test_function(test_case):\n",
        "    arr = test_case[0]\n",
        "    amount = test_case[1]\n",
        "    solution = test_case[2]\n",
        "    output = coin_change(arr, amount)\n",
        "    if output == solution:\n",
        "        print(\"Pass\")\n",
        "    else:\n",
        "        print(\"Fail\")"
      ],
      "execution_count": 0,
      "outputs": []
    },
    {
      "cell_type": "code",
      "metadata": {
        "id": "uLVUvhXuAD5Y",
        "colab_type": "code",
        "colab": {
          "base_uri": "https://localhost:8080/",
          "height": 34
        },
        "outputId": "4311f26d-42e3-4c31-8d2b-f4f246afb669"
      },
      "source": [
        "arr = [1,2,5]\n",
        "amount = 11\n",
        "solution = 3\n",
        "test_case = [arr, amount, solution]\n",
        "test_function(test_case)"
      ],
      "execution_count": 3,
      "outputs": [
        {
          "output_type": "stream",
          "text": [
            "Pass\n"
          ],
          "name": "stdout"
        }
      ]
    },
    {
      "cell_type": "code",
      "metadata": {
        "id": "6ZIMVYaqAFc4",
        "colab_type": "code",
        "colab": {
          "base_uri": "https://localhost:8080/",
          "height": 34
        },
        "outputId": "de602fe2-b131-4513-ce94-2e0595aed56d"
      },
      "source": [
        "arr = [5,7,8]\n",
        "amount = 2\n",
        "solution = -1\n",
        "test_case = [arr, amount, solution]\n",
        "test_function(test_case)"
      ],
      "execution_count": 4,
      "outputs": [
        {
          "output_type": "stream",
          "text": [
            "Pass\n"
          ],
          "name": "stdout"
        }
      ]
    },
    {
      "cell_type": "code",
      "metadata": {
        "id": "GNedpH83AHOX",
        "colab_type": "code",
        "colab": {
          "base_uri": "https://localhost:8080/",
          "height": 34
        },
        "outputId": "cc9cf813-be77-414a-f63b-e8d9c9956c60"
      },
      "source": [
        "arr = [1,4,5,6]\n",
        "amount = 23\n",
        "solution = 4\n",
        "test_case = [arr, amount, solution]\n",
        "test_function(test_case)"
      ],
      "execution_count": 5,
      "outputs": [
        {
          "output_type": "stream",
          "text": [
            "Pass\n"
          ],
          "name": "stdout"
        }
      ]
    },
    {
      "cell_type": "code",
      "metadata": {
        "id": "3Q6zXVOfAIkP",
        "colab_type": "code",
        "colab": {}
      },
      "source": [
        ""
      ],
      "execution_count": 0,
      "outputs": []
    }
  ]
}