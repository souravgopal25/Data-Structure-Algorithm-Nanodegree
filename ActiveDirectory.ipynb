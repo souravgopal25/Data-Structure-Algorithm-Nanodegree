{
  "nbformat": 4,
  "nbformat_minor": 0,
  "metadata": {
    "colab": {
      "name": "ActiveDirectory.ipynb",
      "provenance": [],
      "authorship_tag": "ABX9TyN7koPAn/gtlJv52Inq1jx1",
      "include_colab_link": true
    },
    "kernelspec": {
      "name": "python3",
      "display_name": "Python 3"
    }
  },
  "cells": [
    {
      "cell_type": "markdown",
      "metadata": {
        "id": "view-in-github",
        "colab_type": "text"
      },
      "source": [
        "<a href=\"https://colab.research.google.com/github/souravgopal25/Data-Structure-Algorithm-Nanodegree/blob/master/ActiveDirectory.ipynb\" target=\"_parent\"><img src=\"https://colab.research.google.com/assets/colab-badge.svg\" alt=\"Open In Colab\"/></a>"
      ]
    },
    {
      "cell_type": "code",
      "metadata": {
        "id": "KJqtnLToML7x",
        "colab_type": "code",
        "colab": {}
      },
      "source": [
        "class Group(object):\n",
        "    def __init__(self, _name):\n",
        "        self.name = _name\n",
        "        self.groups = []\n",
        "        self.users = []\n",
        "\n",
        "    def add_group(self, group):\n",
        "        self.groups.append(group)\n",
        "\n",
        "    def add_user(self, user):\n",
        "        self.users.append(user)\n",
        "\n",
        "    def get_groups(self):\n",
        "        return self.groups\n",
        "\n",
        "    def get_users(self):\n",
        "        return self.users\n",
        "\n",
        "    def get_name(self):\n",
        "        return self.name\n",
        "\n",
        "\n",
        "parent = Group(\"parent\")\n",
        "child = Group(\"child\")\n",
        "sub_child = Group(\"subchild\")\n",
        "\n",
        "sub_child_user = \"sub_child_user\"\n",
        "sub_child.add_user(sub_child_user)\n",
        "\n",
        "child.add_group(sub_child)\n",
        "parent.add_group(child)"
      ],
      "execution_count": 0,
      "outputs": []
    },
    {
      "cell_type": "code",
      "metadata": {
        "id": "0iPkY7RZMgbI",
        "colab_type": "code",
        "colab": {
          "base_uri": "https://localhost:8080/",
          "height": 34
        },
        "outputId": "ecbf3462-c7b8-4b12-e6cc-56411feae11a"
      },
      "source": [
        "def is_user_in_group(user,group):\n",
        "  if user in group.get_users():\n",
        "    return True\n",
        "  else:\n",
        "    for group in group.get_groups():\n",
        "      if is_user_in_group(user,group):\n",
        "        return True\n",
        "  return False\n",
        "    \n",
        "  \n",
        "is_user_in_group(sub_child_user,sub_child)"
      ],
      "execution_count": 8,
      "outputs": [
        {
          "output_type": "execute_result",
          "data": {
            "text/plain": [
              "True"
            ]
          },
          "metadata": {
            "tags": []
          },
          "execution_count": 8
        }
      ]
    },
    {
      "cell_type": "code",
      "metadata": {
        "id": "wBVQsznEOFCS",
        "colab_type": "code",
        "colab": {}
      },
      "source": [
        ""
      ],
      "execution_count": 0,
      "outputs": []
    }
  ]
}