{
  "nbformat": 4,
  "nbformat_minor": 0,
  "metadata": {
    "colab": {
      "name": "BFS.ipynb",
      "provenance": [],
      "authorship_tag": "ABX9TyNJ6Hn4/GONVNvw8axXxFe6",
      "include_colab_link": true
    },
    "kernelspec": {
      "name": "python3",
      "display_name": "Python 3"
    }
  },
  "cells": [
    {
      "cell_type": "markdown",
      "metadata": {
        "id": "view-in-github",
        "colab_type": "text"
      },
      "source": [
        "<a href=\"https://colab.research.google.com/github/souravgopal25/Data-Structure-Algorithm-Nanodegree/blob/master/BFS.ipynb\" target=\"_parent\"><img src=\"https://colab.research.google.com/assets/colab-badge.svg\" alt=\"Open In Colab\"/></a>"
      ]
    },
    {
      "cell_type": "markdown",
      "metadata": {
        "id": "gR1FITuBAUOu",
        "colab_type": "text"
      },
      "source": [
        "#BFS "
      ]
    },
    {
      "cell_type": "code",
      "metadata": {
        "id": "SaIn3CG6-mDx",
        "colab_type": "code",
        "colab": {}
      },
      "source": [
        "# this code makes the tree that we'll traverse\n",
        "\n",
        "class Node(object):\n",
        "        \n",
        "    def __init__(self,value = None):\n",
        "        self.value = value\n",
        "        self.left = None\n",
        "        self.right = None\n",
        "        \n",
        "    def set_value(self,value):\n",
        "        self.value = value\n",
        "        \n",
        "    def get_value(self):\n",
        "        return self.value\n",
        "        \n",
        "    def set_left_child(self,left):\n",
        "        self.left = left\n",
        "        \n",
        "    def set_right_child(self, right):\n",
        "        self.right = right\n",
        "        \n",
        "    def get_left_child(self):\n",
        "        return self.left\n",
        "    \n",
        "    def get_right_child(self):\n",
        "        return self.right\n",
        "\n",
        "    def has_left_child(self):\n",
        "        return self.left != None\n",
        "    \n",
        "    def has_right_child(self):\n",
        "        return self.right != None\n",
        "    \n",
        "    # define __repr_ to decide what a print statement displays for a Node object\n",
        "    def __repr__(self):\n",
        "        return f\"Node({self.get_value()})\"\n",
        "    \n",
        "    def __str__(self):\n",
        "        return f\"Node({self.get_value()})\"\n",
        "    \n",
        "    \n",
        "class Tree():\n",
        "    def __init__(self, value=None):\n",
        "        self.root = Node(value)\n",
        "        \n",
        "    def get_root(self):\n",
        "        return self.root\n",
        "\n"
      ],
      "execution_count": 0,
      "outputs": []
    },
    {
      "cell_type": "code",
      "metadata": {
        "id": "VpHOrTYc_qC8",
        "colab_type": "code",
        "colab": {}
      },
      "source": [
        "tree = Tree(\"apple\")\n",
        "tree.get_root().set_left_child(Node(\"banana\"))\n",
        "tree.get_root().set_right_child(Node(\"cherry\"))\n",
        "tree.get_root().get_left_child().set_left_child(Node(\"dates\"))"
      ],
      "execution_count": 0,
      "outputs": []
    },
    {
      "cell_type": "code",
      "metadata": {
        "id": "dY6XbsTZ_rR5",
        "colab_type": "code",
        "colab": {}
      },
      "source": [
        "from collections import deque\n",
        "class Queue():\n",
        "    def __init__(self):\n",
        "        self.q = deque()\n",
        "        \n",
        "    def enq(self,value):\n",
        "        self.q.appendleft(value)\n",
        "        \n",
        "    def deq(self):\n",
        "        if len(self.q) > 0:\n",
        "            return self.q.pop()\n",
        "        else:\n",
        "            return None\n",
        "    \n",
        "    def __len__(self):\n",
        "        return len(self.q)\n",
        "    \n",
        "    def __repr__(self):\n",
        "        if len(self.q) > 0:\n",
        "            s = \"<enqueue here>\\n_________________\\n\" \n",
        "            s += \"\\n_________________\\n\".join([str(item) for item in self.q])\n",
        "            s += \"\\n_________________\\n<dequeue here>\"\n",
        "            return s\n",
        "        else:\n",
        "            return \"<queue is empty>\""
      ],
      "execution_count": 0,
      "outputs": []
    },
    {
      "cell_type": "code",
      "metadata": {
        "id": "_oODHxTY_y8p",
        "colab_type": "code",
        "colab": {
          "base_uri": "https://localhost:8080/",
          "height": 102
        },
        "outputId": "2dc54e66-1791-4d0b-983c-7cd7c25920ba"
      },
      "source": [
        "visit_order = list()\n",
        "q = Queue()\n",
        "\n",
        "# start at the root node and add it to the queue\n",
        "node = tree.get_root()\n",
        "q.enq(node)\n",
        "print(q)"
      ],
      "execution_count": 5,
      "outputs": [
        {
          "output_type": "stream",
          "text": [
            "<enqueue here>\n",
            "_________________\n",
            "Node(apple)\n",
            "_________________\n",
            "<dequeue here>\n"
          ],
          "name": "stdout"
        }
      ]
    },
    {
      "cell_type": "code",
      "metadata": {
        "id": "ayQv-juuADZZ",
        "colab_type": "code",
        "colab": {}
      },
      "source": [
        "def bfs(tree):\n",
        "    q = Queue()\n",
        "    visit_order = list()\n",
        "    node = tree.get_root()\n",
        "    q.enq(node)\n",
        "    while(len(q) > 0):\n",
        "        node = q.deq()\n",
        "        visit_order.append(node)\n",
        "        if node.has_left_child():\n",
        "            q.enq(node.get_left_child())\n",
        "        if node.has_right_child():\n",
        "            q.enq(node.get_right_child())\n",
        "\n",
        "    return visit_order"
      ],
      "execution_count": 0,
      "outputs": []
    },
    {
      "cell_type": "code",
      "metadata": {
        "id": "fO6X0Xf3ANHJ",
        "colab_type": "code",
        "colab": {
          "base_uri": "https://localhost:8080/",
          "height": 34
        },
        "outputId": "bcd9f140-149d-443f-df7b-23acbde4ad6f"
      },
      "source": [
        "bfs(tree)"
      ],
      "execution_count": 8,
      "outputs": [
        {
          "output_type": "execute_result",
          "data": {
            "text/plain": [
              "[Node(apple), Node(banana), Node(cherry), Node(dates)]"
            ]
          },
          "metadata": {
            "tags": []
          },
          "execution_count": 8
        }
      ]
    },
    {
      "cell_type": "code",
      "metadata": {
        "id": "6DBa3pxvAPQX",
        "colab_type": "code",
        "colab": {}
      },
      "source": [
        ""
      ],
      "execution_count": 0,
      "outputs": []
    }
  ]
}