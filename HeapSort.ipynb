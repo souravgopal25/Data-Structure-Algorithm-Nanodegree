{
  "nbformat": 4,
  "nbformat_minor": 0,
  "metadata": {
    "colab": {
      "name": "HeapSort.ipynb",
      "provenance": [],
      "authorship_tag": "ABX9TyO2aESEbNktMaEcIJyKUGEn",
      "include_colab_link": true
    },
    "kernelspec": {
      "name": "python3",
      "display_name": "Python 3"
    }
  },
  "cells": [
    {
      "cell_type": "markdown",
      "metadata": {
        "id": "view-in-github",
        "colab_type": "text"
      },
      "source": [
        "<a href=\"https://colab.research.google.com/github/souravgopal25/Data-Structure-Algorithm-Nanodegree/blob/master/HeapSort.ipynb\" target=\"_parent\"><img src=\"https://colab.research.google.com/assets/colab-badge.svg\" alt=\"Open In Colab\"/></a>"
      ]
    },
    {
      "cell_type": "markdown",
      "metadata": {
        "id": "AOeHzFaoebJN",
        "colab_type": "text"
      },
      "source": [
        "#Heap Sort"
      ]
    },
    {
      "cell_type": "code",
      "metadata": {
        "id": "nFldwV2BeWwZ",
        "colab_type": "code",
        "colab": {}
      },
      "source": [
        "def heapsort(arr):\n",
        "    # First convert the array into a maxheap by calling heapify on each node, starting from the end   \n",
        "    # now that you have a maxheap, you can swap the first element (largest) to the end (final position)\n",
        "    # and make the array minus the last element into maxheap again.  Continue to do this until the whole\n",
        "    # array is sorted\n",
        "    n = len(arr) \n",
        "  \n",
        "    # Build a maxheap. \n",
        "    for i in range(n, -1, -1): \n",
        "        heapify(arr, n, i) \n",
        "  \n",
        "    # One by one extract elements \n",
        "    for i in range(n-1, 0, -1): \n",
        "        arr[i], arr[0] = arr[0], arr[i] # swap \n",
        "        heapify(arr, i, 0) "
      ],
      "execution_count": 0,
      "outputs": []
    },
    {
      "cell_type": "code",
      "metadata": {
        "id": "yDWJSnVDep2H",
        "colab_type": "code",
        "colab": {}
      },
      "source": [
        "def heapify(arr, n, i):\n",
        "    # Using i as the index of the current node, find the 2 child nodes (if the array were a binary tree)\n",
        "    # and find the largest value.   If one of the children is larger swap the values and recurse into that subree\n",
        "    \n",
        "    # consider current index as largest\n",
        "    largest_index = i \n",
        "    left_node = 2 * i + 1     \n",
        "    right_node = 2 * i + 2     \n",
        "  \n",
        "    # compare with left child\n",
        "    if left_node < n and arr[i] < arr[left_node]: \n",
        "        largest_index = left_node\n",
        "  \n",
        "    # compare with right child\n",
        "    if right_node < n and arr[largest_index] < arr[right_node]: \n",
        "        largest_index = right_node\n",
        "  \n",
        "    # if either of left / right child is the largest node\n",
        "    if largest_index != i: \n",
        "        arr[i], arr[largest_index] = arr[largest_index], arr[i] \n",
        "    \n",
        "        heapify(arr, n, largest_index) "
      ],
      "execution_count": 0,
      "outputs": []
    },
    {
      "cell_type": "code",
      "metadata": {
        "id": "GQ7MCQjFewD9",
        "colab_type": "code",
        "colab": {}
      },
      "source": [
        "def test_function(test_case):\n",
        "    heapsort(test_case[0])\n",
        "    if test_case[0] == test_case[1]:\n",
        "        print(\"Pass\")\n",
        "    else:\n",
        "        print(\"False\")"
      ],
      "execution_count": 0,
      "outputs": []
    },
    {
      "cell_type": "code",
      "metadata": {
        "id": "gm8zdIq8e-J5",
        "colab_type": "code",
        "colab": {
          "base_uri": "https://localhost:8080/",
          "height": 34
        },
        "outputId": "3a334e36-9dd8-46a9-d76d-0be72fca34ee"
      },
      "source": [
        "arr = [3, 7, 4, 6, 1, 0, 9, 8, 9, 4, 3, 5]\n",
        "solution = [0, 1, 3, 3, 4, 4, 5, 6, 7, 8, 9, 9]\n",
        "\n",
        "test_case = [arr, solution]\n",
        "\n",
        "test_function(test_case)\n"
      ],
      "execution_count": 6,
      "outputs": [
        {
          "output_type": "stream",
          "text": [
            "Pass\n"
          ],
          "name": "stdout"
        }
      ]
    },
    {
      "cell_type": "code",
      "metadata": {
        "id": "1-IhjXEUe_2y",
        "colab_type": "code",
        "colab": {
          "base_uri": "https://localhost:8080/",
          "height": 34
        },
        "outputId": "262abd3a-2d63-4815-c673-f3c800aac946"
      },
      "source": [
        "arr = [5, 5, 5, 3, 3, 3, 4, 4, 4, 4]\n",
        "solution = [3, 3, 3, 4, 4, 4, 4, 5, 5, 5]\n",
        "test_case = [arr, solution]\n",
        "test_function(test_case)\n"
      ],
      "execution_count": 7,
      "outputs": [
        {
          "output_type": "stream",
          "text": [
            "Pass\n"
          ],
          "name": "stdout"
        }
      ]
    },
    {
      "cell_type": "code",
      "metadata": {
        "id": "YREPurPUfBsS",
        "colab_type": "code",
        "colab": {
          "base_uri": "https://localhost:8080/",
          "height": 34
        },
        "outputId": "8b6be708-4a30-4fd8-d889-f277e02098d4"
      },
      "source": [
        "arr = [0, 1, 2, 5, 12, 21, 0]\n",
        "solution = [0, 0, 1, 2, 5, 12, 21]\n",
        "test_case = [arr, solution]\n",
        "test_function(test_case)"
      ],
      "execution_count": 8,
      "outputs": [
        {
          "output_type": "stream",
          "text": [
            "Pass\n"
          ],
          "name": "stdout"
        }
      ]
    },
    {
      "cell_type": "code",
      "metadata": {
        "id": "naJzNWWHfJvg",
        "colab_type": "code",
        "colab": {}
      },
      "source": [
        ""
      ],
      "execution_count": 0,
      "outputs": []
    }
  ]
}