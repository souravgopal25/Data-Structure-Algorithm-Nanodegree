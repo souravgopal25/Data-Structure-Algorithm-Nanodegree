{
  "nbformat": 4,
  "nbformat_minor": 0,
  "metadata": {
    "colab": {
      "name": "LinkedList.ipynb",
      "provenance": [],
      "authorship_tag": "ABX9TyN8esBqdkMlw3l4Q9/L46Is",
      "include_colab_link": true
    },
    "kernelspec": {
      "name": "python3",
      "display_name": "Python 3"
    }
  },
  "cells": [
    {
      "cell_type": "markdown",
      "metadata": {
        "id": "view-in-github",
        "colab_type": "text"
      },
      "source": [
        "<a href=\"https://colab.research.google.com/github/souravgopal25/Data-Structure-Algorithm-Nanodegree/blob/master/LinkedList.ipynb\" target=\"_parent\"><img src=\"https://colab.research.google.com/assets/colab-badge.svg\" alt=\"Open In Colab\"/></a>"
      ]
    },
    {
      "cell_type": "markdown",
      "metadata": {
        "id": "aGjqp6J1w8DH",
        "colab_type": "text"
      },
      "source": [
        "# Implementing and traversing a linked list\n",
        "\n",
        "\n"
      ]
    },
    {
      "cell_type": "code",
      "metadata": {
        "id": "PNYRdAz3w1FP",
        "colab_type": "code",
        "colab": {}
      },
      "source": [
        "class Node:\n",
        "  def __init__(self,value):\n",
        "    self.value=value\n",
        "    self.next=None"
      ],
      "execution_count": 0,
      "outputs": []
    },
    {
      "cell_type": "code",
      "metadata": {
        "id": "DQQ6fdqmy4im",
        "colab_type": "code",
        "colab": {}
      },
      "source": [
        "head=Node(2)"
      ],
      "execution_count": 0,
      "outputs": []
    },
    {
      "cell_type": "code",
      "metadata": {
        "id": "qkNpqP56zARq",
        "colab_type": "code",
        "outputId": "5dc188d3-47db-4bbd-870b-ac227739171c",
        "colab": {
          "base_uri": "https://localhost:8080/",
          "height": 34
        }
      },
      "source": [
        "print(head.value)"
      ],
      "execution_count": 0,
      "outputs": [
        {
          "output_type": "stream",
          "text": [
            "2\n"
          ],
          "name": "stdout"
        }
      ]
    },
    {
      "cell_type": "code",
      "metadata": {
        "id": "TaZKJfZNzDOy",
        "colab_type": "code",
        "colab": {}
      },
      "source": [
        "head.next=Node(5)"
      ],
      "execution_count": 0,
      "outputs": []
    },
    {
      "cell_type": "code",
      "metadata": {
        "id": "0VdGb4VbzI2D",
        "colab_type": "code",
        "colab": {}
      },
      "source": [
        "head.next.next=Node(6)"
      ],
      "execution_count": 0,
      "outputs": []
    },
    {
      "cell_type": "code",
      "metadata": {
        "id": "x1ZxC03IzM7S",
        "colab_type": "code",
        "colab": {}
      },
      "source": [
        "def traverse(head):\n",
        "  node=head\n",
        "  while node!=None:\n",
        "    print(node.value)\n",
        "    node=node.next\n",
        "\n"
      ],
      "execution_count": 0,
      "outputs": []
    },
    {
      "cell_type": "code",
      "metadata": {
        "id": "Ai4KfN0rzfb6",
        "colab_type": "code",
        "outputId": "49bef2d6-5d32-40c8-ff54-5b93b5534612",
        "colab": {
          "base_uri": "https://localhost:8080/",
          "height": 68
        }
      },
      "source": [
        "traverse(head)"
      ],
      "execution_count": 0,
      "outputs": [
        {
          "output_type": "stream",
          "text": [
            "2\n",
            "5\n",
            "6\n"
          ],
          "name": "stdout"
        }
      ]
    },
    {
      "cell_type": "code",
      "metadata": {
        "id": "_7R2QaVO0bDg",
        "colab_type": "code",
        "colab": {}
      },
      "source": [
        ""
      ],
      "execution_count": 0,
      "outputs": []
    },
    {
      "cell_type": "markdown",
      "metadata": {
        "id": "VJu56U6v0tEU",
        "colab_type": "text"
      },
      "source": [
        "# CREATING LINKED LIST FROM LIST"
      ]
    },
    {
      "cell_type": "code",
      "metadata": {
        "id": "EBn1Fi--0xT0",
        "colab_type": "code",
        "colab": {}
      },
      "source": [
        "def create_linked_list(input_list):\n",
        "    head = None\n",
        "    for value in input_list:\n",
        "        if head is None:\n",
        "            head = Node(value)    \n",
        "        else:\n",
        "        # Move to the tail (the last node)\n",
        "            current_node = head\n",
        "            while current_node.next:\n",
        "                current_node = current_node.next\n",
        "        \n",
        "            current_node.next = Node(value)\n",
        "    return head"
      ],
      "execution_count": 0,
      "outputs": []
    },
    {
      "cell_type": "code",
      "metadata": {
        "id": "OelUovj60yxk",
        "colab_type": "code",
        "colab": {}
      },
      "source": [
        "def create_linked_list(input_list):\n",
        "  head=None\n",
        "  tail=None\n",
        "  for value in input_list:\n",
        "    if head is None:\n",
        "      head=Node(value)\n",
        "      tail=head\n",
        "    else:\n",
        "      tail.next=Node(value)\n",
        "      tail=tail.next\n",
        "      \n",
        "  return head"
      ],
      "execution_count": 0,
      "outputs": []
    },
    {
      "cell_type": "code",
      "metadata": {
        "id": "NoG0Mawi1art",
        "colab_type": "code",
        "colab": {}
      },
      "source": [
        "x=[i for i in range(10)]"
      ],
      "execution_count": 0,
      "outputs": []
    },
    {
      "cell_type": "code",
      "metadata": {
        "id": "7419i7_s2pZy",
        "colab_type": "code",
        "outputId": "22114d6c-9d2d-4cbc-da90-36e056b4c10d",
        "colab": {
          "base_uri": "https://localhost:8080/",
          "height": 34
        }
      },
      "source": [
        "print(x)"
      ],
      "execution_count": 0,
      "outputs": [
        {
          "output_type": "stream",
          "text": [
            "[0, 1, 2, 3, 4, 5, 6, 7, 8, 9]\n"
          ],
          "name": "stdout"
        }
      ]
    },
    {
      "cell_type": "code",
      "metadata": {
        "id": "8aLClCgL2q2z",
        "colab_type": "code",
        "outputId": "eba0282d-13c0-47b2-91b9-6921cafcfedb",
        "colab": {
          "base_uri": "https://localhost:8080/",
          "height": 187
        }
      },
      "source": [
        "\n",
        "traverse(create_linked_list(x))"
      ],
      "execution_count": 19,
      "outputs": [
        {
          "output_type": "stream",
          "text": [
            "0\n",
            "1\n",
            "2\n",
            "3\n",
            "4\n",
            "5\n",
            "6\n",
            "7\n",
            "8\n",
            "9\n"
          ],
          "name": "stdout"
        }
      ]
    },
    {
      "cell_type": "markdown",
      "metadata": {
        "id": "0CZCG51W3EDi",
        "colab_type": "text"
      },
      "source": [
        "# 2. Doubly Linked Lists"
      ]
    },
    {
      "cell_type": "code",
      "metadata": {
        "id": "e6OHjslc2zaE",
        "colab_type": "code",
        "colab": {}
      },
      "source": [
        "class DoubleNode:\n",
        "    def __init__(self, value):\n",
        "        self.value = value\n",
        "        self.next = None\n",
        "        self.previous = None"
      ],
      "execution_count": 0,
      "outputs": []
    },
    {
      "cell_type": "code",
      "metadata": {
        "id": "IcLgW6M23Kgs",
        "colab_type": "code",
        "colab": {}
      },
      "source": [
        "class DoublyLinkedList:\n",
        "    def __init__(self):\n",
        "        self.head = None\n",
        "        self.tail = None\n",
        "    \n",
        "    def append(self, value):\n",
        "        if self.head is None:\n",
        "            self.head = DoubleNode(value)\n",
        "            self.tail = self.head\n",
        "            return\n",
        "            \n",
        "        self.tail.next = DoubleNode(value)\n",
        "        self.tail.next.previous = self.tail\n",
        "        self.tail = self.tail.next\n",
        "        return\n",
        "    def traverse(self):\n",
        "      current_Node=self.head\n",
        "      while(current_Node!=None):\n",
        "        print(current_Node.value)\n",
        "        current_Node=current_Node.next\n",
        "    \n",
        "    "
      ],
      "execution_count": 0,
      "outputs": []
    },
    {
      "cell_type": "code",
      "metadata": {
        "id": "LCm7B4D_3bzc",
        "colab_type": "code",
        "colab": {}
      },
      "source": [
        "xyz=DoublyLinkedList()\n",
        "for i in range(10):\n",
        "  xyz.append(i)"
      ],
      "execution_count": 0,
      "outputs": []
    },
    {
      "cell_type": "code",
      "metadata": {
        "id": "UjiDMKXqXeuV",
        "colab_type": "code",
        "colab": {
          "base_uri": "https://localhost:8080/",
          "height": 187
        },
        "outputId": "2c0a09ed-c70c-4885-b9c6-da221d40c8ac"
      },
      "source": [
        "xyz.traverse()"
      ],
      "execution_count": 43,
      "outputs": [
        {
          "output_type": "stream",
          "text": [
            "0\n",
            "1\n",
            "2\n",
            "3\n",
            "4\n",
            "5\n",
            "6\n",
            "7\n",
            "8\n",
            "9\n"
          ],
          "name": "stdout"
        }
      ]
    },
    {
      "cell_type": "code",
      "metadata": {
        "id": "2RfBdQ_yYoTu",
        "colab_type": "code",
        "colab": {
          "base_uri": "https://localhost:8080/",
          "height": 68
        },
        "outputId": "57e00bc8-9c7f-4865-ad15-8188d5d0e145"
      },
      "source": [
        "xyz.traverse()"
      ],
      "execution_count": 36,
      "outputs": [
        {
          "output_type": "stream",
          "text": [
            "2\n",
            "5\n",
            "6\n"
          ],
          "name": "stdout"
        }
      ]
    },
    {
      "cell_type": "code",
      "metadata": {
        "id": "ZtDHBDWYZI_9",
        "colab_type": "code",
        "colab": {}
      },
      "source": [
        ""
      ],
      "execution_count": 0,
      "outputs": []
    }
  ]
}