{
  "nbformat": 4,
  "nbformat_minor": 0,
  "metadata": {
    "colab": {
      "name": "Dijkstra'sAlgo.ipynb",
      "provenance": [],
      "authorship_tag": "ABX9TyOrrI34hNE8y7snRgOvV9mS",
      "include_colab_link": true
    },
    "kernelspec": {
      "name": "python3",
      "display_name": "Python 3"
    }
  },
  "cells": [
    {
      "cell_type": "markdown",
      "metadata": {
        "id": "view-in-github",
        "colab_type": "text"
      },
      "source": [
        "<a href=\"https://colab.research.google.com/github/souravgopal25/Data-Structure-Algorithm-Nanodegree/blob/master/Dijkstra'sAlgo.ipynb\" target=\"_parent\"><img src=\"https://colab.research.google.com/assets/colab-badge.svg\" alt=\"Open In Colab\"/></a>"
      ]
    },
    {
      "cell_type": "markdown",
      "metadata": {
        "id": "0gNomDcikien",
        "colab_type": "text"
      },
      "source": [
        "# Dijkstra's Algorithm\n",
        "In order to run Dijkstra's Algorithm, we'll need to add distance to each edge. We'll use the `GraphEdge` class below to represent each edge between a node."
      ]
    },
    {
      "cell_type": "code",
      "metadata": {
        "id": "l0SYlXnDkdZE",
        "colab_type": "code",
        "colab": {}
      },
      "source": [
        "class GraphEdge(object):\n",
        "    def __init__(self, node, distance):\n",
        "        self.node = node\n",
        "        self.distance = distance"
      ],
      "execution_count": 0,
      "outputs": []
    },
    {
      "cell_type": "code",
      "metadata": {
        "id": "yuEPchQnkucV",
        "colab_type": "code",
        "colab": {}
      },
      "source": [
        "class GraphNode(object):\n",
        "    def __init__(self, val):\n",
        "        self.value = val\n",
        "        self.edges = []\n",
        "\n",
        "    def add_child(self, node, distance):\n",
        "        self.edges.append(GraphEdge(node, distance))\n",
        "\n",
        "    def remove_child(self, del_node):\n",
        "        if del_node in self.edges:\n",
        "            self.edges.remove(del_node)\n",
        "\n",
        "class Graph(object):\n",
        "    def __init__(self, node_list):\n",
        "        self.nodes = node_list\n",
        "\n",
        "    def add_edge(self, node1, node2, distance):\n",
        "        if node1 in self.nodes and node2 in self.nodes:\n",
        "            node1.add_child(node2, distance)\n",
        "            node2.add_child(node1, distance)\n",
        "\n",
        "    def remove_edge(self, node1, node2):\n",
        "        if node1 in self.nodes and node2 in self.nodes:\n",
        "            node1.remove_child(node2)\n",
        "            node2.remove_child(node1)"
      ],
      "execution_count": 0,
      "outputs": []
    },
    {
      "cell_type": "code",
      "metadata": {
        "id": "l1vQHUfxkv-C",
        "colab_type": "code",
        "colab": {}
      },
      "source": [
        "node_u = GraphNode('U')\n",
        "node_d = GraphNode('D')\n",
        "node_a = GraphNode('A')\n",
        "node_c = GraphNode('C')\n",
        "node_i = GraphNode('I')\n",
        "node_t = GraphNode('T')\n",
        "node_y = GraphNode('Y')\n",
        "\n",
        "graph = Graph([node_u, node_d, node_a, node_c, node_i, node_t, node_y])\n",
        "graph.add_edge(node_u, node_a, 4)\n",
        "graph.add_edge(node_u, node_c, 6)\n",
        "graph.add_edge(node_u, node_d, 3)\n",
        "graph.add_edge(node_d, node_u, 3)\n",
        "graph.add_edge(node_d, node_c, 4)\n",
        "graph.add_edge(node_a, node_u, 4)\n",
        "graph.add_edge(node_a, node_i, 7)\n",
        "graph.add_edge(node_c, node_d, 4)\n",
        "graph.add_edge(node_c, node_u, 6)\n",
        "graph.add_edge(node_c, node_i, 4)\n",
        "graph.add_edge(node_c, node_t, 5)\n",
        "graph.add_edge(node_i, node_a, 7)\n",
        "graph.add_edge(node_i, node_c, 4)\n",
        "graph.add_edge(node_i, node_y, 4)\n",
        "graph.add_edge(node_t, node_c, 5)\n",
        "graph.add_edge(node_t, node_y, 5)\n",
        "graph.add_edge(node_y, node_i, 4)\n",
        "graph.add_edge(node_y, node_t, 5)"
      ],
      "execution_count": 0,
      "outputs": []
    },
    {
      "cell_type": "code",
      "metadata": {
        "id": "4pOxBtvHkxkh",
        "colab_type": "code",
        "colab": {}
      },
      "source": [
        "import math\n",
        "\n",
        "def dijkstra(start_node, end_node):\n",
        "    distance_dict = {node: math.inf for node in graph.nodes}\n",
        "    shortest_path_to_node = {}\n",
        "\n",
        "    distance_dict[start_node] = 0\n",
        "    while distance_dict:\n",
        "        # Pop the shorest path \n",
        "        current_node, node_distance = sorted(distance_dict.items(), key=lambda x: x[1])[0]\n",
        "        shortest_path_to_node[current_node] = distance_dict.pop(current_node)\n",
        "\n",
        "        for edge in current_node.edges:\n",
        "            if edge.node in distance_dict:\n",
        "                new_node_distance = node_distance + edge.distance\n",
        "                if distance_dict[edge.node] > new_node_distance:\n",
        "                    distance_dict[edge.node] = new_node_distance\n",
        "    \n",
        "    return shortest_path_to_node[end_node]\n",
        "\n",
        "\n"
      ],
      "execution_count": 0,
      "outputs": []
    },
    {
      "cell_type": "code",
      "metadata": {
        "id": "6lVorrGqkz7h",
        "colab_type": "code",
        "colab": {
          "base_uri": "https://localhost:8080/",
          "height": 34
        },
        "outputId": "cf0d142f-7898-4dd0-aa74-ca7cc82842e8"
      },
      "source": [
        "print('Shortest Distance from {} to {} is {}'.format(node_u.value, node_y.value, dijkstra(node_u, node_y)))"
      ],
      "execution_count": 10,
      "outputs": [
        {
          "output_type": "stream",
          "text": [
            "Shortest Distance from U to Y is 14\n"
          ],
          "name": "stdout"
        }
      ]
    },
    {
      "cell_type": "code",
      "metadata": {
        "id": "eKa5g_mDk24i",
        "colab_type": "code",
        "colab": {}
      },
      "source": [
        ""
      ],
      "execution_count": 0,
      "outputs": []
    }
  ]
}