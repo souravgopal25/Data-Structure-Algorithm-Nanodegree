{
  "nbformat": 4,
  "nbformat_minor": 0,
  "metadata": {
    "colab": {
      "name": "BS.ipynb",
      "provenance": [],
      "authorship_tag": "ABX9TyNLSYHyupxcYKJrFUjxKCNl",
      "include_colab_link": true
    },
    "kernelspec": {
      "name": "python3",
      "display_name": "Python 3"
    }
  },
  "cells": [
    {
      "cell_type": "markdown",
      "metadata": {
        "id": "view-in-github",
        "colab_type": "text"
      },
      "source": [
        "<a href=\"https://colab.research.google.com/github/souravgopal25/Data-Structure-Algorithm-Nanodegree/blob/master/BS.ipynb\" target=\"_parent\"><img src=\"https://colab.research.google.com/assets/colab-badge.svg\" alt=\"Open In Colab\"/></a>"
      ]
    },
    {
      "cell_type": "markdown",
      "metadata": {
        "id": "dzwSYgODIG3c",
        "colab_type": "text"
      },
      "source": [
        "#BINARY SEARCH USING ITERATION"
      ]
    },
    {
      "cell_type": "code",
      "metadata": {
        "id": "V-H6RpzzHziu",
        "colab_type": "code",
        "colab": {}
      },
      "source": [
        "def binary_search(array, target):\n",
        "    lb=0\n",
        "    ub=len(array)-1\n",
        "    while lb<=ub:\n",
        "        mid=int((lb+ub)/2)\n",
        "        mid_element=array[mid]\n",
        "        \n",
        "        if target==mid_element:\n",
        "            return mid\n",
        "        elif target<mid_element:\n",
        "            ub=mid-1\n",
        "        else:\n",
        "            lb=mid+1\n",
        "    return -1"
      ],
      "execution_count": 0,
      "outputs": []
    },
    {
      "cell_type": "code",
      "metadata": {
        "id": "kT_hp0o_IKwk",
        "colab_type": "code",
        "colab": {}
      },
      "source": [
        "def test_function(test_case):\n",
        "    answer = binary_search(test_case[0], test_case[1])\n",
        "    if answer == test_case[2]:\n",
        "        print(\"Pass!\")\n",
        "    else:\n",
        "        print(\"Fail!\")"
      ],
      "execution_count": 0,
      "outputs": []
    },
    {
      "cell_type": "code",
      "metadata": {
        "id": "cjHaWvzmIVx5",
        "colab_type": "code",
        "colab": {
          "base_uri": "https://localhost:8080/",
          "height": 34
        },
        "outputId": "86d4f6ea-deaf-4c58-cca7-7f2ec82053dc"
      },
      "source": [
        "array = [0, 1, 2, 3, 4, 5, 6, 7, 8, 9, 10]\n",
        "target = 6\n",
        "index = 6\n",
        "test_case = [array, target, index]\n",
        "test_function(test_case)"
      ],
      "execution_count": 9,
      "outputs": [
        {
          "output_type": "stream",
          "text": [
            "Pass!\n"
          ],
          "name": "stdout"
        }
      ]
    }
  ]
}