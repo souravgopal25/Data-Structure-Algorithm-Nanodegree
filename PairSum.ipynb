{
  "nbformat": 4,
  "nbformat_minor": 0,
  "metadata": {
    "colab": {
      "name": "PairSum.ipynb",
      "provenance": [],
      "authorship_tag": "ABX9TyOYIfsyBRshQSuhCWgmiUMT",
      "include_colab_link": true
    },
    "kernelspec": {
      "name": "python3",
      "display_name": "Python 3"
    }
  },
  "cells": [
    {
      "cell_type": "markdown",
      "metadata": {
        "id": "view-in-github",
        "colab_type": "text"
      },
      "source": [
        "<a href=\"https://colab.research.google.com/github/souravgopal25/Data-Structure-Algorithm-Nanodegree/blob/master/PairSum.ipynb\" target=\"_parent\"><img src=\"https://colab.research.google.com/assets/colab-badge.svg\" alt=\"Open In Colab\"/></a>"
      ]
    },
    {
      "cell_type": "markdown",
      "metadata": {
        "id": "5VPC5IDZjHSh",
        "colab_type": "text"
      },
      "source": [
        "## Problem Statement\n",
        "\n",
        "Given an input array and a target value (integer), find two values in the array whose sum is equal to the target value. Solve the problem without using extra space. You can assume the array has unique values and will never have more than one solution."
      ]
    },
    {
      "cell_type": "code",
      "metadata": {
        "id": "jwk167liffxi",
        "colab_type": "code",
        "colab": {}
      },
      "source": [
        "def pair_sum(arr, target):\n",
        "    # sort the list\n",
        "    arr.sort()\n",
        "    \n",
        "    # initialize two pointer - one from start of the array and other from the end\n",
        "    front_index = 0\n",
        "    back_index = len(arr) - 1\n",
        "\n",
        "    # shift the pointers\n",
        "    while front_index < back_index:\n",
        "        front = arr[front_index]\n",
        "        back = arr[back_index]\n",
        "\n",
        "        if front + back == target:\n",
        "            return [front, back]\n",
        "        elif front + back < target:       # sum < target ==> shift front pointer forward\n",
        "            front_index += 1 \n",
        "        else:\n",
        "            back_index -= 1               # sum > target ==> shift back pointer backward\n",
        "\n",
        "    return [None, None]"
      ],
      "execution_count": 0,
      "outputs": []
    },
    {
      "cell_type": "code",
      "metadata": {
        "id": "rrqrcVbujFpj",
        "colab_type": "code",
        "colab": {}
      },
      "source": [
        "def test_function(test_case):\n",
        "    input_list = test_case[0]\n",
        "    target =test_case[1]\n",
        "    solution = test_case[2]\n",
        "    output = pair_sum(input_list, target)\n",
        "    if output == solution:\n",
        "        print(\"Pass\")\n",
        "    else:\n",
        "        print(\"False\")\n",
        "\n"
      ],
      "execution_count": 0,
      "outputs": []
    },
    {
      "cell_type": "code",
      "metadata": {
        "id": "ZE0cEXRZi3xH",
        "colab_type": "code",
        "colab": {
          "base_uri": "https://localhost:8080/",
          "height": 34
        },
        "outputId": "3c6c31a2-0be0-49f8-a1e4-44df778a4ed4"
      },
      "source": [
        "input_list = [2, 7, 11, 15]\n",
        "target = 9\n",
        "solution = [2, 7]\n",
        "test_case = [input_list, target, solution]\n",
        "test_function(test_case)"
      ],
      "execution_count": 10,
      "outputs": [
        {
          "output_type": "stream",
          "text": [
            "Pass\n"
          ],
          "name": "stdout"
        }
      ]
    },
    {
      "cell_type": "code",
      "metadata": {
        "id": "oAOqPwL9jTxy",
        "colab_type": "code",
        "colab": {
          "base_uri": "https://localhost:8080/",
          "height": 34
        },
        "outputId": "3581b76b-6c6f-4556-901c-1ce573ead88e"
      },
      "source": [
        "input_list = [110, 9, 89]\n",
        "target = 9\n",
        "solution = [None, None]\n",
        "test_case = [input_list, target, solution]\n",
        "test_function(test_case)"
      ],
      "execution_count": 11,
      "outputs": [
        {
          "output_type": "stream",
          "text": [
            "Pass\n"
          ],
          "name": "stdout"
        }
      ]
    },
    {
      "cell_type": "code",
      "metadata": {
        "id": "FgcikICujox9",
        "colab_type": "code",
        "colab": {}
      },
      "source": [
        ""
      ],
      "execution_count": 0,
      "outputs": []
    }
  ]
}