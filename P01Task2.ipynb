{
  "nbformat": 4,
  "nbformat_minor": 0,
  "metadata": {
    "colab": {
      "name": "Task2.ipynb",
      "provenance": [],
      "mount_file_id": "1KIY-5GgkeL6zNwlnp8GK_spbn5Dgswkk",
      "authorship_tag": "ABX9TyMjgmTC4XJ8iYe0wjT43TaV",
      "include_colab_link": true
    },
    "kernelspec": {
      "name": "python3",
      "display_name": "Python 3"
    }
  },
  "cells": [
    {
      "cell_type": "markdown",
      "metadata": {
        "id": "view-in-github",
        "colab_type": "text"
      },
      "source": [
        "<a href=\"https://colab.research.google.com/github/souravgopal25/Data-Structure-Algorithm-Nanodegree/blob/master/P01Task2.ipynb\" target=\"_parent\"><img src=\"https://colab.research.google.com/assets/colab-badge.svg\" alt=\"Open In Colab\"/></a>"
      ]
    },
    {
      "cell_type": "code",
      "metadata": {
        "id": "Ai5CyjKUWpZ_",
        "colab_type": "code",
        "colab": {}
      },
      "source": [
        "\"\"\"\n",
        "Read file into texts and calls.\n",
        "It's ok if you don't understand how to read files.\n",
        "\"\"\"\n",
        "import csv\n",
        "from datetime import datetime \n",
        "with open('texts.csv', 'r') as f:\n",
        "    readera = csv.reader(f)\n",
        "    texts = list(readera)\n",
        "\n",
        "with open('calls.csv', 'r') as f:\n",
        "    readerb = csv.reader(f)\n",
        "    calls = list(readerb)\n"
      ],
      "execution_count": 0,
      "outputs": []
    },
    {
      "cell_type": "code",
      "metadata": {
        "id": "CM8fMBM7XPsh",
        "colab_type": "code",
        "outputId": "9ac87a61-16b3-4682-bf14-5f3953cb82d8",
        "colab": {
          "base_uri": "https://localhost:8080/",
          "height": 54
        }
      },
      "source": [
        "\"\"\"\n",
        "TASK 2: Which telephone number spent the longest time on the phone\n",
        "during the period? Don't forget that time spent answering a call is\n",
        "also time spent on the phone.\n",
        "Print a message:\n",
        "\"<telephone number> spent the longest time, <total time> seconds, on the phone during \n",
        "September 2016.\".\n",
        "\"\"\"\n"
      ],
      "execution_count": 0,
      "outputs": [
        {
          "output_type": "execute_result",
          "data": {
            "text/plain": [
              "'\\nTASK 2: Which telephone number spent the longest time on the phone\\nduring the period? Don\\'t forget that time spent answering a call is\\nalso time spent on the phone.\\nPrint a message:\\n\"<telephone number> spent the longest time, <total time> seconds, on the phone during \\nSeptember 2016.\".\\n'"
            ]
          },
          "metadata": {
            "tags": []
          },
          "execution_count": 15
        }
      ]
    },
    {
      "cell_type": "code",
      "metadata": {
        "id": "KlKo8zK3Xy_n",
        "colab_type": "code",
        "colab": {}
      },
      "source": [
        "callsDict={}\n",
        "for dialer,reciver,time,duration in calls:\n",
        "  #print(time)\n",
        "  date=datetime.strptime(time,\"%d-%m-%Y %H:%M:%S\")\n",
        "  #print(date.year)\n",
        "  #print(duration)\n",
        "  if date.year == 2016 and date.month == 9:\n",
        "    print(dialer)\n",
        "    callsDict[dialer]=int(duration)\n",
        "    callsDict[reciver]=int(duration)\n",
        "\n"
      ],
      "execution_count": 0,
      "outputs": []
    },
    {
      "cell_type": "code",
      "metadata": {
        "id": "sNauE31yZS-J",
        "colab_type": "code",
        "outputId": "b08540bb-e156-49b4-80e0-f3d4eebd4c11",
        "colab": {
          "base_uri": "https://localhost:8080/",
          "height": 51
        }
      },
      "source": [
        "longest=max(callsDict.values())\n",
        "teleList=[]\n",
        "for key,values in callsDict.items():\n",
        "  if values==longest:\n",
        "    teleList.append(key)\n",
        "    #print(key)\n"
      ],
      "execution_count": 0,
      "outputs": [
        {
          "output_type": "stream",
          "text": [
            "99612 41256\n",
            "(080)43206415\n"
          ],
          "name": "stdout"
        }
      ]
    },
    {
      "cell_type": "code",
      "metadata": {
        "id": "W6dIfCP9ZqqB",
        "colab_type": "code",
        "outputId": "c0d833ae-09a3-4f97-d52c-ea503718d868",
        "colab": {
          "base_uri": "https://localhost:8080/",
          "height": 51
        }
      },
      "source": [
        "for number in teleList:\n",
        "  print(\"{} spent the longest time, {} seconds, on the phone during September 2016.\".format(number,longest))"
      ],
      "execution_count": 5,
      "outputs": [
        {
          "output_type": "stream",
          "text": [
            "10 spent the longest time, 100 seconds, on the phone during September 2016.\n",
            "20 spent the longest time, 100 seconds, on the phone during September 2016.\n"
          ],
          "name": "stdout"
        }
      ]
    },
    {
      "cell_type": "code",
      "metadata": {
        "id": "V6SX65BrlayR",
        "colab_type": "code",
        "colab": {}
      },
      "source": [
        ""
      ],
      "execution_count": 0,
      "outputs": []
    },
    {
      "cell_type": "markdown",
      "metadata": {
        "id": "6JF3wQm61_9X",
        "colab_type": "text"
      },
      "source": [
        ""
      ]
    }
  ]
}