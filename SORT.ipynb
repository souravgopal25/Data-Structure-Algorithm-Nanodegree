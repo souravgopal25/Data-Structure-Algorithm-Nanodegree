{
  "nbformat": 4,
  "nbformat_minor": 0,
  "metadata": {
    "colab": {
      "name": "SORT.ipynb",
      "provenance": [],
      "authorship_tag": "ABX9TyOiQZUro6pFB0N0fZKWvKDj",
      "include_colab_link": true
    },
    "kernelspec": {
      "name": "python3",
      "display_name": "Python 3"
    }
  },
  "cells": [
    {
      "cell_type": "markdown",
      "metadata": {
        "id": "view-in-github",
        "colab_type": "text"
      },
      "source": [
        "<a href=\"https://colab.research.google.com/github/souravgopal25/Data-Structure-Algorithm-Nanodegree/blob/master/SORT.ipynb\" target=\"_parent\"><img src=\"https://colab.research.google.com/assets/colab-badge.svg\" alt=\"Open In Colab\"/></a>"
      ]
    },
    {
      "cell_type": "markdown",
      "metadata": {
        "id": "VS1TiboUTwJO",
        "colab_type": "text"
      },
      "source": [
        "#BUBBLE SORT\n",
        "WORST CASE, BEST CASE, AVERAGE CASE\n",
        "O(n^2)"
      ]
    },
    {
      "cell_type": "code",
      "metadata": {
        "id": "dMeMys4lUQmI",
        "colab_type": "code",
        "colab": {}
      },
      "source": [
        "def bubble_sort(l):\n",
        "  for iteration in range(len(l)):\n",
        "    for index in range(1,len(l)):\n",
        "      this =l[index]\n",
        "      prev=l[index-1]\n",
        "\n",
        "      if prev<=this:\n",
        "        continue\n",
        "      l[index]=prev\n",
        "      l[index-1]=this"
      ],
      "execution_count": 0,
      "outputs": []
    },
    {
      "cell_type": "code",
      "metadata": {
        "id": "rNTfgx1BUrZN",
        "colab_type": "code",
        "outputId": "7c2e2ae3-ce65-431d-cd1b-bc81690798ff",
        "colab": {
          "base_uri": "https://localhost:8080/",
          "height": 34
        }
      },
      "source": [
        "arr= [16,49,3,12,56,49,55,22,13,46,19,55,46,13,25,56,9,48,45]\n",
        "bubble_sort_1(arr)\n",
        "print (\"Pass\" if (arr[0] == 3) else \"Fail\")"
      ],
      "execution_count": 0,
      "outputs": [
        {
          "output_type": "stream",
          "text": [
            "Pass\n"
          ],
          "name": "stdout"
        }
      ]
    },
    {
      "cell_type": "markdown",
      "metadata": {
        "id": "C1taoT72VGqZ",
        "colab_type": "text"
      },
      "source": [
        "#MERGE SORT\n",
        "Efficency - O(n logn)"
      ]
    },
    {
      "cell_type": "code",
      "metadata": {
        "id": "XNGnTAK5VEHc",
        "colab_type": "code",
        "colab": {}
      },
      "source": [
        "def mergesort(items):\n",
        "  if len(items)<=1:\n",
        "    return items\n",
        "  \n",
        "  mid=len(items)//2\n",
        "  left=items[:mid]\n",
        "  right=items[mid:]\n",
        "\n",
        "  left=mergesort(left)\n",
        "  right=mergesort(right)\n",
        "\n",
        "  return merge(left,right)\n",
        "\n",
        "def merge(left,right):\n",
        "  \n",
        "  merged=[]\n",
        "  left_index=0\n",
        "  right_index=0\n",
        "\n",
        "  while left_index<len(left) and right_index<len(right):\n",
        "\n",
        "    if left[left_index]>right[right_index]:\n",
        "      merged.append(right[right_index])\n",
        "      right_index+=1    \n",
        "    else:\n",
        "      merged.append(left[left_index])\n",
        "      left_index+=1\n",
        "  merged+=left[:left_index]\n",
        "  merged+=right[:right_index]\n",
        "  return merged"
      ],
      "execution_count": 0,
      "outputs": []
    },
    {
      "cell_type": "code",
      "metadata": {
        "id": "8XVopEFOWs0R",
        "colab_type": "code",
        "outputId": "9f671bff-ab52-4477-b107-f0af1f81c284",
        "colab": {
          "base_uri": "https://localhost:8080/",
          "height": 68
        }
      },
      "source": [
        "test_list_1 = [8, 3, 1, 7, 0, 10, 2]\n",
        "test_list_2 = [1, 0]\n",
        "test_list_3 = [97, 98, 99]\n",
        "print('{} to {}'.format(test_list_1, mergesort(test_list_1)))\n",
        "print('{} to {}'.format(test_list_2, mergesort(test_list_2)))\n",
        "print('{} to {}'.format(test_list_3, mergesort(test_list_3)))"
      ],
      "execution_count": 0,
      "outputs": [
        {
          "output_type": "stream",
          "text": [
            "[8, 3, 1, 7, 0, 10, 2] to [0, 0, 0, 0, 0, 0, 0, 0]\n",
            "[1, 0] to [0, 0]\n",
            "[97, 98, 99] to [97, 97]\n"
          ],
          "name": "stdout"
        }
      ]
    },
    {
      "cell_type": "markdown",
      "metadata": {
        "id": "9-WR1eJTa3my",
        "colab_type": "text"
      },
      "source": [
        "# QuickSort\n",
        "QuickSort is a divide-and-conquer algorithm. We need to pick a pivot, then sort both sublists that are created on either side of the pivot."
      ]
    },
    {
      "cell_type": "code",
      "metadata": {
        "id": "zffVemKYa4im",
        "colab_type": "code",
        "colab": {}
      },
      "source": [
        "items = [8, 3, 1, 7, 0, 10, 2]"
      ],
      "execution_count": 0,
      "outputs": []
    },
    {
      "cell_type": "code",
      "metadata": {
        "id": "4O3-svW5cMoA",
        "colab_type": "code",
        "outputId": "1976418d-9af9-48bb-e9ed-870bc801ae0e",
        "colab": {
          "base_uri": "https://localhost:8080/",
          "height": 51
        }
      },
      "source": [
        "def sort_a_little_bit(items, begin_index, end_index):    \n",
        "    left_index = begin_index\n",
        "    pivot_index = end_index\n",
        "    pivot_value = items[pivot_index]\n",
        "\n",
        "    while (pivot_index != left_index):\n",
        "\n",
        "        item = items[left_index]\n",
        "\n",
        "        if item <= pivot_value:\n",
        "            left_index += 1\n",
        "            continue\n",
        "\n",
        "        items[left_index] = items[pivot_index - 1]\n",
        "        items[pivot_index - 1] = pivot_value\n",
        "        items[pivot_index] = item\n",
        "        pivot_index -= 1\n",
        "    \n",
        "    return pivot_index\n",
        "\n",
        "items = [8, 3, 1, 7, 0, 10, 2]\n",
        "pivot_index = sort_a_little_bit(items, 0, len(items) - 1)\n",
        "print(items)\n",
        "print('pivot index %d' % pivot_index)"
      ],
      "execution_count": 0,
      "outputs": [
        {
          "output_type": "stream",
          "text": [
            "[0, 1, 2, 7, 3, 10, 8]\n",
            "pivot index 2\n"
          ],
          "name": "stdout"
        }
      ]
    },
    {
      "cell_type": "code",
      "metadata": {
        "id": "5cozqA5ncsBV",
        "colab_type": "code",
        "outputId": "04f7cb6b-7506-4dc6-b0bb-45ed0528e1c2",
        "colab": {
          "base_uri": "https://localhost:8080/",
          "height": 34
        }
      },
      "source": [
        "def sort_all(items, begin_index, end_index):\n",
        "    if end_index <= begin_index:\n",
        "        return\n",
        "    \n",
        "    pivot_index = sort_a_little_bit(items, begin_index, end_index)\n",
        "    sort_all(items, begin_index, pivot_index - 1)\n",
        "    sort_all(items, pivot_index + 1, end_index)\n",
        "    \n",
        "def quicksort(items):\n",
        "    sort_all(items, 0, len(items) - 1)\n",
        "    \n",
        "items = [8, 3, 1, 7, 0, 10, 2]\n",
        "quicksort(items)\n",
        "print(items)\n"
      ],
      "execution_count": 0,
      "outputs": [
        {
          "output_type": "stream",
          "text": [
            "[0, 1, 2, 3, 7, 8, 10]\n"
          ],
          "name": "stdout"
        }
      ]
    },
    {
      "cell_type": "code",
      "metadata": {
        "id": "oO9-OdoBc4nd",
        "colab_type": "code",
        "outputId": "6f892a86-1472-44ae-a35c-653b748c6a66",
        "colab": {
          "base_uri": "https://localhost:8080/",
          "height": 51
        }
      },
      "source": [
        "items = [1, 0]\n",
        "quicksort(items)\n",
        "print(items)\n",
        "\n",
        "items = [96, 97, 98]\n",
        "quicksort(items)\n",
        "print(items)"
      ],
      "execution_count": 0,
      "outputs": [
        {
          "output_type": "stream",
          "text": [
            "[0, 1]\n",
            "[96, 97, 98]\n"
          ],
          "name": "stdout"
        }
      ]
    },
    {
      "cell_type": "code",
      "metadata": {
        "id": "QWkd8kLhc7N1",
        "colab_type": "code",
        "colab": {}
      },
      "source": [
        ""
      ],
      "execution_count": 0,
      "outputs": []
    }
  ]
}