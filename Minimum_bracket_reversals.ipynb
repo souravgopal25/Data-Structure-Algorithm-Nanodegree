{
  "nbformat": 4,
  "nbformat_minor": 0,
  "metadata": {
    "graffiti": {
      "firstAuthorId": "10694620118",
      "id": "id_m05og16",
      "language": "EN"
    },
    "kernelspec": {
      "display_name": "Python 3",
      "language": "python",
      "name": "python3"
    },
    "language_info": {
      "codemirror_mode": {
        "name": "ipython",
        "version": 3
      },
      "file_extension": ".py",
      "mimetype": "text/x-python",
      "name": "python",
      "nbconvert_exporter": "python",
      "pygments_lexer": "ipython3",
      "version": "3.6.3"
    },
    "colab": {
      "name": "Minimum bracket reversals.ipynb",
      "provenance": [],
      "include_colab_link": true
    }
  },
  "cells": [
    {
      "cell_type": "markdown",
      "metadata": {
        "id": "view-in-github",
        "colab_type": "text"
      },
      "source": [
        "<a href=\"https://colab.research.google.com/github/souravgopal25/Data-Structure-Algorithm-Nanodegree/blob/master/Minimum_bracket_reversals.ipynb\" target=\"_parent\"><img src=\"https://colab.research.google.com/assets/colab-badge.svg\" alt=\"Open In Colab\"/></a>"
      ]
    },
    {
      "cell_type": "markdown",
      "metadata": {
        "graffitiCellId": "id_vxtrcg7",
        "id": "W-oE1_Y1m8Hh",
        "colab_type": "text"
      },
      "source": [
        "### Problem Statement\n",
        "\n",
        "Given an input string consisting of only `{` and `}`, figure out the minimum number of reversals required to make the brackets balanced.\n",
        "\n",
        "For example:\n",
        "* For `input_string = \"}}}}`, the number of reversals required is `2`.\n",
        "\n",
        "\n",
        "* For `input_string = \"}{}}`, the number of reversals required is `1`.\n",
        "\n",
        "\n",
        "If the brackets cannot be balanced, return `-1` to indicate that it is not possible to balance them."
      ]
    },
    {
      "cell_type": "code",
      "metadata": {
        "graffitiCellId": "id_jlfcw5k",
        "id": "hRHkaBYVm8Hj",
        "colab_type": "code",
        "colab": {}
      },
      "source": [
        "class LinkedListNode:\n",
        "\n",
        "    def __init__(self, data):\n",
        "        self.data = data\n",
        "        self.next = None\n",
        "\n",
        "class Stack:\n",
        "\n",
        "    def __init__(self):\n",
        "        self.num_elements = 0\n",
        "        self.head = None\n",
        "\n",
        "    def push(self, data):\n",
        "        new_node = LinkedListNode(data)\n",
        "        if self.head is None:\n",
        "            self.head = new_node\n",
        "        else:\n",
        "            new_node.next = self.head\n",
        "            self.head = new_node\n",
        "        self.num_elements += 1\n",
        "\n",
        "    def pop(self):\n",
        "        if self.is_empty():\n",
        "            return None\n",
        "        temp = self.head.data\n",
        "        self.head = self.head.next\n",
        "        self.num_elements -= 1\n",
        "        return temp\n",
        "\n",
        "    def top(self):\n",
        "        if self.head is None:\n",
        "            return None\n",
        "        return self.head.data\n",
        "\n",
        "    def size(self):\n",
        "        return self.num_elements\n",
        "\n",
        "    def is_empty(self):\n",
        "        return self.num_elements == 0\n"
      ],
      "execution_count": 0,
      "outputs": []
    },
    {
      "cell_type": "code",
      "metadata": {
        "graffitiCellId": "id_8y5l66z",
        "id": "neDD8cUZm8Ho",
        "colab_type": "code",
        "colab": {}
      },
      "source": [
        "def minimum_bracket_reversals(input_string):\n",
        "    if len(input_string) % 2 == 1:\n",
        "        return -1\n",
        "\n",
        "    stack = Stack()\n",
        "    count = 0\n",
        "    for bracket in input_string:\n",
        "        if stack.is_empty():\n",
        "            stack.push(bracket)\n",
        "        else:\n",
        "            top = stack.top()\n",
        "            if top != bracket:\n",
        "                if top == '{':\n",
        "                    stack.pop()\n",
        "                    continue\n",
        "            stack.push(bracket)\n",
        "\n",
        "    ls = list()\n",
        "    while not stack.is_empty():\n",
        "        first = stack.pop()\n",
        "        second = stack.pop()\n",
        "        ls.append(first)\n",
        "        ls.append(second)\n",
        "        if first == '}' and second == '}':\n",
        "            count += 1\n",
        "        elif first == '{' and second == '}':\n",
        "            count += 2\n",
        "        elif first == '{' and second == '{':\n",
        "            count += 1\n",
        "    return count\n"
      ],
      "execution_count": 0,
      "outputs": []
    },
    {
      "cell_type": "code",
      "metadata": {
        "graffitiCellId": "id_z5q6m05",
        "id": "99zUNItvm8Hs",
        "colab_type": "code",
        "colab": {}
      },
      "source": [
        "def test_function(test_case):\n",
        "    input_string = test_case[0]\n",
        "    expected_output = test_case[1]\n",
        "    output = minimum_bracket_reversals(input_string)\n",
        "    \n",
        "    if output == expected_output:\n",
        "        print(\"Pass\")\n",
        "    else:\n",
        "        print(\"Fail\")\n"
      ],
      "execution_count": 0,
      "outputs": []
    },
    {
      "cell_type": "code",
      "metadata": {
        "graffitiCellId": "id_y67zaj9",
        "id": "ZleMyLGkm8Hv",
        "colab_type": "code",
        "colab": {
          "base_uri": "https://localhost:8080/",
          "height": 33
        },
        "outputId": "71efaadd-5205-4c94-be3b-90754daa2143"
      },
      "source": [
        "test_case_1 = [\"}}}}\", 2]\n",
        "test_function(test_case_1)"
      ],
      "execution_count": 4,
      "outputs": [
        {
          "output_type": "stream",
          "text": [
            "Pass\n"
          ],
          "name": "stdout"
        }
      ]
    },
    {
      "cell_type": "code",
      "metadata": {
        "graffitiCellId": "id_yt04y7c",
        "id": "h2lPFbQwm8H0",
        "colab_type": "code",
        "colab": {
          "base_uri": "https://localhost:8080/",
          "height": 33
        },
        "outputId": "b1c8ff50-7b2b-40a7-c12e-8fbb237e755c"
      },
      "source": [
        "test_case_2 = [\"}}{{\", 2]          \n",
        "test_function(test_case_2)"
      ],
      "execution_count": 5,
      "outputs": [
        {
          "output_type": "stream",
          "text": [
            "Pass\n"
          ],
          "name": "stdout"
        }
      ]
    },
    {
      "cell_type": "code",
      "metadata": {
        "graffitiCellId": "id_m8kpqt1",
        "id": "rpF52VW3m8H4",
        "colab_type": "code",
        "colab": {
          "base_uri": "https://localhost:8080/",
          "height": 33
        },
        "outputId": "89ef01e4-fc81-4d8a-afda-c19cda621c14"
      },
      "source": [
        "test_case_3 = [\"{{{{{{{{{{{{{{{{{{{{{{{{{{{{{{{}}}}}\", 13]\n",
        "\n",
        "test_function(test_case_1)"
      ],
      "execution_count": 6,
      "outputs": [
        {
          "output_type": "stream",
          "text": [
            "Pass\n"
          ],
          "name": "stdout"
        }
      ]
    },
    {
      "cell_type": "code",
      "metadata": {
        "graffitiCellId": "id_mclvpey",
        "id": "rGjOGWd1m8H9",
        "colab_type": "code",
        "colab": {}
      },
      "source": [
        ""
      ],
      "execution_count": 0,
      "outputs": []
    },
    {
      "cell_type": "code",
      "metadata": {
        "graffitiCellId": "id_mp0csx6",
        "id": "1ReabNEIm8IC",
        "colab_type": "code",
        "colab": {
          "base_uri": "https://localhost:8080/",
          "height": 33
        },
        "outputId": "157da6c7-8cf0-4c69-fc93-a0aa8b7e8d0b"
      },
      "source": [
        "test_case_4= [\"}{}{}{}{}{}{}{}{}{}{}{}{}{}{}{\", 2]\n",
        "test_function(test_case_2)"
      ],
      "execution_count": 7,
      "outputs": [
        {
          "output_type": "stream",
          "text": [
            "Pass\n"
          ],
          "name": "stdout"
        }
      ]
    },
    {
      "cell_type": "code",
      "metadata": {
        "graffitiCellId": "id_1732mey",
        "id": "HEyuhjw8m8IF",
        "colab_type": "code",
        "colab": {
          "base_uri": "https://localhost:8080/",
          "height": 33
        },
        "outputId": "5c9f8c64-9592-4f21-cc7a-b7e53c1555a5"
      },
      "source": [
        "test_case_5 = [\"}}{}{}{}{}{}{}{}{}{}{}{}{}{}{}\", 1]\n",
        "\n",
        "test_function(test_case_3)"
      ],
      "execution_count": 8,
      "outputs": [
        {
          "output_type": "stream",
          "text": [
            "Pass\n"
          ],
          "name": "stdout"
        }
      ]
    }
  ]
}