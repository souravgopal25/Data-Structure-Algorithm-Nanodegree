{
  "nbformat": 4,
  "nbformat_minor": 0,
  "metadata": {
    "colab": {
      "name": "BlockChain.ipynb",
      "provenance": [],
      "authorship_tag": "ABX9TyMKLc2EFWebppvxO9XpWikC",
      "include_colab_link": true
    },
    "kernelspec": {
      "name": "python3",
      "display_name": "Python 3"
    }
  },
  "cells": [
    {
      "cell_type": "markdown",
      "metadata": {
        "id": "view-in-github",
        "colab_type": "text"
      },
      "source": [
        "<a href=\"https://colab.research.google.com/github/souravgopal25/Data-Structure-Algorithm-Nanodegree/blob/master/BlockChain.ipynb\" target=\"_parent\"><img src=\"https://colab.research.google.com/assets/colab-badge.svg\" alt=\"Open In Colab\"/></a>"
      ]
    },
    {
      "cell_type": "code",
      "metadata": {
        "id": "JhKP_ecuh1C0",
        "colab_type": "code",
        "colab": {}
      },
      "source": [
        "import hashlib\n",
        "from time import gmtime, strftime\n",
        "import time"
      ],
      "execution_count": 0,
      "outputs": []
    },
    {
      "cell_type": "code",
      "metadata": {
        "id": "iRg2wqFuiTps",
        "colab_type": "code",
        "colab": {}
      },
      "source": [
        "class Block:\n",
        "\n",
        "  def __init__(self, timestamp, data, previous_hash):\n",
        "\n",
        "    self.timestamp = timestamp\n",
        "    self.data = data\n",
        "    self.previous_hash = previous_hash\n",
        "    self.hash = self.calc_hash()\n",
        "  \n",
        "  def calc_hash(self):\n",
        "    sha = hashlib.sha256()\n",
        "    hash_str = str(self.data).encode('utf-8')+str(self.previous_hash).encode('utf-8')+str(self.timestamp).encode('utf-8')\n",
        "    sha.update(hash_str)\n",
        "    return sha.hexdigest()"
      ],
      "execution_count": 0,
      "outputs": []
    },
    {
      "cell_type": "code",
      "metadata": {
        "id": "i9DyhpHDka30",
        "colab_type": "code",
        "colab": {}
      },
      "source": [
        "class Node(object):\n",
        "\n",
        "  def __init__(self, data, previous_hash):\n",
        "    self.block = Block(time.strftime(\"%a, %d %b %Y %I:%M:%S %p %Z\", time.gmtime()), data, previous_hash)\n",
        "    self.next = None\n",
        "    self.tail = None"
      ],
      "execution_count": 0,
      "outputs": []
    },
    {
      "cell_type": "code",
      "metadata": {
        "id": "pXsBAn47lXIQ",
        "colab_type": "code",
        "colab": {}
      },
      "source": [
        "class BlockChain:\n",
        "  def __init__(self):\n",
        "    self.head = None\n",
        "    self.tail=None\n",
        "\n",
        "  def add(self,data):\n",
        "    if not self.head:\n",
        "      self.head=Node(data,None)\n",
        "      self.tail=self.head\n",
        "    else:\n",
        "      self.tail.next=Node(data,self.tail.block.hash)\n",
        "      self.tail=self.tail.next\n",
        "  def traverse(self):\n",
        "    node=self.head\n",
        "    while node:\n",
        "      print(\"Time Stamp :{} \\n Data :{} \\n Hash :{}\".\n",
        "            format(node.block.timestamp,node.block.data,node.block.hash))\n",
        "      node=node.next\n",
        "    \n"
      ],
      "execution_count": 0,
      "outputs": []
    },
    {
      "cell_type": "code",
      "metadata": {
        "id": "ambKdQ26qYpn",
        "colab_type": "code",
        "colab": {}
      },
      "source": [
        "chain=BlockChain()\n",
        "chain.add(\"Rs 100000\")\n",
        "chain.add(\"Rs 200000\")\n",
        "chain.add(\"Rs 300000\")"
      ],
      "execution_count": 0,
      "outputs": []
    },
    {
      "cell_type": "code",
      "metadata": {
        "id": "fg9vvyLcvn16",
        "colab_type": "code",
        "outputId": "47591d1e-5f1a-4b9c-9063-f86052e6651a",
        "colab": {
          "base_uri": "https://localhost:8080/",
          "height": 170
        }
      },
      "source": [
        "chain.traverse()"
      ],
      "execution_count": 0,
      "outputs": [
        {
          "output_type": "stream",
          "text": [
            "Time Stamp :Sat, 16 May 2020 06:58:37 PM GMT \n",
            " Data :Rs 100000 \n",
            " Hash :e6b5313621b073d5223fc3cc3c10c94361f0c6f3c251c8818cab45e5c64105d7\n",
            "Time Stamp :Sat, 16 May 2020 06:58:37 PM GMT \n",
            " Data :Rs 200000 \n",
            " Hash :ea1fac237fdd7f8498e719358da8306ba3cb40bfdecd3d384b43d66740e6f808\n",
            "Time Stamp :Sat, 16 May 2020 06:58:37 PM GMT \n",
            " Data :Rs 300000 \n",
            " Hash :d72157454b6a52bc629860f588e5a55e061f852fa7c5ee6482c8022690f42fe7\n"
          ],
          "name": "stdout"
        }
      ]
    },
    {
      "cell_type": "code",
      "metadata": {
        "id": "-KvfL7yb2nsX",
        "colab_type": "code",
        "colab": {}
      },
      "source": [
        ""
      ],
      "execution_count": 0,
      "outputs": []
    }
  ]
}