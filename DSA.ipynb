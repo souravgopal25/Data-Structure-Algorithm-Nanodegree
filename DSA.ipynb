{
  "nbformat": 4,
  "nbformat_minor": 0,
  "metadata": {
    "colab": {
      "name": "DSA.ipynb",
      "provenance": [],
      "authorship_tag": "ABX9TyMqUwwRh4VskCXnTssvQuLl",
      "include_colab_link": true
    },
    "kernelspec": {
      "name": "python3",
      "display_name": "Python 3"
    }
  },
  "cells": [
    {
      "cell_type": "markdown",
      "metadata": {
        "id": "view-in-github",
        "colab_type": "text"
      },
      "source": [
        "<a href=\"https://colab.research.google.com/github/souravgopal25/Data-Structure-Algorithm-Nanodegree/blob/master/DSA.ipynb\" target=\"_parent\"><img src=\"https://colab.research.google.com/assets/colab-badge.svg\" alt=\"Open In Colab\"/></a>"
      ]
    },
    {
      "cell_type": "markdown",
      "metadata": {
        "id": "Mqyv7qOmsbC6",
        "colab_type": "text"
      },
      "source": [
        "# Python REFRESHER"
      ]
    },
    {
      "cell_type": "code",
      "metadata": {
        "id": "javuj2QxsVQQ",
        "colab_type": "code",
        "colab": {}
      },
      "source": [
        "class Person:\n",
        "    def __init__(self, name, age, month):\n",
        "        self.name = name\n",
        "        self.age = age\n",
        "        self.birthday_month = month\n",
        "        \n",
        "    def birthday(self):\n",
        "        self.age += 1"
      ],
      "execution_count": 0,
      "outputs": []
    },
    {
      "cell_type": "code",
      "metadata": {
        "id": "dZQAc8J0sacQ",
        "colab_type": "code",
        "colab": {}
      },
      "source": [
        "def create_person_objects(names, ages, months):\n",
        "    my_data = zip(names, ages, months)\n",
        "    person_objects = []\n",
        "    for item in my_data:\n",
        "        person_objects.append(Person(*item))\n",
        "    return person_objects"
      ],
      "execution_count": 0,
      "outputs": []
    },
    {
      "cell_type": "code",
      "metadata": {
        "id": "gJp7vB9qstuJ",
        "colab_type": "code",
        "colab": {}
      },
      "source": [
        "def get_most_common_month(people):\n",
        "    # TODO:\n",
        "    # Use the \"months\" dictionary to record counts of birthday months\n",
        "    # for persons in the \"people\" data.\n",
        "    # Return the month with the largest number of birthdays.\n",
        "    months = {'January':0, 'February':0, 'March':0, 'April':0, 'May':0, \n",
        "              'June':0, 'July':0, 'August':0, 'September':0, 'October':0,\n",
        "              'November':0, 'December':0}\n",
        "    \n",
        "    # TODO: Modify the return statement.\n",
        "    for person in people:\n",
        "      months[person.birthday_month]+=1\n",
        "    max_month=None\n",
        "    max_value=0\n",
        "    for key in months.keys():\n",
        "      if months[key]>max_value:\n",
        "        max_value=months[key]\n",
        "        max_month=key\n",
        "      \n",
        "    return max_month"
      ],
      "execution_count": 0,
      "outputs": []
    },
    {
      "cell_type": "code",
      "metadata": {
        "id": "4NATbfKNvpgP",
        "colab_type": "code",
        "colab": {}
      },
      "source": [
        "def get_april_birthdays(people):\n",
        "    # TODO:\n",
        "    # Increment \"age\" for all people with birthdays in April.\n",
        "    # Return a dictionary \"april_birthdays\" with the names of\n",
        "    # all people with April birthdays as keys, and their updated ages \n",
        "    # as values. See the test below for an example expected output.\n",
        "    april_birthdays = {}\n",
        "    for person in people:\n",
        "      if person.birthday_month is 'April' :\n",
        "        person.birthday()\n",
        "        april_birthdays[person.name]=person.age\n",
        "    return april_birthdays\n",
        "\n"
      ],
      "execution_count": 0,
      "outputs": []
    },
    {
      "cell_type": "code",
      "metadata": {
        "id": "0s1FbYShwmsv",
        "colab_type": "code",
        "colab": {}
      },
      "source": [
        "def test():\n",
        "    # Here is the data for the test. Assume there is a single most common month.\n",
        "    names = ['Howard', 'Richard', 'Jules', 'Trula', 'Michael', 'Elizabeth', 'Richard', 'Shirley', 'Mark', 'Brianna', 'Kenneth', 'Gwen', 'William', 'Rosa', 'Denver', 'Shelly', 'Sammy', 'Maryann', 'Kathleen', 'Andrew', 'Joseph', 'Kathleen', 'Lisa', 'Viola', 'George', 'Bonnie', 'Robert', 'William', 'Sabrina', 'John', 'Robert', 'Gil', 'Calvin', 'Robert', 'Dusty', 'Dario', 'Joeann', 'Terry', 'Alan', 'Rosa', 'Jeane', 'James', 'Rachel', 'Tu', 'Chelsea', 'Andrea', 'Ernest', 'Erica', 'Priscilla', 'Carol', 'Michael', 'Dale', 'Arthur', 'Helen', 'James', 'Donna', 'Patricia', 'Betty', 'Patricia', 'Mollie', 'Nicole', 'Ernest', 'Wendy', 'Graciela', 'Teresa', 'Nicole', 'Trang', 'Caleb', 'Robert', 'Paul', 'Nieves', 'Arleen', 'Milton', 'James', 'Lawrence', 'Edward', 'Susan', 'Patricia', 'Tana', 'Jessica', 'Suzanne', 'Darren', 'Arthur', 'Holly', 'Mary', 'Randal', 'John', 'Laura', 'Betty', 'Chelsea', 'Margaret', 'Angel', 'Jeffrey', 'Mary', 'Donald', 'David', 'Roger', 'Evan', 'Danny', 'William']\n",
        "    ages  = [17, 58, 79, 8, 10, 57, 4, 98, 19, 47, 81, 68, 48, 13, 39, 21, 98, 51, 49, 12, 24, 78, 36, 59, 3, 87, 94, 85, 43, 69, 15, 52, 57, 36, 52, 5, 52, 5, 33, 10, 71, 28, 70, 9, 25, 28, 76, 71, 22, 35, 35, 100, 9, 95, 69, 52, 66, 91, 39, 84, 65, 29, 20, 98, 30, 83, 30, 15, 88, 89, 24, 98, 62, 94, 86, 63, 34, 23, 23, 19, 10, 80, 88, 67, 17, 91, 85, 97, 29, 7, 34, 38, 92, 29, 14, 52, 94, 62, 70, 22]\n",
        "    months = ['January', 'March', 'January', 'October', 'April', 'February', 'August', 'January', 'June', 'August', 'February', 'May', 'March', 'June', 'February', 'August', 'June', 'March', 'August', 'April', 'April', 'June', 'April', 'June', 'February', 'September', 'March', 'July', 'September', 'December', 'June', 'June', 'August', 'November', 'April', 'November', 'August', 'June', 'January', 'August', 'May', 'March', 'March', 'March', 'May', 'September', 'August', 'April', 'February', 'April', 'May', 'March', 'March', 'January', 'August', 'October', 'February', 'November', 'August', 'June', 'September', 'September', 'January', 'September', 'July', 'July', 'December', 'June', 'April', 'February', 'August', 'September', 'August', 'February', 'April', 'July', 'May', 'November', 'December', 'February', 'August', 'August', 'September', 'December', 'February', 'March', 'June', 'December', 'February', 'May', 'April', 'July', 'March', 'June', 'December', 'March', 'July', 'May', 'September', 'November']\n",
        "    people = create_person_objects(names, ages, months)\n",
        "\n",
        "    # Calls to the two functions you have completed.\n",
        "    print(get_april_birthdays(people))\n",
        "    print(get_most_common_month(people))\n"
      ],
      "execution_count": 0,
      "outputs": []
    },
    {
      "cell_type": "code",
      "metadata": {
        "id": "KPEOadxcwpHo",
        "colab_type": "code",
        "outputId": "8575ea28-1c72-4e76-9151-733f03dc597a",
        "colab": {
          "base_uri": "https://localhost:8080/",
          "height": 51
        }
      },
      "source": [
        "test()"
      ],
      "execution_count": 0,
      "outputs": [
        {
          "output_type": "stream",
          "text": [
            "{'Michael': 11, 'Andrew': 13, 'Joseph': 25, 'Lisa': 37, 'Dusty': 53, 'Erica': 72, 'Carol': 36, 'Robert': 89, 'Lawrence': 87, 'Margaret': 35}\n",
            "August\n"
          ],
          "name": "stdout"
        }
      ]
    },
    {
      "cell_type": "code",
      "metadata": {
        "id": "s23NPwsZwvVP",
        "colab_type": "code",
        "colab": {}
      },
      "source": [
        ""
      ],
      "execution_count": 0,
      "outputs": []
    }
  ]
}