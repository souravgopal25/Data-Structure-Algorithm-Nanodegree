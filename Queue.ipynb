{
  "nbformat": 4,
  "nbformat_minor": 0,
  "metadata": {
    "colab": {
      "name": "Queue.ipynb",
      "provenance": [],
      "collapsed_sections": [],
      "authorship_tag": "ABX9TyOutVxhUttkwPrbn5YklASH",
      "include_colab_link": true
    },
    "kernelspec": {
      "name": "python3",
      "display_name": "Python 3"
    }
  },
  "cells": [
    {
      "cell_type": "markdown",
      "metadata": {
        "id": "view-in-github",
        "colab_type": "text"
      },
      "source": [
        "<a href=\"https://colab.research.google.com/github/souravgopal25/Data-Structure-Algorithm-Nanodegree/blob/master/Queue.ipynb\" target=\"_parent\"><img src=\"https://colab.research.google.com/assets/colab-badge.svg\" alt=\"Open In Colab\"/></a>"
      ]
    },
    {
      "cell_type": "code",
      "metadata": {
        "id": "pNgWyGGbooin",
        "colab_type": "code",
        "colab": {}
      },
      "source": [
        "class Queue:\n",
        "\n",
        "    def __init__(self, initial_size=10):\n",
        "        self.arr = [0 for _ in range(initial_size)]\n",
        "        self.next_index = 0\n",
        "        self.front_index = -1\n",
        "        self.queue_size = 0\n",
        "\n",
        "    def enqueue(self, value):\n",
        "        # TODO: Check if the queue is full; if it is, call the _handle_queue_capacity_full method\n",
        "\n",
        "        # enqueue new element\n",
        "        self.arr[self.next_index] = value\n",
        "        self.queue_size += 1\n",
        "        self.next_index = (self.next_index + 1) % len(self.arr)\n",
        "        if self.front_index == -1:\n",
        "            self.front_index = 0\n",
        "\n",
        "    def dequeue(self):\n",
        "        # check if queue is empty\n",
        "        if self.is_empty():\n",
        "            self.front_index = -1   # resetting pointers\n",
        "            self.next_index = 0\n",
        "            return None\n",
        "\n",
        "        # dequeue front element\n",
        "        value = self.arr[self.front_index]\n",
        "        self.front_index = (self.front_index + 1) % len(self.arr)\n",
        "        self.queue_size -= 1\n",
        "        return value\n",
        "\n",
        "    def size(self):\n",
        "        return self.queue_size\n",
        "\n",
        "    def is_empty(self):\n",
        "        return self.size() == 0\n",
        "    \n",
        "    def front(self):\n",
        "        # check if queue is empty\n",
        "        if self.is_empty():\n",
        "            return None\n",
        "        return self.arr[self.front_index]\n",
        "    \n",
        "    def _handle_queue_capacity_full(self):\n",
        "        old_arr = self.arr\n",
        "        self.arr = [0 for _ in range(2 * len(old_arr))]\n",
        "\n",
        "        index = 0\n",
        "\n",
        "        # copy all elements from front of queue (front-index) until end\n",
        "        for i in range(self.front_index, len(old_arr)):\n",
        "            self.arr[index] = old_arr[i]\n",
        "            index += 1\n",
        "\n",
        "        # case: when front-index is ahead of next index\n",
        "        for i in range(0, self.front_index):\n",
        "            self.arr[index] = old_arr[i]\n",
        "            index += 1\n",
        "\n",
        "        # reset pointers\n",
        "        self.front_index = 0\n",
        "        self.next_index = index\n",
        "\n",
        "  "
      ],
      "execution_count": 0,
      "outputs": []
    },
    {
      "cell_type": "code",
      "metadata": {
        "id": "Dj5UbfmZplU9",
        "colab_type": "code",
        "colab": {
          "base_uri": "https://localhost:8080/",
          "height": 115
        },
        "outputId": "d865016d-4acf-4255-8ab8-2b9d3f3c7ddc"
      },
      "source": [
        "# Setup\n",
        "q = Queue()\n",
        "q.enqueue(1)\n",
        "q.enqueue(2)\n",
        "q.enqueue(3)\n",
        "\n",
        "# Test size\n",
        "print (\"Pass\" if (q.size() == 3) else \"Fail\")\n",
        "\n",
        "# Test dequeue\n",
        "print (\"Pass\" if (q.dequeue() == 1) else \"Fail\")\n",
        "\n",
        "# Test enqueue\n",
        "q.enqueue(4)\n",
        "print (\"Pass\" if (q.dequeue() == 2) else \"Fail\")\n",
        "print (\"Pass\" if (q.dequeue() == 3) else \"Fail\")\n",
        "print (\"Pass\" if (q.dequeue() == 4) else \"Fail\")\n",
        "q.enqueue(5)\n",
        "print (\"Pass\" if (q.size() == 1) else \"Fail\")"
      ],
      "execution_count": 9,
      "outputs": [
        {
          "output_type": "stream",
          "text": [
            "Pass\n",
            "Pass\n",
            "Pass\n",
            "Pass\n",
            "Pass\n",
            "Pass\n"
          ],
          "name": "stdout"
        }
      ]
    },
    {
      "cell_type": "code",
      "metadata": {
        "id": "xlAynWx4pq24",
        "colab_type": "code",
        "colab": {}
      },
      "source": [
        ""
      ],
      "execution_count": 0,
      "outputs": []
    }
  ]
}