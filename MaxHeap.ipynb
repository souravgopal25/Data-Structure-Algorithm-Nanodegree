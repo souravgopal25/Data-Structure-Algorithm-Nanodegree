{
  "nbformat": 4,
  "nbformat_minor": 0,
  "metadata": {
    "colab": {
      "name": "MaxHeap.ipynb",
      "provenance": [],
      "authorship_tag": "ABX9TyM/mTCTNxmooAHijZ1wkHLX",
      "include_colab_link": true
    },
    "kernelspec": {
      "name": "python3",
      "display_name": "Python 3"
    }
  },
  "cells": [
    {
      "cell_type": "markdown",
      "metadata": {
        "id": "view-in-github",
        "colab_type": "text"
      },
      "source": [
        "<a href=\"https://colab.research.google.com/github/souravgopal25/Data-Structure-Algorithm-Nanodegree/blob/master/MaxHeap.ipynb\" target=\"_parent\"><img src=\"https://colab.research.google.com/assets/colab-badge.svg\" alt=\"Open In Colab\"/></a>"
      ]
    },
    {
      "cell_type": "markdown",
      "metadata": {
        "id": "ANhB_6p9q3UP",
        "colab_type": "text"
      },
      "source": [
        "#MAX HEAP"
      ]
    },
    {
      "cell_type": "code",
      "metadata": {
        "id": "fIqUNQ7KqSYq",
        "colab_type": "code",
        "colab": {}
      },
      "source": [
        "import sys \n",
        "\n",
        "class MaxHeap: \n",
        "\n",
        "\tdef __init__(self, maxsize): \n",
        "\t\tself.maxsize = maxsize \n",
        "\t\tself.size = 0\n",
        "\t\tself.Heap = [0]*(self.maxsize + 1) \n",
        "\t\tself.Heap[0] = sys.maxsize \n",
        "\t\tself.FRONT = 1\n",
        "\n",
        "\t# Function to return the position of \n",
        "\t# parent for the node currently \n",
        "\t# at pos \n",
        "\tdef parent(self, pos): \n",
        "\t\treturn pos//2\n",
        "\n",
        "\t# Function to return the position of \n",
        "\t# the left child for the node currently \n",
        "\t# at pos \n",
        "\tdef leftChild(self, pos): \n",
        "\t\treturn 2 * pos \n",
        "\n",
        "\t# Function to return the position of \n",
        "\t# the right child for the node currently \n",
        "\t# at pos \n",
        "\tdef rightChild(self, pos): \n",
        "\t\treturn (2 * pos) + 1\n",
        "\n",
        "\t# Function that returns true if the passed \n",
        "\t# node is a leaf node \n",
        "\tdef isLeaf(self, pos): \n",
        "\t\tif pos >= (self.size//2) and pos <= self.size: \n",
        "\t\t\treturn True\n",
        "\t\treturn False\n",
        "\n",
        "\t# Function to swap two nodes of the heap \n",
        "\tdef swap(self, fpos, spos): \n",
        "\t\tself.Heap[fpos], self.Heap[spos] = self.Heap[spos], self.Heap[fpos] \n",
        "\n",
        "\t# Function to heapify the node at pos \n",
        "\tdef maxHeapify(self, pos): \n",
        "\n",
        "\t\t# If the node is a non-leaf node and smaller \n",
        "\t\t# than any of its child \n",
        "\t\tif not self.isLeaf(pos): \n",
        "\t\t\tif (self.Heap[pos] < self.Heap[self.leftChild(pos)] or\n",
        "\t\t\t\tself.Heap[pos] < self.Heap[self.rightChild(pos)]): \n",
        "\n",
        "\t\t\t\t# Swap with the left child and heapify \n",
        "\t\t\t\t# the left child \n",
        "\t\t\t\tif self.Heap[self.leftChild(pos)] > self.Heap[self.rightChild(pos)]: \n",
        "\t\t\t\t\tself.swap(pos, self.leftChild(pos)) \n",
        "\t\t\t\t\tself.maxHeapify(self.leftChild(pos)) \n",
        "\n",
        "\t\t\t\t# Swap with the right child and heapify \n",
        "\t\t\t\t# the right child \n",
        "\t\t\t\telse: \n",
        "\t\t\t\t\tself.swap(pos, self.rightChild(pos)) \n",
        "\t\t\t\t\tself.maxHeapify(self.rightChild(pos)) \n",
        "\n",
        "\t# Function to insert a node into the heap \n",
        "\tdef insert(self, element): \n",
        "\t\tif self.size >= self.maxsize : \n",
        "\t\t\treturn\n",
        "\t\tself.size+= 1\n",
        "\t\tself.Heap[self.size] = element \n",
        "\n",
        "\t\tcurrent = self.size \n",
        "\n",
        "\t\twhile self.Heap[current] > self.Heap[self.parent(current)]: \n",
        "\t\t\tself.swap(current, self.parent(current)) \n",
        "\t\t\tcurrent = self.parent(current) \n",
        "\n",
        "\t# Function to print the contents of the heap \n",
        "\tdef Print(self): \n",
        "\t\tfor i in range(1, (self.size//2)+1): \n",
        "\t\t\tprint(\" PARENT : \"+str(self.Heap[i])+\" LEFT CHILD : \"+\n",
        "\t\t\t\t\t\t\tstr(self.Heap[2 * i])+\" RIGHT CHILD : \"+\n",
        "\t\t\t\t\t\t\tstr(self.Heap[2 * i + 1])) \n",
        "\n",
        "\t# Function to remove and return the maximum \n",
        "\t# element from the heap \n",
        "\tdef extractMax(self): \n",
        "\n",
        "\t\tpopped = self.Heap[self.FRONT] \n",
        "\t\tself.Heap[self.FRONT] = self.Heap[self.size] \n",
        "\t\tself.size-= 1\n",
        "\t\tself.maxHeapify(self.FRONT) \n",
        "\t\treturn popped \n",
        "\n"
      ],
      "execution_count": 0,
      "outputs": []
    },
    {
      "cell_type": "code",
      "metadata": {
        "id": "9gOPscRuqpZF",
        "colab_type": "code",
        "outputId": "e35f18bc-e7b5-43f2-deaf-c7c1589c3978",
        "colab": {
          "base_uri": "https://localhost:8080/"
        }
      },
      "source": [
        "\n",
        "print('The maxHeap is ') \n",
        "minHeap = MaxHeap(15) \n",
        "minHeap.insert(5) \n",
        "minHeap.insert(3) \n",
        "minHeap.insert(17) \n",
        "minHeap.insert(10) \n",
        "minHeap.insert(84) \n",
        "minHeap.insert(19) \n",
        "minHeap.insert(6) \n",
        "minHeap.insert(22) \n",
        "minHeap.insert(9) \n",
        "\n",
        "minHeap.Print() \n",
        "print(\"The Max val is \" + str(minHeap.extractMax())) \n"
      ],
      "execution_count": 0,
      "outputs": [
        {
          "output_type": "stream",
          "text": [
            "The maxHeap is \n",
            " PARENT : 84 LEFT CHILD : 22 RIGHT CHILD : 19\n",
            " PARENT : 22 LEFT CHILD : 17 RIGHT CHILD : 10\n",
            " PARENT : 19 LEFT CHILD : 5 RIGHT CHILD : 6\n",
            " PARENT : 17 LEFT CHILD : 3 RIGHT CHILD : 9\n",
            "The Max val is 84\n"
          ],
          "name": "stdout"
        }
      ]
    },
    {
      "cell_type": "markdown",
      "metadata": {
        "id": "eR-A6b_2rWGG",
        "colab_type": "text"
      },
      "source": [
        "# USING LIBRARY FUNCTION\n"
      ]
    },
    {
      "cell_type": "code",
      "metadata": {
        "id": "ut4qkCrJra-o",
        "colab_type": "code",
        "colab": {
          "base_uri": "https://localhost:8080/",
          "height": 119
        },
        "outputId": "f6e3fea3-8fcf-4cb6-b2bd-a739183b499d"
      },
      "source": [
        "\n",
        "\n",
        "from heapq import heappop, heappush, heapify \n",
        "\n",
        "# Creating empty heap \n",
        "heap = [] \n",
        "heapify(heap) \n",
        "\n",
        "# Adding items to the heap using heappush \n",
        "# function by multiplying them with -1 \n",
        "heappush(heap, -1 * 10) \n",
        "heappush(heap, -1 * 30) \n",
        "heappush(heap, -1 * 20) \n",
        "heappush(heap, -1 * 400) \n",
        "\n",
        "# printing the value of maximum element \n",
        "print(\"Head value of heap : \"+str(-1 * heap[0])) \n",
        "\n",
        "# printing the elements of the heap \n",
        "print(\"The heap elements : \") \n",
        "for i in heap: \n",
        "\tprint(-1 * i, end = ' ') \n",
        "print(\"\\n\") \n",
        "\n",
        "element = heappop(heap) \n",
        "\n",
        "# printing the elements of the heap \n",
        "print(\"The heap elements : \") \n",
        "for i in heap: \n",
        "\tprint(-1 * i, end = ' ') \n"
      ],
      "execution_count": 5,
      "outputs": [
        {
          "output_type": "stream",
          "text": [
            "Head value of heap : 400\n",
            "The heap elements : \n",
            "400 30 20 10 \n",
            "\n",
            "The heap elements : \n",
            "30 10 20 "
          ],
          "name": "stdout"
        }
      ]
    }
  ]
}