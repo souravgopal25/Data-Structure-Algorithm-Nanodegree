{
  "nbformat": 4,
  "nbformat_minor": 0,
  "metadata": {
    "colab": {
      "name": "MinPlatform.ipynb",
      "provenance": [],
      "authorship_tag": "ABX9TyOdibv4Msjwl4kWRY/cA/aU",
      "include_colab_link": true
    },
    "kernelspec": {
      "name": "python3",
      "display_name": "Python 3"
    }
  },
  "cells": [
    {
      "cell_type": "markdown",
      "metadata": {
        "id": "view-in-github",
        "colab_type": "text"
      },
      "source": [
        "<a href=\"https://colab.research.google.com/github/souravgopal25/Data-Structure-Algorithm-Nanodegree/blob/master/MinPlatform.ipynb\" target=\"_parent\"><img src=\"https://colab.research.google.com/assets/colab-badge.svg\" alt=\"Open In Colab\"/></a>"
      ]
    },
    {
      "cell_type": "markdown",
      "metadata": {
        "id": "9h0Ui2-OuBuY",
        "colab_type": "text"
      },
      "source": [
        "## Problem Statement\n",
        "\n",
        "Given arrival and departure times of trains on a single day in a railway platform, find out the minimum number of platforms required so that no train has to wait for the other(s) to leave. \n",
        "\n",
        "You will be given arrival and departure times in the form of a list.\n",
        "\n",
        "Note: Time `hh:mm` would be written as integer `hhmm` for e.g. `9:30` would be written as `930`. Similarly, `13:45` would be given as `1345`"
      ]
    },
    {
      "cell_type": "code",
      "metadata": {
        "id": "Z7DavJsCt7p6",
        "colab_type": "code",
        "colab": {}
      },
      "source": [
        "def min_platforms(arrival, departure):\n",
        "    arrival.sort()\n",
        "    departure.sort()\n",
        "\n",
        "    platform_count = 1\n",
        "    output = 1\n",
        "    i = 1\n",
        "    j = 0\n",
        "\n",
        "    while i < len(arrival) and j < len(arrival):\n",
        "\n",
        "        if arrival[i] < departure[j]:\n",
        "            platform_count += 1\n",
        "            i += 1\n",
        "\n",
        "            if platform_count > output:\n",
        "                output = platform_count\n",
        "        else:\n",
        "            platform_count -= 1\n",
        "            j += 1\n",
        "\n",
        "    return output"
      ],
      "execution_count": 0,
      "outputs": []
    },
    {
      "cell_type": "code",
      "metadata": {
        "id": "vJgQd-mTubNP",
        "colab_type": "code",
        "colab": {}
      },
      "source": [
        "def test_function(test_case):\n",
        "    arrival = test_case[0]\n",
        "    departure = test_case[1]\n",
        "    solution = test_case[2]\n",
        "    \n",
        "    output = min_platforms(arrival, departure)\n",
        "    if output == solution:\n",
        "        print(\"Pass\")\n",
        "    else:\n",
        "        print(\"Fail\")                                                  "
      ],
      "execution_count": 0,
      "outputs": []
    },
    {
      "cell_type": "code",
      "metadata": {
        "id": "Ecp3Ca55uLXJ",
        "colab_type": "code",
        "colab": {
          "base_uri": "https://localhost:8080/",
          "height": 34
        },
        "outputId": "43f34108-c530-4387-adf2-376c96541b06"
      },
      "source": [
        "arrival = [900,  940, 950,  1100, 1500, 1800]\n",
        "departure = [910, 1200, 1120, 1130, 1900, 2000]\n",
        "test_case = [arrival, departure, 3]\n",
        "\n",
        "test_function(test_case)"
      ],
      "execution_count": 5,
      "outputs": [
        {
          "output_type": "stream",
          "text": [
            "Pass\n"
          ],
          "name": "stdout"
        }
      ]
    },
    {
      "cell_type": "code",
      "metadata": {
        "id": "fJ7weg9PuQXN",
        "colab_type": "code",
        "colab": {
          "base_uri": "https://localhost:8080/",
          "height": 34
        },
        "outputId": "11212c58-c38d-4249-8ad7-6365a200851c"
      },
      "source": [
        "arrival = [200, 210, 300, 320, 350, 500]\n",
        "departure = [230, 340, 320, 430, 400, 520]\n",
        "test_case = [arrival, departure, 2]\n",
        "test_function(test_case)"
      ],
      "execution_count": 6,
      "outputs": [
        {
          "output_type": "stream",
          "text": [
            "Pass\n"
          ],
          "name": "stdout"
        }
      ]
    }
  ]
}