{
  "nbformat": 4,
  "nbformat_minor": 0,
  "metadata": {
    "colab": {
      "name": "LCS.ipynb",
      "provenance": [],
      "authorship_tag": "ABX9TyMkIe4t/WoDSRw6wPNjh//j",
      "include_colab_link": true
    },
    "kernelspec": {
      "name": "python3",
      "display_name": "Python 3"
    }
  },
  "cells": [
    {
      "cell_type": "markdown",
      "metadata": {
        "id": "view-in-github",
        "colab_type": "text"
      },
      "source": [
        "<a href=\"https://colab.research.google.com/github/souravgopal25/Data-Structure-Algorithm-Nanodegree/blob/master/LCS.ipynb\" target=\"_parent\"><img src=\"https://colab.research.google.com/assets/colab-badge.svg\" alt=\"Open In Colab\"/></a>"
      ]
    },
    {
      "cell_type": "code",
      "metadata": {
        "id": "7FPxpHnh8PcE",
        "colab_type": "code",
        "colab": {}
      },
      "source": [
        "def lcs(string_a, string_b):\n",
        "    lookup_table = [[0 for x in range(len(string_b) + 1)] for x in range(len(string_a) + 1)]\n",
        "\n",
        "    for char_a_i, char_a in enumerate(string_a):\n",
        "        for char_b_i, char_b in enumerate(string_b):\n",
        "            if char_a == char_b:\n",
        "                lookup_table[char_a_i + 1][char_b_i + 1] = lookup_table[char_a_i][char_b_i] + 1\n",
        "            else:\n",
        "                lookup_table[char_a_i + 1][char_b_i + 1] = max(\n",
        "                    lookup_table[char_a_i][char_b_i + 1],\n",
        "                    lookup_table[char_a_i + 1][char_b_i])\n",
        "\n",
        "    return lookup_table[-1][-1]"
      ],
      "execution_count": 0,
      "outputs": []
    },
    {
      "cell_type": "code",
      "metadata": {
        "id": "NzMkkfWN9h3h",
        "colab_type": "code",
        "colab": {
          "base_uri": "https://localhost:8080/",
          "height": 68
        },
        "outputId": "392ad7e6-c757-4d1f-9b45-707d4d0330bb"
      },
      "source": [
        "test_A1 = \"WHOWEEKLY\"\n",
        "test_B1 = \"HOWONLY\"\n",
        "\n",
        "lcs_val1 = lcs(test_A1, test_B1)\n",
        "\n",
        "test_A2 = \"CATSINSPACETWO\"\n",
        "test_B2 = \"DOGSPACEWHO\"\n",
        "\n",
        "lcs_val2 = lcs(test_A2, test_B2)\n",
        "\n",
        "print('LCS val 1 = ', lcs_val1)\n",
        "assert lcs_val1==5, \"Incorrect LCS value.\"\n",
        "print('LCS val 2 = ', lcs_val2)\n",
        "assert lcs_val2==7, \"Incorrect LCS value.\"\n",
        "print('Tests passed!')"
      ],
      "execution_count": 2,
      "outputs": [
        {
          "output_type": "stream",
          "text": [
            "LCS val 1 =  5\n",
            "LCS val 2 =  7\n",
            "Tests passed!\n"
          ],
          "name": "stdout"
        }
      ]
    },
    {
      "cell_type": "code",
      "metadata": {
        "id": "b12c4Byt9xGr",
        "colab_type": "code",
        "colab": {}
      },
      "source": [
        ""
      ],
      "execution_count": 0,
      "outputs": []
    }
  ]
}