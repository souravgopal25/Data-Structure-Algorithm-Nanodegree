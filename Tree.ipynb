{
  "nbformat": 4,
  "nbformat_minor": 0,
  "metadata": {
    "colab": {
      "name": "Tree.ipynb",
      "provenance": [],
      "authorship_tag": "ABX9TyOu7LLfMrScJgufi+mKsJgm",
      "include_colab_link": true
    },
    "kernelspec": {
      "name": "python3",
      "display_name": "Python 3"
    }
  },
  "cells": [
    {
      "cell_type": "markdown",
      "metadata": {
        "id": "view-in-github",
        "colab_type": "text"
      },
      "source": [
        "<a href=\"https://colab.research.google.com/github/souravgopal25/Data-Structure-Algorithm-Nanodegree/blob/master/Tree.ipynb\" target=\"_parent\"><img src=\"https://colab.research.google.com/assets/colab-badge.svg\" alt=\"Open In Colab\"/></a>"
      ]
    },
    {
      "cell_type": "code",
      "metadata": {
        "id": "DKDwYlsdqcKT",
        "colab_type": "code",
        "colab": {}
      },
      "source": [
        "class Node(object):\n",
        "  def __init__(self,value=None):\n",
        "    self.value=value\n",
        "    self.left=None\n",
        "    self.right=None\n",
        "  \n",
        "  def getValue(self):\n",
        "    return self.value\n",
        "  \n",
        "  def setValue(self,value):\n",
        "    self.value=value\n",
        "  \n",
        "  def get_left_child(self):\n",
        "    return self.left\n",
        "  \n",
        "  def get_right_child(self):\n",
        "    return self.right\n",
        "  \n",
        "  def set_left_child(self,node):\n",
        "    self.left=node\n",
        "  \n",
        "  def set_right_child(self,node):\n",
        "    self.right=node  \n",
        "  \n",
        "  def has_left_child(self):\n",
        "    return self.left!=None\n",
        "  \n",
        "  def has_right_child(self):\n",
        "    return self.right!=None"
      ],
      "execution_count": 0,
      "outputs": []
    },
    {
      "cell_type": "code",
      "metadata": {
        "id": "10VQLkhEr9zZ",
        "colab_type": "code",
        "colab": {
          "base_uri": "https://localhost:8080/",
          "height": 102
        },
        "outputId": "14e7a9fb-a60d-45e9-a373-c736ec88ec35"
      },
      "source": [
        "node0 = Node(10)\n",
        "print(f\"\"\"\n",
        "value: {node0.value}\n",
        "left: {node0.left}\n",
        "right: {node0.right}\n",
        "\"\"\")"
      ],
      "execution_count": 19,
      "outputs": [
        {
          "output_type": "stream",
          "text": [
            "\n",
            "value: 10\n",
            "left: None\n",
            "right: None\n",
            "\n"
          ],
          "name": "stdout"
        }
      ]
    },
    {
      "cell_type": "code",
      "metadata": {
        "id": "4wrQ7gmqsSkN",
        "colab_type": "code",
        "colab": {
          "base_uri": "https://localhost:8080/",
          "height": 102
        },
        "outputId": "a94d4539-c09c-4e91-8e57-8a8332cbe0da"
      },
      "source": [
        "node0 = Node(\"apple\")\n",
        "node1 = Node(\"banana\")\n",
        "node2 = Node(\"orange\")\n",
        "node0.set_left_child(node1)\n",
        "node0.set_right_child(node2)\n",
        "\n",
        "print(f\"\"\"\n",
        "node 0: {node0.value}\n",
        "node 0 left child: {node0.left.value}\n",
        "node 0 right child: {node0.right.value}\n",
        "\"\"\")"
      ],
      "execution_count": 20,
      "outputs": [
        {
          "output_type": "stream",
          "text": [
            "\n",
            "node 0: apple\n",
            "node 0 left child: banana\n",
            "node 0 right child: orange\n",
            "\n"
          ],
          "name": "stdout"
        }
      ]
    },
    {
      "cell_type": "code",
      "metadata": {
        "id": "LnfYYhjQtbWF",
        "colab_type": "code",
        "colab": {
          "base_uri": "https://localhost:8080/",
          "height": 102
        },
        "outputId": "cae9be75-6f6f-4da7-c007-87eda2e0ca30"
      },
      "source": [
        "\n",
        "node0 = Node(\"apple\")\n",
        "node1 = Node(\"banana\")\n",
        "node2 = Node(\"orange\")\n",
        "\n",
        "print(f\"has left child? {node0.has_left_child()}\")\n",
        "print(f\"has right child? {node0.has_right_child()}\")\n",
        "\n",
        "print(\"adding left and right children\")\n",
        "node0.set_left_child(node1)\n",
        "node0.set_right_child(node2)\n",
        "\n",
        "print(f\"has left child? {node0.has_left_child()}\")\n",
        "print(f\"has right child? {node0.has_right_child()}\")"
      ],
      "execution_count": 21,
      "outputs": [
        {
          "output_type": "stream",
          "text": [
            "has left child? False\n",
            "has right child? False\n",
            "adding left and right children\n",
            "has left child? True\n",
            "has right child? True\n"
          ],
          "name": "stdout"
        }
      ]
    },
    {
      "cell_type": "markdown",
      "metadata": {
        "id": "QrtV3lTPwVDW",
        "colab_type": "text"
      },
      "source": [
        "## Task 06: Create a binary tree\n",
        "\n",
        "Create a class called `Tree` that has a \"root\" instance variable of type `Node`.\n",
        "\n",
        "Also define a get_root method that returns the root node."
      ]
    },
    {
      "cell_type": "code",
      "metadata": {
        "id": "MH62TP1lwaes",
        "colab_type": "code",
        "colab": {}
      },
      "source": [
        "class Tree(object):\n",
        "  def __init__(self,value):\n",
        "    self.root=Node(value)\n",
        "  def get_root(self):\n",
        "    return self.root"
      ],
      "execution_count": 0,
      "outputs": []
    },
    {
      "cell_type": "code",
      "metadata": {
        "id": "vUsZHz1EwWhw",
        "colab_type": "code",
        "colab": {}
      },
      "source": [
        ""
      ],
      "execution_count": 0,
      "outputs": []
    }
  ]
}