{
  "nbformat": 4,
  "nbformat_minor": 0,
  "metadata": {
    "colab": {
      "name": "GraphDFS.ipynb",
      "provenance": [],
      "authorship_tag": "ABX9TyMoN1QYs2aHfhXnkVo4oEGG",
      "include_colab_link": true
    },
    "kernelspec": {
      "name": "python3",
      "display_name": "Python 3"
    }
  },
  "cells": [
    {
      "cell_type": "markdown",
      "metadata": {
        "id": "view-in-github",
        "colab_type": "text"
      },
      "source": [
        "<a href=\"https://colab.research.google.com/github/souravgopal25/Data-Structure-Algorithm-Nanodegree/blob/master/GraphDFS.ipynb\" target=\"_parent\"><img src=\"https://colab.research.google.com/assets/colab-badge.svg\" alt=\"Open In Colab\"/></a>"
      ]
    },
    {
      "cell_type": "markdown",
      "metadata": {
        "id": "7WfKQQV5fvFD",
        "colab_type": "text"
      },
      "source": [
        "#DFS\n"
      ]
    },
    {
      "cell_type": "code",
      "metadata": {
        "id": "08gRdoUYfOUc",
        "colab_type": "code",
        "colab": {}
      },
      "source": [
        "class GraphNode(object):\n",
        "    def __init__(self, val):\n",
        "        self.value = val\n",
        "        self.children = []\n",
        "        \n",
        "    def add_child(self,new_node):\n",
        "        self.children.append(new_node)\n",
        "    \n",
        "    def remove_child(self,del_node):\n",
        "        if del_node in self.children:\n",
        "            self.children.remove(del_node)\n",
        "\n",
        "class Graph(object):\n",
        "    def __init__(self,node_list):\n",
        "        self.nodes = node_list\n",
        "        \n",
        "    def add_edge(self,node1,node2):\n",
        "        if(node1 in self.nodes and node2 in self.nodes):\n",
        "            node1.add_child(node2)\n",
        "            node2.add_child(node1)\n",
        "            \n",
        "    def remove_edge(self,node1,node2):\n",
        "        if(node1 in self.nodes and node2 in self.nodes):\n",
        "            node1.remove_child(node2)\n",
        "            node2.remove_child(node1)"
      ],
      "execution_count": 0,
      "outputs": []
    },
    {
      "cell_type": "code",
      "metadata": {
        "id": "IWyaJcyQfj75",
        "colab_type": "code",
        "colab": {}
      },
      "source": [
        "nodeG = GraphNode('G')\n",
        "nodeR = GraphNode('R')\n",
        "nodeA = GraphNode('A')\n",
        "nodeP = GraphNode('P')\n",
        "nodeH = GraphNode('H')\n",
        "nodeS = GraphNode('S')\n",
        "\n",
        "graph1 = Graph([nodeS,nodeH,nodeG,nodeP,nodeR,nodeA] ) \n",
        "graph1.add_edge(nodeG,nodeR)\n",
        "graph1.add_edge(nodeA,nodeR)\n",
        "graph1.add_edge(nodeA,nodeG)\n",
        "graph1.add_edge(nodeR,nodeP)\n",
        "graph1.add_edge(nodeH,nodeG)\n",
        "graph1.add_edge(nodeH,nodeP)\n",
        "graph1.add_edge(nodeS,nodeR)"
      ],
      "execution_count": 0,
      "outputs": []
    },
    {
      "cell_type": "markdown",
      "metadata": {
        "id": "ItzYaSpygGvQ",
        "colab_type": "text"
      },
      "source": [
        "# ITERATIVE SOLUTION OF DFS"
      ]
    },
    {
      "cell_type": "code",
      "metadata": {
        "id": "7mvF-ZRNfpGa",
        "colab_type": "code",
        "colab": {}
      },
      "source": [
        "def dfs_search(root_node, search_value):\n",
        "    visited = []\n",
        "    stack = [root_node]\n",
        "    \n",
        "    while len(stack) > 0:\n",
        "        current_node = stack.pop()\n",
        "        visited.append(current_node)\n",
        "\n",
        "        if current_node.value == search_value:\n",
        "            return current_node\n",
        "\n",
        "        for child in current_node.children:\n",
        "            if child not in visited:\n",
        "                stack.append(child)"
      ],
      "execution_count": 0,
      "outputs": []
    },
    {
      "cell_type": "code",
      "metadata": {
        "id": "tt4hEKU-f9mR",
        "colab_type": "code",
        "colab": {
          "base_uri": "https://localhost:8080/",
          "height": 425
        },
        "outputId": "4be8f212-f5c0-4736-e3d3-4ddc30e50140"
      },
      "source": [
        "for each in graph1.nodes:\n",
        "    print('parent node = ',each.value,end='\\nchildren\\n')\n",
        "    for each in each.children:\n",
        "        print(each.value,end=' ')\n",
        "    print('\\n')"
      ],
      "execution_count": 9,
      "outputs": [
        {
          "output_type": "stream",
          "text": [
            "parent node =  S\n",
            "children\n",
            "R \n",
            "\n",
            "parent node =  H\n",
            "children\n",
            "G P \n",
            "\n",
            "parent node =  G\n",
            "children\n",
            "R A H \n",
            "\n",
            "parent node =  P\n",
            "children\n",
            "R H \n",
            "\n",
            "parent node =  R\n",
            "children\n",
            "G A P S \n",
            "\n",
            "parent node =  A\n",
            "children\n",
            "R G \n",
            "\n"
          ],
          "name": "stdout"
        }
      ]
    },
    {
      "cell_type": "markdown",
      "metadata": {
        "id": "Fk8N3oBzgVg1",
        "colab_type": "text"
      },
      "source": [
        "#USING RECURSION"
      ]
    },
    {
      "cell_type": "code",
      "metadata": {
        "id": "7FbFVYiegAA5",
        "colab_type": "code",
        "colab": {}
      },
      "source": [
        "def dfs_recursion_start(self, start_node):\n",
        "    visited = {}\n",
        "    self.dfs_recursion(start_node, visited)\n",
        "\n",
        "def dfs_recursion(self, node,visited):\n",
        "    \n",
        "    if(node == None):\n",
        "        return False\n",
        "    \n",
        "    visited[node.value] = True\n",
        "    print(node.value)\n",
        "    \n",
        "    for each in node.children:\n",
        "        if( each.value not in visited ):\n",
        "            self.dfs_recursion(each,visited)"
      ],
      "execution_count": 0,
      "outputs": []
    },
    {
      "cell_type": "code",
      "metadata": {
        "id": "34AxN4rCgZAa",
        "colab_type": "code",
        "colab": {
          "base_uri": "https://localhost:8080/",
          "height": 119
        },
        "outputId": "7e129cfe-bc21-4a90-9652-addaac04328a"
      },
      "source": [
        "Graph.dfs_recursion_start = dfs_recursion_start\n",
        "\n",
        "Graph.dfs_recursion = dfs_recursion\n",
        "\n",
        "graph1.dfs_recursion_start(nodeG)    "
      ],
      "execution_count": 8,
      "outputs": [
        {
          "output_type": "stream",
          "text": [
            "G\n",
            "R\n",
            "A\n",
            "P\n",
            "H\n",
            "S\n"
          ],
          "name": "stdout"
        }
      ]
    },
    {
      "cell_type": "code",
      "metadata": {
        "id": "-6Jp0LAxgbGf",
        "colab_type": "code",
        "colab": {}
      },
      "source": [
        ""
      ],
      "execution_count": 0,
      "outputs": []
    }
  ]
}