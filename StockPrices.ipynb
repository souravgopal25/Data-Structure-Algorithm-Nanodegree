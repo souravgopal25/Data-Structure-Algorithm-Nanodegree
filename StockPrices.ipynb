{
  "nbformat": 4,
  "nbformat_minor": 0,
  "metadata": {
    "colab": {
      "name": "StockPrices.ipynb",
      "provenance": [],
      "authorship_tag": "ABX9TyNbeCexHF8s9T+B65XWYuEF",
      "include_colab_link": true
    },
    "kernelspec": {
      "name": "python3",
      "display_name": "Python 3"
    }
  },
  "cells": [
    {
      "cell_type": "markdown",
      "metadata": {
        "id": "view-in-github",
        "colab_type": "text"
      },
      "source": [
        "<a href=\"https://colab.research.google.com/github/souravgopal25/Data-Structure-Algorithm-Nanodegree/blob/master/StockPrices.ipynb\" target=\"_parent\"><img src=\"https://colab.research.google.com/assets/colab-badge.svg\" alt=\"Open In Colab\"/></a>"
      ]
    },
    {
      "cell_type": "code",
      "metadata": {
        "id": "OCsDFaDd-3jl",
        "colab_type": "code",
        "colab": {}
      },
      "source": [
        "def max_returns(arr):\n",
        "    \"\"\"\n",
        "    The idea is to pick two dates:\n",
        "        1. buy date\n",
        "        2. sell date\n",
        "    We will keep track of our max profit while iterating over the list\n",
        "    At each step we will make the greedy choice by choosing prices such that our profit is maximum \n",
        "    \"\"\"\n",
        "    min_price_index = 0\n",
        "    max_price_index = 1\n",
        "    current_min_price_index = 0\n",
        "    \n",
        "    if len(arr) < 2:\n",
        "        return\n",
        "    \n",
        "    for index in range(1, len(arr)):\n",
        "        # current minimum price\n",
        "        if arr[index] < arr[current_min_price_index]:\n",
        "            current_min_price_index = index\n",
        "            \n",
        "        # current max profit\n",
        "        if arr[max_price_index] - arr[min_price_index] < arr[index] - arr[current_min_price_index]:\n",
        "            max_price_index = index\n",
        "            min_price_index = current_min_price_index\n",
        "    max_profit = arr[max_price_index] - arr[min_price_index]\n",
        "    return max_profit"
      ],
      "execution_count": 0,
      "outputs": []
    },
    {
      "cell_type": "code",
      "metadata": {
        "id": "QR4XBn5q_B12",
        "colab_type": "code",
        "colab": {}
      },
      "source": [
        "def test_function(test_case):\n",
        "    prices = test_case[0]\n",
        "    solution = test_case[1]\n",
        "    output = max_returns(prices)\n",
        "    if output == solution:\n",
        "        print(\"Pass\")\n",
        "    else:\n",
        "        print(\"Fail\")"
      ],
      "execution_count": 0,
      "outputs": []
    },
    {
      "cell_type": "code",
      "metadata": {
        "id": "nnxNbkap_Do6",
        "colab_type": "code",
        "colab": {
          "base_uri": "https://localhost:8080/",
          "height": 34
        },
        "outputId": "ac7437a6-6d0e-4916-df63-bc3ee31bdc53"
      },
      "source": [
        "prices = [2, 2, 7, 9, 9, 12, 18, 23, 34, 37, 45, 54, 78]\n",
        "solution = 76\n",
        "test_case = [prices, solution]\n",
        "test_function(test_case)"
      ],
      "execution_count": 3,
      "outputs": [
        {
          "output_type": "stream",
          "text": [
            "Pass\n"
          ],
          "name": "stdout"
        }
      ]
    },
    {
      "cell_type": "code",
      "metadata": {
        "id": "0a-FuWTN_Ft4",
        "colab_type": "code",
        "colab": {
          "base_uri": "https://localhost:8080/",
          "height": 34
        },
        "outputId": "3c210f17-f1eb-4068-f947-64d25eea87f2"
      },
      "source": [
        "prices = [54, 18, 37, 9, 11, 48, 23, 1, 7, 34, 2, 45, 67]\n",
        "solution = 66\n",
        "test_case = [prices, solution]\n",
        "test_function(test_case)"
      ],
      "execution_count": 4,
      "outputs": [
        {
          "output_type": "stream",
          "text": [
            "Pass\n"
          ],
          "name": "stdout"
        }
      ]
    },
    {
      "cell_type": "code",
      "metadata": {
        "id": "d6LassNq_HUB",
        "colab_type": "code",
        "colab": {}
      },
      "source": [
        ""
      ],
      "execution_count": 0,
      "outputs": []
    }
  ]
}