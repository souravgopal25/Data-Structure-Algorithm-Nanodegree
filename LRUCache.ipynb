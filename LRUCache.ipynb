{
  "nbformat": 4,
  "nbformat_minor": 0,
  "metadata": {
    "colab": {
      "name": "LRUCache.ipynb",
      "provenance": [],
      "authorship_tag": "ABX9TyO9bAlcELsOKfMkW7jYVptR",
      "include_colab_link": true
    },
    "kernelspec": {
      "name": "python3",
      "display_name": "Python 3"
    }
  },
  "cells": [
    {
      "cell_type": "markdown",
      "metadata": {
        "id": "view-in-github",
        "colab_type": "text"
      },
      "source": [
        "<a href=\"https://colab.research.google.com/github/souravgopal25/Data-Structure-Algorithm-Nanodegree/blob/master/LRUCache.ipynb\" target=\"_parent\"><img src=\"https://colab.research.google.com/assets/colab-badge.svg\" alt=\"Open In Colab\"/></a>"
      ]
    },
    {
      "cell_type": "code",
      "metadata": {
        "id": "Dqqk1SCTEtUj",
        "colab_type": "code",
        "colab": {}
      },
      "source": [
        "class Node:\n",
        "  def __init__(self,key,value):\n",
        "    self.key=key\n",
        "    self.value=value\n",
        "    self.next=None\n",
        "    self.prev=None\n",
        "    "
      ],
      "execution_count": 0,
      "outputs": []
    },
    {
      "cell_type": "code",
      "metadata": {
        "id": "6GcXdXzcFMQj",
        "colab_type": "code",
        "colab": {}
      },
      "source": [
        "class LRU_Cache(object):\n",
        "  def __init__(self,capacity):\n",
        "    self.capacity=capacity\n",
        "    self.count=0\n",
        "    self.table={}\n",
        "    self.head=self.tail=None\n",
        "  \n",
        "  def get(self,key):\n",
        "    if key in self.table.keys():\n",
        "      node=self.table[key]\n",
        "      print(type(node))\n",
        "      if node==self.head and node==self.tail:\n",
        "        return node.value\n",
        "      elif node==self.tail:\n",
        "        return node.value\n",
        "      elif node==self.head:\n",
        "        self.head.next.prev=None\n",
        "        self.head=self.head.next\n",
        "        node.prev=self.tail\n",
        "        node.next=None\n",
        "        self.tail.next=node\n",
        "        self.tail=node \n",
        "        return node.value\n",
        "      else:\n",
        "        node.prev.next=node.next\n",
        "        node.next.prev=node.prev\n",
        "        node.prev=self.tail\n",
        "        self.tail.next=node\n",
        "        self.tail=node\n",
        "        return node.value\n",
        "    else:\n",
        "      return -1\n",
        "        \n",
        "\n",
        "\n",
        "\n",
        "  \n",
        "  def set(self,key,value):\n",
        "    node=Node(key,value)\n",
        "    self.table[key]=node\n",
        "    if self.count==0:\n",
        "      self.head=self.tail=node\n",
        "      self.count+=1\n",
        "    elif self.count<self.capacity:\n",
        "      #if there is node less than capacity\n",
        "      self.count+=1\n",
        "      self.tail.next=node\n",
        "      self.tail=node          \n",
        "    #if capacity is full\n",
        "    else:\n",
        "      curr_node=self.head\n",
        "      #deleted from dictionary\n",
        "      del self.table[curr_node.key]\n",
        "      # deleting from linked list\n",
        "      curr_node.next.prev=None\n",
        "      self.head=curr_node.next      \n",
        "      del curr_node\n",
        "      nodeX=self.tail\n",
        "      nodeX.next=node\n",
        "      node.prev=nodeX\n",
        "      self.tail=node\n",
        "  \n",
        "  def display(self):\n",
        "    node=self.head\n",
        "    print(\"_________________________________________________\")\n",
        "    while(node!=None):\n",
        "      if node==self.tail:\n",
        "        print(\"{} value is tail\".format(node.value))\n",
        "        break\n",
        "      else:\n",
        "        print(node.value)\n",
        "        node=node.next\n",
        "    print(\"_________________________________________________\")\n",
        "\n",
        "\n",
        "\n",
        "\n",
        "\n",
        "\n",
        "\n",
        "\n"
      ],
      "execution_count": 0,
      "outputs": []
    },
    {
      "cell_type": "code",
      "metadata": {
        "id": "sPww3Bq0ZnkH",
        "colab_type": "code",
        "colab": {}
      },
      "source": [
        "cache=LRU_Cache(5)"
      ],
      "execution_count": 0,
      "outputs": []
    },
    {
      "cell_type": "code",
      "metadata": {
        "id": "X-d-_CCBlBMZ",
        "colab_type": "code",
        "outputId": "4f29b881-4db7-4ca4-f73c-f3bc7fb837ee",
        "colab": {
          "base_uri": "https://localhost:8080/",
          "height": 323
        }
      },
      "source": [
        "cache.set(1,1)\n",
        "cache.display()\n",
        "cache.set(2,2)\n",
        "cache.display()\n",
        "cache.set(3,3)\n",
        "cache.display()\n",
        "cache.set(4,4)\n",
        "cache.display()"
      ],
      "execution_count": 0,
      "outputs": [
        {
          "output_type": "stream",
          "text": [
            "_________________________________________________\n",
            "1 value is tail\n",
            "_________________________________________________\n",
            "_________________________________________________\n",
            "1\n",
            "2 value is tail\n",
            "_________________________________________________\n",
            "_________________________________________________\n",
            "1\n",
            "2\n",
            "3 value is tail\n",
            "_________________________________________________\n",
            "_________________________________________________\n",
            "1\n",
            "2\n",
            "3\n",
            "4 value is tail\n",
            "_________________________________________________\n"
          ],
          "name": "stdout"
        }
      ]
    },
    {
      "cell_type": "code",
      "metadata": {
        "id": "W0K4jQvMaV9B",
        "colab_type": "code",
        "outputId": "723cc203-c156-4cb2-ef9a-f2f35b8cede5",
        "colab": {
          "base_uri": "https://localhost:8080/",
          "height": 408
        }
      },
      "source": [
        "print(cache.get(1))\n",
        "cache.display()\n",
        "print(cache.get(2))\n",
        "cache.display()\n",
        "print(cache.get(9))\n",
        "cache.display()\n"
      ],
      "execution_count": 0,
      "outputs": [
        {
          "output_type": "stream",
          "text": [
            "<class '__main__.Node'>\n",
            "1\n",
            "_________________________________________________\n",
            "2\n",
            "3\n",
            "4\n",
            "1 value is tail\n",
            "_________________________________________________\n",
            "<class '__main__.Node'>\n",
            "2\n",
            "_________________________________________________\n",
            "3\n",
            "4\n",
            "1\n",
            "2 value is tail\n",
            "_________________________________________________\n",
            "-1\n",
            "_________________________________________________\n",
            "3\n",
            "4\n",
            "1\n",
            "2 value is tail\n",
            "_________________________________________________\n"
          ],
          "name": "stdout"
        }
      ]
    },
    {
      "cell_type": "code",
      "metadata": {
        "id": "KZR2mAYGa0KG",
        "colab_type": "code",
        "outputId": "6e306e22-517c-416b-9ce4-fe967335d00e",
        "colab": {
          "base_uri": "https://localhost:8080/",
          "height": 272
        }
      },
      "source": [
        "\n",
        "cache.set(5,5)\n",
        "cache.display()\n",
        "cache.set(6,6)\n",
        "cache.display()\n",
        "print(cache.get(3))"
      ],
      "execution_count": 0,
      "outputs": [
        {
          "output_type": "stream",
          "text": [
            "_________________________________________________\n",
            "1\n",
            "2\n",
            "5\n",
            "6\n",
            "5 value is tail\n",
            "_________________________________________________\n",
            "_________________________________________________\n",
            "2\n",
            "5\n",
            "6\n",
            "5\n",
            "6 value is tail\n",
            "_________________________________________________\n",
            "-1\n"
          ],
          "name": "stdout"
        }
      ]
    },
    {
      "cell_type": "code",
      "metadata": {
        "id": "QsKrJVB6rydD",
        "colab_type": "code",
        "colab": {}
      },
      "source": [
        ""
      ],
      "execution_count": 0,
      "outputs": []
    }
  ]
}