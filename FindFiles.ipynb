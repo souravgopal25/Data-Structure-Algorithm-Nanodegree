{
  "nbformat": 4,
  "nbformat_minor": 0,
  "metadata": {
    "colab": {
      "name": "FindFiles.ipynb",
      "provenance": [],
      "authorship_tag": "ABX9TyNGzdLBNFoVG+KpB3XbmoRc",
      "include_colab_link": true
    },
    "kernelspec": {
      "name": "python3",
      "display_name": "Python 3"
    }
  },
  "cells": [
    {
      "cell_type": "markdown",
      "metadata": {
        "id": "view-in-github",
        "colab_type": "text"
      },
      "source": [
        "<a href=\"https://colab.research.google.com/github/souravgopal25/Data-Structure-Algorithm-Nanodegree/blob/master/FindFiles.ipynb\" target=\"_parent\"><img src=\"https://colab.research.google.com/assets/colab-badge.svg\" alt=\"Open In Colab\"/></a>"
      ]
    },
    {
      "cell_type": "code",
      "metadata": {
        "id": "RH8AvtmI4adK",
        "colab_type": "code",
        "colab": {
          "base_uri": "https://localhost:8080/",
          "height": 323
        },
        "outputId": "9a2e21cc-3fe8-4284-c161-24f09c3ba2ab"
      },
      "source": [
        "import os\n",
        "#!unzip testdir"
      ],
      "execution_count": 1,
      "outputs": [
        {
          "output_type": "stream",
          "text": [
            "Archive:  testdir.zip\n",
            "   creating: testdir/\n",
            "   creating: testdir/subdir4/\n",
            " extracting: testdir/subdir4/.gitkeep  \n",
            "   creating: testdir/subdir3/\n",
            "   creating: testdir/subdir3/subsubdir1/\n",
            " extracting: testdir/subdir3/subsubdir1/b.h  \n",
            " extracting: testdir/subdir3/subsubdir1/b.c  \n",
            " extracting: testdir/t1.c            \n",
            "   creating: testdir/subdir2/\n",
            " extracting: testdir/subdir2/.gitkeep  \n",
            "   creating: testdir/subdir5/\n",
            " extracting: testdir/subdir5/a.h     \n",
            " extracting: testdir/subdir5/a.c     \n",
            " extracting: testdir/t1.h            \n",
            "   creating: testdir/subdir1/\n",
            " extracting: testdir/subdir1/a.h     \n",
            " extracting: testdir/subdir1/a.c     \n"
          ],
          "name": "stdout"
        }
      ]
    },
    {
      "cell_type": "code",
      "metadata": {
        "id": "S1qf4jHb4mz8",
        "colab_type": "code",
        "colab": {}
      },
      "source": [
        "def find_files(suffix, path):\n",
        "    \"\"\"\n",
        "    Find all files beneath path with file name suffix.\n",
        "\n",
        "    Note that a path may contain further subdirectories\n",
        "    and those subdirectories may also contain further subdirectories.\n",
        "\n",
        "    There are no limit to the depth of the subdirectories can be.\n",
        "\n",
        "    Args:\n",
        "      suffix(str): suffix if the file name to be found\n",
        "      path(str): path of the file system\n",
        "\n",
        "    Returns:\n",
        "       a list of paths\n",
        "    \"\"\"\n",
        "    files=[]\n",
        "    if os.path.isfile(path):\n",
        "      if path.endswith(suffix):\n",
        "        return [path]\n",
        "    else:\n",
        "      path_list=os.listdir(path)\n",
        "      for item in path_list:\n",
        "        new_path=path+\"/\"+item\n",
        "        files+=find_files(suffix,new_path)\n",
        "    return files\n"
      ],
      "execution_count": 0,
      "outputs": []
    },
    {
      "cell_type": "code",
      "metadata": {
        "id": "xPF8_8UQ5mAi",
        "colab_type": "code",
        "colab": {}
      },
      "source": [
        "fileList=find_files(\"\",\".\")"
      ],
      "execution_count": 0,
      "outputs": []
    },
    {
      "cell_type": "code",
      "metadata": {
        "id": "Hk3kucO75spk",
        "colab_type": "code",
        "colab": {
          "base_uri": "https://localhost:8080/",
          "height": 544
        },
        "outputId": "3177e26e-ab05-4245-e2c0-c59ece9548a7"
      },
      "source": [
        "for item in fileList:\n",
        "  print(item)"
      ],
      "execution_count": 5,
      "outputs": [
        {
          "output_type": "stream",
          "text": [
            "./.config/.last_opt_in_prompt.yaml\n",
            "./.config/active_config\n",
            "./.config/.last_update_check.json\n",
            "./.config/logs/2020.05.04/16.25.19.382553.log\n",
            "./.config/logs/2020.05.04/16.25.32.984884.log\n",
            "./.config/logs/2020.05.04/16.25.52.162617.log\n",
            "./.config/logs/2020.05.04/16.25.01.622770.log\n",
            "./.config/logs/2020.05.04/16.25.37.204320.log\n",
            "./.config/logs/2020.05.04/16.25.51.568729.log\n",
            "./.config/configurations/config_default\n",
            "./.config/.last_survey_prompt.yaml\n",
            "./.config/gce\n",
            "./.config/config_sentinel\n",
            "./.config/.metricsUUID\n",
            "./testdir.zip\n",
            "./testdir/subdir2/.gitkeep\n",
            "./testdir/subdir3/subsubdir1/b.h\n",
            "./testdir/subdir3/subsubdir1/b.c\n",
            "./testdir/t1.h\n",
            "./testdir/subdir1/a.h\n",
            "./testdir/subdir1/a.c\n",
            "./testdir/t1.c\n",
            "./testdir/subdir4/.gitkeep\n",
            "./testdir/subdir5/a.h\n",
            "./testdir/subdir5/a.c\n",
            "./sample_data/README.md\n",
            "./sample_data/anscombe.json\n",
            "./sample_data/california_housing_test.csv\n",
            "./sample_data/mnist_test.csv\n",
            "./sample_data/california_housing_train.csv\n",
            "./sample_data/mnist_train_small.csv\n"
          ],
          "name": "stdout"
        }
      ]
    },
    {
      "cell_type": "code",
      "metadata": {
        "id": "Tf6NuzaZ55bc",
        "colab_type": "code",
        "colab": {}
      },
      "source": [
        ""
      ],
      "execution_count": 0,
      "outputs": []
    }
  ]
}