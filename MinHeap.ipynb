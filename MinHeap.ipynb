{
  "nbformat": 4,
  "nbformat_minor": 0,
  "metadata": {
    "colab": {
      "name": "MinHeap.ipynb",
      "provenance": [],
      "authorship_tag": "ABX9TyPfHZXkMrKEBIUK9ZztyMhs",
      "include_colab_link": true
    },
    "kernelspec": {
      "name": "python3",
      "display_name": "Python 3"
    }
  },
  "cells": [
    {
      "cell_type": "markdown",
      "metadata": {
        "id": "view-in-github",
        "colab_type": "text"
      },
      "source": [
        "<a href=\"https://colab.research.google.com/github/souravgopal25/Data-Structure-Algorithm-Nanodegree/blob/master/MinHeap.ipynb\" target=\"_parent\"><img src=\"https://colab.research.google.com/assets/colab-badge.svg\" alt=\"Open In Colab\"/></a>"
      ]
    },
    {
      "cell_type": "markdown",
      "metadata": {
        "id": "ufrUb9ls9mUq",
        "colab_type": "text"
      },
      "source": [
        "#HEAP\n",
        "->Min Heap"
      ]
    },
    {
      "cell_type": "code",
      "metadata": {
        "id": "go7S9uUX9lbz",
        "colab_type": "code",
        "colab": {}
      },
      "source": [
        "import sys\n",
        "\n",
        "class MinHeap:\n",
        "\n",
        "  def __init__(self,maxsize):\n",
        "    self.maxsize=maxsize\n",
        "    self.size=0\n",
        "    self.Heap=[0]*(self.maxsize+1)\n",
        "    self.Heap[0]=-1*sys.maxsize\n",
        "    self.FRONT=1\n",
        "\n",
        "  #Function to return the position of parent for the node currently\n",
        "  def parent(self,pos):\n",
        "    return pos//2\n",
        "\n",
        "  #Function to return right child left child\n",
        "  def leftChild(self,pos):\n",
        "    return 2*pos\n",
        "  def rightChild(self,pos):\n",
        "    return (2*pos)+1\n",
        "  \n",
        "  \n",
        "  def isLeaf(self,pos):\n",
        "    if pos>=(self.size//2) and pos<=self.size:\n",
        "      return True\n",
        "    return False\n",
        "  \n",
        "  def swap(self,fpos,spos):\n",
        "    self.Heap[fpos],self.Heap[spos]=self.Heap[spos],self.Heap[fpos]\n",
        "\n",
        "  def minHeapify(self,pos):\n",
        "    # If the node is a non-leaf node and greater \n",
        "    # than any of its child \n",
        "    if not self.isLeaf(pos):\n",
        "      if (self.Heap[pos]>self.Heap[self.leftChild(pos)] or\n",
        "          self.Heap[pos]>self.Heap[self.rightChild(pos)]):\n",
        "               \n",
        "        # Swap with the left child and heapify \n",
        "        # the left child \n",
        "        if self.Heap[self.leftChild(pos)] < self.Heap[self.rightChild(pos)]:\n",
        "          self.swap(pos, self.leftChild(pos)) \n",
        "          self.minHeapify(self.leftChild(pos))\n",
        "        # Swap with right child and heapify\n",
        "        else: \n",
        "          self.swap(pos,self.rightChild(pos))\n",
        "          self.minHeapify(self.rightChild(pos))\n",
        "  \n",
        "  # Function to insert a node into the heap \n",
        "  def insert(self, element):\n",
        "    if self.size >= self.maxsize :\n",
        "      return\n",
        "    self.size+= 1\n",
        "    self.Heap[self.size] = element \n",
        "    \n",
        "    current = self.size \n",
        "    \n",
        "    while self.Heap[current] < self.Heap[self.parent(current)]:\n",
        "      self.swap(current, self.parent(current)) \n",
        "      current = self.parent(current) \n",
        "\n",
        "    # Function to print the contents of the heap \n",
        "  def Print(self): \n",
        "      for i in range(1, (self.size//2)+1): \n",
        "          print(\" PARENT : \"+ str(self.Heap[i])+\" LEFT CHILD : \"+ \n",
        "                                str(self.Heap[2 * i])+\" RIGHT CHILD : \"+\n",
        "                                str(self.Heap[2 * i + 1])) \n",
        "  \n",
        "    # Function to build the min heap using \n",
        "    # the minHeapify function \n",
        "  def minHeap(self): \n",
        "  \n",
        "        for pos in range(self.size//2, 0, -1): \n",
        "            self.minHeapify(pos)\n",
        "    \n",
        "    # Function to remove and return the minimum \n",
        "    # element from the heap\n",
        "  def remove(self): \n",
        "  \n",
        "        popped = self.Heap[self.FRONT] \n",
        "        self.Heap[self.FRONT] = self.Heap[self.size] \n",
        "        self.size-= 1\n",
        "        self.minHeapify(self.FRONT) \n",
        "        return popped \n",
        "\n",
        "  \n"
      ],
      "execution_count": 0,
      "outputs": []
    },
    {
      "cell_type": "code",
      "metadata": {
        "id": "VukwWMCEnmXj",
        "colab_type": "code",
        "colab": {
          "base_uri": "https://localhost:8080/",
          "height": 119
        },
        "outputId": "c8e9e654-194a-44ad-f8c7-ae823c9bef65"
      },
      "source": [
        "print('The minHeap is ') \n",
        "minHeap = MinHeap(15) \n",
        "minHeap.insert(5) \n",
        "minHeap.insert(3) \n",
        "minHeap.insert(17) \n",
        "minHeap.insert(10) \n",
        "minHeap.insert(84) \n",
        "minHeap.insert(19) \n",
        "minHeap.insert(6) \n",
        "minHeap.insert(22) \n",
        "minHeap.insert(9) \n",
        "minHeap.minHeap()\n",
        "\n",
        "minHeap.Print() \n",
        "print(\"The Min val is \" + str(minHeap.remove())) "
      ],
      "execution_count": 14,
      "outputs": [
        {
          "output_type": "stream",
          "text": [
            "The minHeap is \n",
            " PARENT : 3 LEFT CHILD : 5 RIGHT CHILD : 6\n",
            " PARENT : 5 LEFT CHILD : 9 RIGHT CHILD : 84\n",
            " PARENT : 6 LEFT CHILD : 19 RIGHT CHILD : 17\n",
            " PARENT : 9 LEFT CHILD : 22 RIGHT CHILD : 10\n",
            "The Min val is 3\n"
          ],
          "name": "stdout"
        }
      ]
    },
    {
      "cell_type": "markdown",
      "metadata": {
        "id": "PGEMSB67pAuq",
        "colab_type": "text"
      },
      "source": [
        "#USING LIBRARY FUNCTION"
      ]
    },
    {
      "cell_type": "code",
      "metadata": {
        "id": "rSLUn8THnpaf",
        "colab_type": "code",
        "colab": {
          "base_uri": "https://localhost:8080/",
          "height": 119
        },
        "outputId": "086473bc-eb39-4747-9cc2-ea3d70ff70b8"
      },
      "source": [
        "from heapq import heapify, heappush, heappop\n",
        "\n",
        "#creating empty heap\n",
        "heap=[]\n",
        "heapify(heap)\n",
        "\n",
        "# Adding items to the heap using heappush function\n",
        "heappush(heap, 10) \n",
        "heappush(heap, 30) \n",
        "heappush(heap, 20) \n",
        "heappush(heap, 400)\n",
        "\n",
        "# printing the value of minimum element \n",
        "print(\"Head value of heap : \"+str(heap[0]))\n",
        "\n",
        "# printing the elements of the heap \n",
        "print(\"The heap elements : \") \n",
        "for i in heap: \n",
        "    print(i, end = ' ') \n",
        "print(\"\\n\") \n",
        "  \n",
        "element = heappop(heap) \n",
        "  \n",
        "\n",
        "# printing the elements of the heap \n",
        "print(\"The heap elements : \") \n",
        "for i in heap: \n",
        "    print(i, end = ' ') "
      ],
      "execution_count": 16,
      "outputs": [
        {
          "output_type": "stream",
          "text": [
            "Head value of heap : 10\n",
            "The heap elements : \n",
            "10 30 20 400 \n",
            "\n",
            "The heap elements : \n",
            "20 30 400 "
          ],
          "name": "stdout"
        }
      ]
    },
    {
      "cell_type": "code",
      "metadata": {
        "id": "DL-NaDe7pYcj",
        "colab_type": "code",
        "colab": {}
      },
      "source": [
        ""
      ],
      "execution_count": 0,
      "outputs": []
    }
  ]
}