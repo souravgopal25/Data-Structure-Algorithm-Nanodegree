{
  "nbformat": 4,
  "nbformat_minor": 0,
  "metadata": {
    "colab": {
      "name": "ConnectingIsland.ipynb",
      "provenance": [],
      "authorship_tag": "ABX9TyO6PCjReqhiQq+xog4vX5uk",
      "include_colab_link": true
    },
    "kernelspec": {
      "name": "python3",
      "display_name": "Python 3"
    }
  },
  "cells": [
    {
      "cell_type": "markdown",
      "metadata": {
        "id": "view-in-github",
        "colab_type": "text"
      },
      "source": [
        "<a href=\"https://colab.research.google.com/github/souravgopal25/Data-Structure-Algorithm-Nanodegree/blob/master/ConnectingIsland.ipynb\" target=\"_parent\"><img src=\"https://colab.research.google.com/assets/colab-badge.svg\" alt=\"Open In Colab\"/></a>"
      ]
    },
    {
      "cell_type": "markdown",
      "metadata": {
        "id": "-cAVgvGdHc0b",
        "colab_type": "text"
      },
      "source": [
        "### Problem Statements\n",
        "\n",
        "In an ocean, there are `n` islands some of which are connected via bridges. Travelling over a bridge has some cost attaced with it. Find bridges in such a way that all islands are connected with minimum cost of travelling. \n",
        "\n",
        "You can assume that there is at least one possible way in which all islands are connected with each other. \n",
        "\n",
        "You will be provided with two input parameters:\n",
        "    \n",
        "1. `num_islands` = number of islands\n",
        "    \n",
        "2. `bridge_config` = list of lists. \n",
        "    Each inner list will have 3 elements:\n",
        "        a. island A\n",
        "        b. island B\n",
        "        c. cost of bridge connecting both islands\n",
        "                       \n",
        "    Each island is represented using a number\n",
        "     \n",
        "**Example:**                       \n",
        "* `num_islands = 4`\n",
        "* `bridge_config = [[1, 2, 1], [2, 3, 4], [1, 4, 3], [4, 3, 2], [1, 3, 10]]`\n",
        "       \n",
        "Input parameters explanation:\n",
        "    1. Number of islands = 4\n",
        "    2. Island 1 and 2 are connected via a bridge with cost = 1\n",
        "       Island 2 and 3 are connected via a bridge with cost = 4\n",
        "       Island 1 and 4 are connected via a bridge with cost = 3\n",
        "       Island 4 and 3 are connected via a bridge with cost = 2\n",
        "       Island 1 and 3 are connected via a bridge with cost = 10\n",
        "       \n",
        "In this example if we are connecting bridges like this...\n",
        "* between 1 and 2 with cost = 1\n",
        "* between 1 and 4 with cost = 3\n",
        "* between 4 and 3 with cost = 2  \n",
        "\n",
        "...then we connect all 4 islands with `cost = 6` which is the minimum traveling cost.\n"
      ]
    },
    {
      "cell_type": "markdown",
      "metadata": {
        "id": "2Pf9Lc_EHkTY",
        "colab_type": "text"
      },
      "source": [
        "### Hint\n",
        "\n",
        "In addition to using a graph, you may want to use a custom priority queue for solving this problem.\n",
        "\n",
        "If you do not want to create a custom priority queue, you can use Python's `heapq` implementation.\n",
        "\n",
        "Using the `heapq` module, you can convert an existing list of items into a heap. The following two functionalities can be very handy for this problem:\n",
        "\n",
        "1. `heappush(heap, item)` — add `item` to the `heap`\n",
        "2. `heappop(heap)` — remove the smallest item from the `heap`\n",
        "\n",
        "Let's look at the above methods in action. We start by creating a list of integers."
      ]
    },
    {
      "cell_type": "code",
      "metadata": {
        "id": "Cw_nNRXOHHiv",
        "colab_type": "code",
        "colab": {
          "base_uri": "https://localhost:8080/",
          "height": 34
        },
        "outputId": "37ebfb50-2b19-4cef-9f10-ceba03fb64fa"
      },
      "source": [
        "import heapq\n",
        "# initialize an empty list \n",
        "heap = list()\n",
        "\n",
        "# insert 5 into heap\n",
        "heapq.heappush(heap, 6)\n",
        "\n",
        "# insert 6 into heap\n",
        "heapq.heappush(heap, 6)\n",
        "\n",
        "# insert 2 into heap\n",
        "heapq.heappush(heap, 2)\n",
        "\n",
        "# insert 1 into heap\n",
        "heapq.heappush(heap, 1)\n",
        "\n",
        "# insert 9 into heap\n",
        "heapq.heappush(heap, 9)\n",
        "\n",
        "print(\"After pushing, heap looks like: {}\".format(heap))"
      ],
      "execution_count": 2,
      "outputs": [
        {
          "output_type": "stream",
          "text": [
            "After pushing, heap looks like: [1, 2, 6, 6, 9]\n"
          ],
          "name": "stdout"
        }
      ]
    },
    {
      "cell_type": "code",
      "metadata": {
        "id": "EBu2pq6GHoEO",
        "colab_type": "code",
        "colab": {
          "base_uri": "https://localhost:8080/",
          "height": 51
        },
        "outputId": "ea3d1d7c-c910-4558-ab59-d1b93f1d9af9"
      },
      "source": [
        "# pop and return smallest element from the heap\n",
        "smallest = heapq.heappop(heap)   \n",
        "\n",
        "print(\"Smallest element in the original list was: {}\".format(smallest))\n",
        "\n",
        "print(\"After popping, heap looks like: {}\".format(heap))"
      ],
      "execution_count": 3,
      "outputs": [
        {
          "output_type": "stream",
          "text": [
            "Smallest element in the original list was: 1\n",
            "After popping, heap looks like: [2, 6, 6, 9]\n"
          ],
          "name": "stdout"
        }
      ]
    },
    {
      "cell_type": "code",
      "metadata": {
        "id": "t9HeewzxH5G8",
        "colab_type": "code",
        "colab": {
          "base_uri": "https://localhost:8080/",
          "height": 34
        },
        "outputId": "ddae0064-fc35-4451-c018-b2f6d81b4896"
      },
      "source": [
        "heap = list()\n",
        "\n",
        "heapq.heappush(heap, (0, 1))\n",
        "\n",
        "heapq.heappush(heap, (-1, 5))\n",
        "\n",
        "heapq.heappush(heap, (2, 0))\n",
        "\n",
        "heapq.heappush(heap, (5, -1))\n",
        "\n",
        "print(\"After pushing, now heap looks like: {}\".format(heap))"
      ],
      "execution_count": 4,
      "outputs": [
        {
          "output_type": "stream",
          "text": [
            "After pushing, now heap looks like: [(-1, 5), (0, 1), (2, 0), (5, -1)]\n"
          ],
          "name": "stdout"
        }
      ]
    },
    {
      "cell_type": "code",
      "metadata": {
        "id": "p8THdnVqH829",
        "colab_type": "code",
        "colab": {
          "base_uri": "https://localhost:8080/",
          "height": 51
        },
        "outputId": "e0ca69d3-f744-4897-fa95-20ae3b3be02b"
      },
      "source": [
        "# pop and return smallest element from the heap\n",
        "smallest = heapq.heappop(heap)   \n",
        "\n",
        "print(\"Smallest element in the original list was: {}\".format(smallest))\n",
        "\n",
        "print(\"After popping, heap looks like: {}\".format(heap))"
      ],
      "execution_count": 5,
      "outputs": [
        {
          "output_type": "stream",
          "text": [
            "Smallest element in the original list was: (-1, 5)\n",
            "After popping, heap looks like: [(0, 1), (5, -1), (2, 0)]\n"
          ],
          "name": "stdout"
        }
      ]
    },
    {
      "cell_type": "code",
      "metadata": {
        "id": "AlyOY4DcH-uc",
        "colab_type": "code",
        "colab": {}
      },
      "source": [
        "import heapq\n",
        "def create_graph(num_islands, bridge_config):\n",
        "    \"\"\"\n",
        "    Helper function to create graph using adjacency list implementation\n",
        "    \"\"\"\n",
        "    adjacency_list = [list() for _ in range(num_islands + 1)]\n",
        "    \n",
        "    for config in bridge_config:\n",
        "        source = config[0]\n",
        "        destination = config[1]\n",
        "        cost = config[2]\n",
        "        adjacency_list[source].append((destination, cost))\n",
        "        adjacency_list[destination].append((source, cost))\n",
        "\n",
        "    return adjacency_list\n",
        "\n",
        "def minimum_cost(graph):\n",
        "    \"\"\"\n",
        "    Helper function to find minimum cost of connecting all islands\n",
        "    \"\"\"\n",
        "    \n",
        "    # start with vertex 1 (any vertex can be chosen)\n",
        "    start_vertex = 1\n",
        "    \n",
        "    # initialize a list to keep track of vertices that are visited\n",
        "    visited = [False for _ in range(len(graph) + 1)]\n",
        "    \n",
        "    # initialize starting list - (edge_cost, neighbor)\n",
        "    heap = [(0, start_vertex)]\n",
        "    total_cost = 0\n",
        "\n",
        "    while len(heap) > 0:\n",
        "        cost, current_vertex = heapq.heappop(heap)\n",
        "        \n",
        "        # check if current_vertex is already visited\n",
        "        if visited[current_vertex]:\n",
        "            continue\n",
        "\n",
        "        # else add cost to total-cost\n",
        "        total_cost += cost\n",
        "\n",
        "        for neighbor, edge_cost in graph[current_vertex]:\n",
        "            heapq.heappush(heap, (edge_cost, neighbor))\n",
        "\n",
        "        # mark current vertex as visited\n",
        "        visited[current_vertex] = True\n",
        "\n",
        "    return total_cost\n",
        "\n",
        "def get_minimum_cost_of_connecting(num_islands, bridge_config):\n",
        "    graph = create_graph(num_islands, bridge_config)\n",
        "    return minimum_cost(graph)"
      ],
      "execution_count": 0,
      "outputs": []
    },
    {
      "cell_type": "code",
      "metadata": {
        "id": "aFvbS2x3IGXs",
        "colab_type": "code",
        "colab": {}
      },
      "source": [
        "def test_function(test_case):\n",
        "    num_islands = test_case[0]\n",
        "    bridge_config = test_case[1]\n",
        "    solution = test_case[2]\n",
        "    output = get_minimum_cost_of_connecting(num_islands, bridge_config)\n",
        "    \n",
        "    if output == solution:\n",
        "        print(\"Pass\")\n",
        "    else:\n",
        "        print(\"Fail\")"
      ],
      "execution_count": 0,
      "outputs": []
    },
    {
      "cell_type": "code",
      "metadata": {
        "id": "Vn86WwmPIJfN",
        "colab_type": "code",
        "colab": {
          "base_uri": "https://localhost:8080/",
          "height": 34
        },
        "outputId": "46dd8b8a-0fef-42b7-8bd5-90ae92a655af"
      },
      "source": [
        "num_islands = 4\n",
        "bridge_config = [[1, 2, 1], [2, 3, 4], [1, 4, 3], [4, 3, 2], [1, 3, 10]]\n",
        "solution = 6\n",
        "\n",
        "test_case = [num_islands, bridge_config, solution]\n",
        "test_function(test_case)"
      ],
      "execution_count": 8,
      "outputs": [
        {
          "output_type": "stream",
          "text": [
            "Pass\n"
          ],
          "name": "stdout"
        }
      ]
    },
    {
      "cell_type": "code",
      "metadata": {
        "id": "qUyRzTeyILW0",
        "colab_type": "code",
        "colab": {
          "base_uri": "https://localhost:8080/",
          "height": 34
        },
        "outputId": "3be0d3d5-a11f-4a82-c28a-56a6183b911e"
      },
      "source": [
        "num_islands = 5\n",
        "bridge_config = [[1, 2, 5], [1, 3, 8], [2, 3, 9]]\n",
        "solution = 13\n",
        "\n",
        "test_case = [num_islands, bridge_config, solution]\n",
        "test_function(test_case)"
      ],
      "execution_count": 9,
      "outputs": [
        {
          "output_type": "stream",
          "text": [
            "Pass\n"
          ],
          "name": "stdout"
        }
      ]
    },
    {
      "cell_type": "code",
      "metadata": {
        "id": "eM_ncaXWIM89",
        "colab_type": "code",
        "colab": {
          "base_uri": "https://localhost:8080/",
          "height": 34
        },
        "outputId": "6b86d41d-2175-446f-dd5f-35b367335a03"
      },
      "source": [
        "num_islands = 5\n",
        "bridge_config = [[1, 2, 3], [1, 5, 9], [2, 3, 10], [4, 3, 9]]\n",
        "solution = 31\n",
        "\n",
        "test_case = [num_islands, bridge_config, solution]\n",
        "test_function(test_case)"
      ],
      "execution_count": 10,
      "outputs": [
        {
          "output_type": "stream",
          "text": [
            "Pass\n"
          ],
          "name": "stdout"
        }
      ]
    },
    {
      "cell_type": "code",
      "metadata": {
        "id": "AHb_UYg9IOdd",
        "colab_type": "code",
        "colab": {}
      },
      "source": [
        ""
      ],
      "execution_count": 0,
      "outputs": []
    }
  ]
}