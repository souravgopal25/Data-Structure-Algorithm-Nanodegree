{
  "nbformat": 4,
  "nbformat_minor": 0,
  "metadata": {
    "colab": {
      "name": "HuffmanCoding.ipynb",
      "provenance": [],
      "authorship_tag": "ABX9TyMJLZ4QpZPIroS6gs4TkSKi",
      "include_colab_link": true
    },
    "kernelspec": {
      "name": "python3",
      "display_name": "Python 3"
    }
  },
  "cells": [
    {
      "cell_type": "markdown",
      "metadata": {
        "id": "view-in-github",
        "colab_type": "text"
      },
      "source": [
        "<a href=\"https://colab.research.google.com/github/souravgopal25/Data-Structure-Algorithm-Nanodegree/blob/master/HuffmanCoding.ipynb\" target=\"_parent\"><img src=\"https://colab.research.google.com/assets/colab-badge.svg\" alt=\"Open In Colab\"/></a>"
      ]
    },
    {
      "cell_type": "code",
      "metadata": {
        "id": "xB3SrfNwiqNQ",
        "colab_type": "code",
        "colab": {
          "base_uri": "https://localhost:8080/",
          "height": 34
        },
        "outputId": "5b0f3e1b-45e0-49d2-c7f3-095cda06df66"
      },
      "source": [
        "!pip install bitarray"
      ],
      "execution_count": 1,
      "outputs": [
        {
          "output_type": "stream",
          "text": [
            "Requirement already satisfied: bitarray in /usr/local/lib/python3.6/dist-packages (1.2.1)\n"
          ],
          "name": "stdout"
        }
      ]
    },
    {
      "cell_type": "code",
      "metadata": {
        "id": "tuc6t3hfiWrz",
        "colab_type": "code",
        "colab": {}
      },
      "source": [
        "from heapq import heappush, heappop,heapify\n",
        "from collections import defaultdict\n",
        "from bitarray import bitarray"
      ],
      "execution_count": 0,
      "outputs": []
    },
    {
      "cell_type": "code",
      "metadata": {
        "id": "y1-9dRXFimWK",
        "colab_type": "code",
        "colab": {}
      },
      "source": [
        "text=\"AAAAAAABBBCCCCCCCDDEEEEEE\""
      ],
      "execution_count": 0,
      "outputs": []
    },
    {
      "cell_type": "markdown",
      "metadata": {
        "id": "AyIBigobi1zG",
        "colab_type": "text"
      },
      "source": [
        "Creating Dictionary and storing unique char with its frequency"
      ]
    },
    {
      "cell_type": "code",
      "metadata": {
        "id": "s5ETlgdki0mP",
        "colab_type": "code",
        "colab": {}
      },
      "source": [
        "frequencyDict=defaultdict(int)\n",
        "for ch in text :\n",
        "  frequencyDict[ch]+=1"
      ],
      "execution_count": 0,
      "outputs": []
    },
    {
      "cell_type": "code",
      "metadata": {
        "id": "QqD8fLNrjHQ-",
        "colab_type": "code",
        "colab": {
          "base_uri": "https://localhost:8080/",
          "height": 34
        },
        "outputId": "95dddcdc-acd5-4374-cf83-bcce13aa6f8f"
      },
      "source": [
        "print(frequencyDict)"
      ],
      "execution_count": 5,
      "outputs": [
        {
          "output_type": "stream",
          "text": [
            "defaultdict(<class 'int'>, {'A': 7, 'B': 3, 'C': 7, 'D': 2, 'E': 6})\n"
          ],
          "name": "stdout"
        }
      ]
    },
    {
      "cell_type": "markdown",
      "metadata": {
        "id": "8IibjMWAjbbW",
        "colab_type": "text"
      },
      "source": [
        "#Creating Huffman TREE\n",
        "\n",
        "using priorit queue heapq module"
      ]
    },
    {
      "cell_type": "code",
      "metadata": {
        "id": "gEvUY1mUjTPu",
        "colab_type": "code",
        "colab": {
          "base_uri": "https://localhost:8080/",
          "height": 34
        },
        "outputId": "e7637c5d-f79a-4103-f959-41ea7941af98"
      },
      "source": [
        "heap=[[frequency,[letter,\"\"]] for letter,frequency in frequencyDict.items()]\n",
        "print(heap)"
      ],
      "execution_count": 6,
      "outputs": [
        {
          "output_type": "stream",
          "text": [
            "[[7, ['A', '']], [3, ['B', '']], [7, ['C', '']], [2, ['D', '']], [6, ['E', '']]]\n"
          ],
          "name": "stdout"
        }
      ]
    },
    {
      "cell_type": "code",
      "metadata": {
        "id": "L1lPS7n_j8Yc",
        "colab_type": "code",
        "colab": {
          "base_uri": "https://localhost:8080/",
          "height": 34
        },
        "outputId": "9314830c-7b93-4d93-d934-1904a0d9d30a"
      },
      "source": [
        "#heapfying the heap\n",
        "heapify(heap)\n",
        "print(heap)"
      ],
      "execution_count": 7,
      "outputs": [
        {
          "output_type": "stream",
          "text": [
            "[[2, ['D', '']], [3, ['B', '']], [7, ['C', '']], [7, ['A', '']], [6, ['E', '']]]\n"
          ],
          "name": "stdout"
        }
      ]
    },
    {
      "cell_type": "code",
      "metadata": {
        "id": "szv2I575kZjW",
        "colab_type": "code",
        "colab": {
          "base_uri": "https://localhost:8080/",
          "height": 357
        },
        "outputId": "ef23b71d-c224-46ec-988c-158c387b3328"
      },
      "source": [
        "while len(heap)>1:\n",
        "  right=heappop(heap)\n",
        "  print('right =',right)\n",
        "  left=heappop(heap)\n",
        "  print('left =',left)\n",
        "\n",
        "  #adding zero to right node\n",
        "  for pair in right[1:]:\n",
        "    pair[1]='0'+pair[1]\n",
        "    print(\"pair of right = {}\".format(pair))\n",
        "  for pair in left[1:]:\n",
        "    pair[1]='1'+pair[1]\n",
        "    print(\"pair of left = {}\".format(pair))\n",
        "  heappush(heap,[right[0]+left[0]]+right[1:]+left[1:])"
      ],
      "execution_count": 8,
      "outputs": [
        {
          "output_type": "stream",
          "text": [
            "right = [2, ['D', '']]\n",
            "left = [3, ['B', '']]\n",
            "pair of right = ['D', '0']\n",
            "pair of left = ['B', '1']\n",
            "right = [5, ['D', '0'], ['B', '1']]\n",
            "left = [6, ['E', '']]\n",
            "pair of right = ['D', '00']\n",
            "pair of right = ['B', '01']\n",
            "pair of left = ['E', '1']\n",
            "right = [7, ['A', '']]\n",
            "left = [7, ['C', '']]\n",
            "pair of right = ['A', '0']\n",
            "pair of left = ['C', '1']\n",
            "right = [11, ['D', '00'], ['B', '01'], ['E', '1']]\n",
            "left = [14, ['A', '0'], ['C', '1']]\n",
            "pair of right = ['D', '000']\n",
            "pair of right = ['B', '001']\n",
            "pair of right = ['E', '01']\n",
            "pair of left = ['A', '10']\n",
            "pair of left = ['C', '11']\n"
          ],
          "name": "stdout"
        }
      ]
    },
    {
      "cell_type": "code",
      "metadata": {
        "id": "PSVX4PJVlt3u",
        "colab_type": "code",
        "colab": {
          "base_uri": "https://localhost:8080/",
          "height": 51
        },
        "outputId": "5852726d-1417-4f10-d561-ae603f15500c"
      },
      "source": [
        "huffman_list = right[1:] + left[1:]\n",
        "print(huffman_list)\n",
        "huffman_dict = {a[0]:bitarray(str(a[1])) for a in huffman_list}\n",
        "print(huffman_dict)"
      ],
      "execution_count": 9,
      "outputs": [
        {
          "output_type": "stream",
          "text": [
            "[['D', '000'], ['B', '001'], ['E', '01'], ['A', '10'], ['C', '11']]\n",
            "{'D': bitarray('000'), 'B': bitarray('001'), 'E': bitarray('01'), 'A': bitarray('10'), 'C': bitarray('11')}\n"
          ],
          "name": "stdout"
        }
      ]
    },
    {
      "cell_type": "markdown",
      "metadata": {
        "id": "aMjJZcQQmZDr",
        "colab_type": "text"
      },
      "source": [
        "Huffman Encoding"
      ]
    },
    {
      "cell_type": "code",
      "metadata": {
        "id": "WXesR6eImR5D",
        "colab_type": "code",
        "colab": {
          "base_uri": "https://localhost:8080/",
          "height": 34
        },
        "outputId": "9737b8f4-88c1-4c25-c6fe-e6e0f5ca0e50"
      },
      "source": [
        "encoded_text = bitarray()\n",
        "encoded_text.encode(huffman_dict, text)\n",
        "print(encoded_text)"
      ],
      "execution_count": 10,
      "outputs": [
        {
          "output_type": "stream",
          "text": [
            "bitarray('1010101010101000100100111111111111111000000010101010101')\n"
          ],
          "name": "stdout"
        }
      ]
    },
    {
      "cell_type": "code",
      "metadata": {
        "id": "dwi1QEhOmeNQ",
        "colab_type": "code",
        "colab": {}
      },
      "source": [
        "padding = 8 - (len(encoded_text) % 8)"
      ],
      "execution_count": 0,
      "outputs": []
    },
    {
      "cell_type": "markdown",
      "metadata": {
        "id": "SOlMgT4Gm1Go",
        "colab_type": "text"
      },
      "source": [
        "Saving to Binary File"
      ]
    },
    {
      "cell_type": "code",
      "metadata": {
        "id": "bahohPwPmhWw",
        "colab_type": "code",
        "colab": {}
      },
      "source": [
        "with open ('FileA.bin','wb') as w:\n",
        "  encoded_text.tofile(w)"
      ],
      "execution_count": 0,
      "outputs": []
    },
    {
      "cell_type": "code",
      "metadata": {
        "id": "ykv0e-sZnJ2f",
        "colab_type": "code",
        "colab": {
          "base_uri": "https://localhost:8080/",
          "height": 34
        },
        "outputId": "7786fb10-8e31-41cf-9256-591c239124d0"
      },
      "source": [
        "decoded_text = bitarray()\n",
        "\n",
        "with open('FileA.bin', 'rb') as r:\n",
        "    decoded_text.fromfile(r)\n",
        "    \n",
        "decoded_text = decoded_text[:-padding] # remove padding\n",
        "    \n",
        "decoded_text = decoded_text.decode(huffman_dict) \n",
        "decoded_text = ''.join(decoded_text)\n",
        "\n",
        "print(decoded_text)"
      ],
      "execution_count": 14,
      "outputs": [
        {
          "output_type": "stream",
          "text": [
            "AAAAAAABBBCCCCCCCDDEEEEEE\n"
          ],
          "name": "stdout"
        }
      ]
    }
  ]
}