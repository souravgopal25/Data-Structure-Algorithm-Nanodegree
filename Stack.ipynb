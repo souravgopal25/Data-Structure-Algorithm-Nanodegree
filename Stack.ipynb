{
  "nbformat": 4,
  "nbformat_minor": 0,
  "metadata": {
    "colab": {
      "name": "StackAndQueue.ipynb",
      "provenance": [],
      "authorship_tag": "ABX9TyPSkzM2EUFVndNIhb9K4Ag1",
      "include_colab_link": true
    },
    "kernelspec": {
      "name": "python3",
      "display_name": "Python 3"
    }
  },
  "cells": [
    {
      "cell_type": "markdown",
      "metadata": {
        "id": "view-in-github",
        "colab_type": "text"
      },
      "source": [
        "<a href=\"https://colab.research.google.com/github/souravgopal25/Data-Structure-Algorithm-Nanodegree/blob/master/Stack.ipynb\" target=\"_parent\"><img src=\"https://colab.research.google.com/assets/colab-badge.svg\" alt=\"Open In Colab\"/></a>"
      ]
    },
    {
      "cell_type": "markdown",
      "metadata": {
        "id": "AuU16Jehi5UN",
        "colab_type": "text"
      },
      "source": [
        "#Implementing Stack using Linked List"
      ]
    },
    {
      "cell_type": "code",
      "metadata": {
        "id": "6jAXjQS_hx03",
        "colab_type": "code",
        "colab": {}
      },
      "source": [
        "class Node:\n",
        "    def __init__(self,value):\n",
        "        self.value=value\n",
        "        self.next=None"
      ],
      "execution_count": 0,
      "outputs": []
    },
    {
      "cell_type": "code",
      "metadata": {
        "id": "dvBPDl-mcaui",
        "colab_type": "code",
        "colab": {}
      },
      "source": [
        "class Stack:\n",
        "    \n",
        "    def __init__(self):\n",
        "        self.head = None\n",
        "        self.num_elements = 0\n",
        "        \n",
        "    def push(self, value):\n",
        "        new_node = Node(value)\n",
        "        # if stack is empty\n",
        "        if self.head is None:\n",
        "            self.head = new_node\n",
        "        else:\n",
        "            new_node.next = self.head # place the new node at the head (top) of the linked list\n",
        "            self.head = new_node\n",
        "\n",
        "        self.num_elements += 1\n",
        "        \n",
        "    # TODO: Add the pop method\n",
        "    \n",
        "    def size(self):\n",
        "        return self.num_elements\n",
        "    \n",
        "    def is_empty(self):\n",
        "        return self.num_elements == 0\n",
        "\n",
        "    def push(self, value):\n",
        "        new_node = Node(value)        \n",
        "        # if stack is empty\n",
        "        if self.head is None:\n",
        "            self.head = new_node\n",
        "        else:\n",
        "            new_node.next = self.head    \n",
        "            self.head = new_node\n",
        "\n",
        "        self.num_elements += 1\n",
        "\n",
        "    def pop(self):\n",
        "        if self.is_empty():\n",
        "            return None\n",
        "        \n",
        "        value = self.head.value \n",
        "        self.head = self.head.next \n",
        "        self.num_elements -= 1\n",
        "        return value\n",
        "    "
      ],
      "execution_count": 0,
      "outputs": []
    },
    {
      "cell_type": "code",
      "metadata": {
        "id": "NNbt4LxRiPTV",
        "colab_type": "code",
        "colab": {
          "base_uri": "https://localhost:8080/",
          "height": 123
        },
        "outputId": "2060f1b6-8627-466e-d11b-7d596ac1c850"
      },
      "source": [
        "# Setup\n",
        "stack = Stack()\n",
        "stack.push(10)\n",
        "stack.push(20)\n",
        "stack.push(30)\n",
        "stack.push(40)\n",
        "stack.push(50)\n",
        "\n",
        "# Test size\n",
        "print (\"Pass\" if (stack.size() == 5) else \"Fail\")\n",
        "\n",
        "# Test pop\n",
        "print (\"Pass\" if (stack.pop() == 50) else \"Fail\")\n",
        "\n",
        "# Test push\n",
        "stack.push(60)\n",
        "print (\"Pass\" if (stack.pop() == 60) else \"Fail\")\n",
        "print (\"Pass\" if (stack.pop() == 40) else \"Fail\")\n",
        "print (\"Pass\" if (stack.pop() == 30) else \"Fail\")\n",
        "stack.push(50)\n",
        "print (\"Pass\" if (stack.size() == 3) else \"Fail\")"
      ],
      "execution_count": 12,
      "outputs": [
        {
          "output_type": "stream",
          "text": [
            "Pass\n",
            "Pass\n",
            "Pass\n",
            "Pass\n",
            "Pass\n",
            "Pass\n"
          ],
          "name": "stdout"
        }
      ]
    },
    {
      "cell_type": "markdown",
      "metadata": {
        "id": "_8HufQjIlM2x",
        "colab_type": "text"
      },
      "source": [
        "#STACK USING LIST"
      ]
    },
    {
      "cell_type": "code",
      "metadata": {
        "id": "PjILClWlifhW",
        "colab_type": "code",
        "colab": {
          "base_uri": "https://localhost:8080/",
          "height": 70
        },
        "outputId": "0adcd27c-7b68-450b-dfc6-79064075a20c"
      },
      "source": [
        "class Stack:\n",
        "    def __init__(self):\n",
        "        self.items = []\n",
        "    \n",
        "    def size(self):\n",
        "        return len(self.items)\n",
        "    \n",
        "    def push(self, item):\n",
        "        self.items.append(item)\n",
        "\n",
        "    def pop(self):\n",
        "        if self.size()==0:\n",
        "            return None\n",
        "        else:\n",
        "            return self.items.pop()\n",
        "        \n",
        "MyStack = Stack()\n",
        "\n",
        "MyStack.push(\"Web Page 1\")\n",
        "MyStack.push(\"Web Page 2\")\n",
        "MyStack.push(\"Web Page 3\")\n",
        "\n",
        "print (MyStack.items)\n",
        "\n",
        "MyStack.pop()\n",
        "MyStack.pop()\n",
        "\n",
        "print (\"Pass\" if (MyStack.items[0] == 'Web Page 1') else \"Fail\")\n",
        "\n",
        "MyStack.pop()\n",
        "\n",
        "print (\"Pass\" if (MyStack.pop() == None) else \"Fail\")"
      ],
      "execution_count": 15,
      "outputs": [
        {
          "output_type": "stream",
          "text": [
            "['Web Page 1', 'Web Page 2', 'Web Page 3']\n",
            "Pass\n",
            "Pass\n"
          ],
          "name": "stdout"
        }
      ]
    },
    {
      "cell_type": "markdown",
      "metadata": {
        "id": "tIYHom55ltUI",
        "colab_type": "text"
      },
      "source": [
        "# BALANCED PARENTHESSIS CHECKER"
      ]
    },
    {
      "cell_type": "code",
      "metadata": {
        "id": "QspIT56Mk7M-",
        "colab_type": "code",
        "colab": {}
      },
      "source": [
        "class Stack:\n",
        "    def __init__(self):\n",
        "        self.items = []\n",
        "    \n",
        "    def size(self):\n",
        "        return len(self.items)\n",
        "    \n",
        "    def push(self, item):\n",
        "        self.items.append(item)\n",
        "\n",
        "    def pop(self):\n",
        "        if self.size()==0:\n",
        "            return None\n",
        "        else:\n",
        "            return self.items.pop()\n",
        "\n",
        "def equation_checker(equation):\n",
        "    stack = Stack()\n",
        "\n",
        "    for char in equation:\n",
        "        if char == \"(\":\n",
        "            stack.push(char)\n",
        "        elif char == \")\":\n",
        "            if stack.pop() == None:\n",
        "                return False\n",
        "\n",
        "    if stack.size() == 0:\n",
        "        return True\n",
        "    else:\n",
        "        return False\n",
        "    \n",
        "    "
      ],
      "execution_count": 0,
      "outputs": []
    },
    {
      "cell_type": "code",
      "metadata": {
        "id": "o9hxzActl0Fn",
        "colab_type": "code",
        "colab": {
          "base_uri": "https://localhost:8080/",
          "height": 52
        },
        "outputId": "60278646-89a0-4c31-9d0e-ca1c3776a519"
      },
      "source": [
        "print (\"Pass\" if (equation_checker('((3^2 + 8)*(5/2))/(2+6)')) else \"Fail\")\n",
        "print (\"Pass\" if not (equation_checker('((3^2 + 8)*(5/2))/(2+6))')) else \"Fail\")"
      ],
      "execution_count": 17,
      "outputs": [
        {
          "output_type": "stream",
          "text": [
            "Pass\n",
            "Pass\n"
          ],
          "name": "stdout"
        }
      ]
    },
    {
      "cell_type": "code",
      "metadata": {
        "id": "-h2OHRSOl5Oe",
        "colab_type": "code",
        "colab": {}
      },
      "source": [
        ""
      ],
      "execution_count": 0,
      "outputs": []
    }
  ]
}