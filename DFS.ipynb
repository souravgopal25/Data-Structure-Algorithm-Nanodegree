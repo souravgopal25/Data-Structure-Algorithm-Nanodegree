{
  "nbformat": 4,
  "nbformat_minor": 0,
  "metadata": {
    "colab": {
      "name": "DFS.ipynb",
      "provenance": [],
      "authorship_tag": "ABX9TyM8GPeUR1JqjdcMbQrSQfHf",
      "include_colab_link": true
    },
    "kernelspec": {
      "name": "python3",
      "display_name": "Python 3"
    }
  },
  "cells": [
    {
      "cell_type": "markdown",
      "metadata": {
        "id": "view-in-github",
        "colab_type": "text"
      },
      "source": [
        "<a href=\"https://colab.research.google.com/github/souravgopal25/Data-Structure-Algorithm-Nanodegree/blob/master/DFS.ipynb\" target=\"_parent\"><img src=\"https://colab.research.google.com/assets/colab-badge.svg\" alt=\"Open In Colab\"/></a>"
      ]
    },
    {
      "cell_type": "markdown",
      "metadata": {
        "id": "uhZNxNAK-S_e",
        "colab_type": "text"
      },
      "source": [
        "# DFS\n",
        "\n"
      ]
    },
    {
      "cell_type": "code",
      "metadata": {
        "id": "JMlfRIIDyVRp",
        "colab_type": "code",
        "colab": {}
      },
      "source": [
        "# this code makes the tree that we'll traverse\n",
        "\n",
        "class Node(object):\n",
        "        \n",
        "    def __init__(self,value = None):\n",
        "        self.value = value\n",
        "        self.left = None\n",
        "        self.right = None\n",
        "        \n",
        "    def set_value(self,value):\n",
        "        self.value = value\n",
        "        \n",
        "    def get_value(self):\n",
        "        return self.value\n",
        "        \n",
        "    def set_left_child(self,left):\n",
        "        self.left = left\n",
        "        \n",
        "    def set_right_child(self, right):\n",
        "        self.right = right\n",
        "        \n",
        "    def get_left_child(self):\n",
        "        return self.left\n",
        "    \n",
        "    def get_right_child(self):\n",
        "        return self.right\n",
        "\n",
        "    def has_left_child(self):\n",
        "        return self.left != None\n",
        "    \n",
        "    def has_right_child(self):\n",
        "        return self.right != None\n",
        "    \n",
        "    # define __repr_ to decide what a print statement displays for a Node object\n",
        "    def __repr__(self):\n",
        "        return f\"Node({self.get_value()})\"\n",
        "    \n",
        "    def __str__(self):\n",
        "        return f\"Node({self.get_value()})\"\n",
        "    \n",
        "    \n",
        "class Tree():\n",
        "    def __init__(self, value=None):\n",
        "        self.root = Node(value)\n",
        "        \n",
        "    def get_root(self):\n",
        "        return self.root"
      ],
      "execution_count": 0,
      "outputs": []
    },
    {
      "cell_type": "code",
      "metadata": {
        "id": "zwgAk_jFybt_",
        "colab_type": "code",
        "colab": {}
      },
      "source": [
        "# create a tree and add some nodes\n",
        "tree = Tree(\"apple\")\n",
        "tree.get_root().set_left_child(Node(\"banana\"))\n",
        "tree.get_root().set_right_child(Node(\"cherry\"))\n",
        "tree.get_root().get_left_child().set_left_child(Node(\"dates\"))"
      ],
      "execution_count": 0,
      "outputs": []
    },
    {
      "cell_type": "code",
      "metadata": {
        "id": "0KVpV0ELyjuL",
        "colab_type": "code",
        "colab": {}
      },
      "source": [
        "# Let's define a stack to help keep track of the tree nodes\n",
        "class Stack():\n",
        "    def __init__(self):\n",
        "        self.list = list()\n",
        "        \n",
        "    def push(self,value):\n",
        "        self.list.append(value)\n",
        "        \n",
        "    def pop(self):\n",
        "        return self.list.pop()\n",
        "        \n",
        "    def top(self):\n",
        "        if len(self.list) > 0:\n",
        "            return self.list[-1]\n",
        "        else:\n",
        "            return None\n",
        "        \n",
        "    def is_empty(self):\n",
        "        return len(self.list) == 0\n",
        "    \n",
        "    def __repr__(self):\n",
        "        if len(self.list) > 0:\n",
        "            s = \"<top of stack>\\n_________________\\n\"\n",
        "            s += \"\\n_________________\\n\".join([str(item) for item in self.list[::-1]])\n",
        "            s += \"\\n_________________\\n<bottom of stack>\"\n",
        "            return s\n",
        "        \n",
        "        else:\n",
        "            return \"<stack is empty>\""
      ],
      "execution_count": 0,
      "outputs": []
    },
    {
      "cell_type": "code",
      "metadata": {
        "id": "_JXlVzxVypLz",
        "colab_type": "code",
        "outputId": "c80b1886-c58b-4dd9-f4f8-2ba4677dbb77",
        "colab": {
          "base_uri": "https://localhost:8080/",
          "height": 221
        }
      },
      "source": [
        "# check Stack\n",
        "stack = Stack()\n",
        "stack.push(\"apple\")\n",
        "stack.push(\"banana\")\n",
        "stack.push(\"cherry\")\n",
        "stack.push(\"dates\")\n",
        "print(stack.pop())\n",
        "print(\"\\n\")\n",
        "print(stack)"
      ],
      "execution_count": 0,
      "outputs": [
        {
          "output_type": "stream",
          "text": [
            "dates\n",
            "\n",
            "\n",
            "<top of stack>\n",
            "_________________\n",
            "cherry\n",
            "_________________\n",
            "banana\n",
            "_________________\n",
            "apple\n",
            "_________________\n",
            "<bottom of stack>\n"
          ],
          "name": "stdout"
        }
      ]
    },
    {
      "cell_type": "code",
      "metadata": {
        "id": "MH46DBKtytfj",
        "colab_type": "code",
        "outputId": "88ede142-1b51-4a22-e41f-edb7e52df153",
        "colab": {
          "base_uri": "https://localhost:8080/",
          "height": 170
        }
      },
      "source": [
        "visit_order = list()\n",
        "stack = Stack()\n",
        "\n",
        "# start at the root node, visit it and then add it to the stack\n",
        "node = tree.get_root()\n",
        "visit_order.append(node.get_value())\n",
        "stack.push(node)\n",
        "\n",
        "print(f\"\"\"\n",
        "visit_order {visit_order} \n",
        "stack:\n",
        "{stack}\n",
        "\"\"\")"
      ],
      "execution_count": 0,
      "outputs": [
        {
          "output_type": "stream",
          "text": [
            "\n",
            "visit_order ['apple'] \n",
            "stack:\n",
            "<top of stack>\n",
            "_________________\n",
            "Node(apple)\n",
            "_________________\n",
            "<bottom of stack>\n",
            "\n"
          ],
          "name": "stdout"
        }
      ]
    },
    {
      "cell_type": "code",
      "metadata": {
        "id": "qFAL8r1T5K-x",
        "colab_type": "code",
        "colab": {}
      },
      "source": [
        "class State(object):\n",
        "    def __init__(self,node):\n",
        "        self.node = node\n",
        "        self.visited_left = False\n",
        "        self.visited_right = False\n",
        "        \n",
        "    def get_node(self):\n",
        "        return self.node\n",
        "    \n",
        "    def get_visited_left(self):\n",
        "        return self.visited_left\n",
        "    \n",
        "    def get_visited_right(self):\n",
        "        return self.visited_right\n",
        "    \n",
        "    def set_visited_left(self):\n",
        "        self.visited_left = True\n",
        "        \n",
        "    def set_visited_right(self):\n",
        "        self.visited_right = True\n",
        "        \n",
        "    def __repr__(self):\n",
        "        s = f\"\"\"{self.node}\n",
        "visited_left: {self.visited_left}\n",
        "visited_right: {self.visited_right}\n",
        "        \"\"\"\n",
        "        return s"
      ],
      "execution_count": 0,
      "outputs": []
    },
    {
      "cell_type": "code",
      "metadata": {
        "id": "sI8kprXx5u3j",
        "colab_type": "code",
        "colab": {}
      },
      "source": [
        "def pre_order_with_stack(tree, debug_mode=False):\n",
        "    #creating a list for visit order\n",
        "    visit_order = list()\n",
        "    \n",
        "    #creating a stack object\n",
        "    stack = Stack()\n",
        "    \n",
        "    #Getting the root of the tree\n",
        "    node = tree.get_root()\n",
        "    \n",
        "    #adding to the list\n",
        "    visit_order.append(node.get_value())\n",
        "    \n",
        "    #creating the state of that node\n",
        "    state = State(node)\n",
        "    \n",
        "    #pushing state object of the node into the stack\n",
        "    stack.push(state)\n",
        "    count = 0\n",
        "    while(node):\n",
        "        if debug_mode:\n",
        "            print(f\"\"\"\n",
        "loop count: {count}\n",
        "current node: {node}\n",
        "stack:\n",
        "{stack}\n",
        "            \"\"\")\n",
        "        #counting the number of node \n",
        "        count +=1\n",
        "        if node.has_left_child() and not state.get_visited_left():\n",
        "           #setting the state of left to be true\n",
        "            state.set_visited_left()\n",
        "            #getting the left node\n",
        "            node = node.get_left_child()\n",
        "            \n",
        "            visit_order.append(node.get_value())\n",
        "            state = State(node)\n",
        "            stack.push(state)\n",
        "\n",
        "        elif node.has_right_child() and not state.get_visited_right():\n",
        "            state.set_visited_right()\n",
        "            node = node.get_right_child()\n",
        "            visit_order.append(node.get_value())\n",
        "            state = State(node)\n",
        "\n",
        "        else:\n",
        "            stack.pop()\n",
        "            if not stack.is_empty():\n",
        "                state = stack.top()\n",
        "                node = state.get_node()\n",
        "            else:\n",
        "                node = None\n",
        "            \n",
        "    if debug_mode:\n",
        "            print(f\"\"\"\n",
        "loop count: {count}\n",
        "current node: {node}\n",
        "stack:\n",
        "{stack}\n",
        "            \"\"\")\n",
        "    return visit_order"
      ],
      "execution_count": 0,
      "outputs": []
    },
    {
      "cell_type": "code",
      "metadata": {
        "id": "_jLfjxGa5zTi",
        "colab_type": "code",
        "outputId": "21064975-9b02-4ed3-9174-65e4d161eb69",
        "colab": {
          "base_uri": "https://localhost:8080/",
          "height": 1000
        }
      },
      "source": [
        "# check pre-order traversal\n",
        "\n",
        "pre_order_with_stack(tree, debug_mode=True)"
      ],
      "execution_count": 0,
      "outputs": [
        {
          "output_type": "stream",
          "text": [
            "\n",
            "loop count: 0\n",
            "current node: Node(apple)\n",
            "stack:\n",
            "<top of stack>\n",
            "_________________\n",
            "Node(apple)\n",
            "visited_left: False\n",
            "visited_right: False\n",
            "        \n",
            "_________________\n",
            "<bottom of stack>\n",
            "            \n",
            "\n",
            "loop count: 1\n",
            "current node: Node(banana)\n",
            "stack:\n",
            "<top of stack>\n",
            "_________________\n",
            "Node(banana)\n",
            "visited_left: False\n",
            "visited_right: False\n",
            "        \n",
            "_________________\n",
            "Node(apple)\n",
            "visited_left: True\n",
            "visited_right: False\n",
            "        \n",
            "_________________\n",
            "<bottom of stack>\n",
            "            \n",
            "\n",
            "loop count: 2\n",
            "current node: Node(dates)\n",
            "stack:\n",
            "<top of stack>\n",
            "_________________\n",
            "Node(dates)\n",
            "visited_left: False\n",
            "visited_right: False\n",
            "        \n",
            "_________________\n",
            "Node(banana)\n",
            "visited_left: True\n",
            "visited_right: False\n",
            "        \n",
            "_________________\n",
            "Node(apple)\n",
            "visited_left: True\n",
            "visited_right: False\n",
            "        \n",
            "_________________\n",
            "<bottom of stack>\n",
            "            \n",
            "\n",
            "loop count: 3\n",
            "current node: Node(banana)\n",
            "stack:\n",
            "<top of stack>\n",
            "_________________\n",
            "Node(banana)\n",
            "visited_left: True\n",
            "visited_right: False\n",
            "        \n",
            "_________________\n",
            "Node(apple)\n",
            "visited_left: True\n",
            "visited_right: False\n",
            "        \n",
            "_________________\n",
            "<bottom of stack>\n",
            "            \n",
            "\n",
            "loop count: 4\n",
            "current node: Node(apple)\n",
            "stack:\n",
            "<top of stack>\n",
            "_________________\n",
            "Node(apple)\n",
            "visited_left: True\n",
            "visited_right: False\n",
            "        \n",
            "_________________\n",
            "<bottom of stack>\n",
            "            \n",
            "\n",
            "loop count: 5\n",
            "current node: Node(cherry)\n",
            "stack:\n",
            "<top of stack>\n",
            "_________________\n",
            "Node(apple)\n",
            "visited_left: True\n",
            "visited_right: True\n",
            "        \n",
            "_________________\n",
            "<bottom of stack>\n",
            "            \n",
            "\n",
            "loop count: 6\n",
            "current node: None\n",
            "stack:\n",
            "<stack is empty>\n",
            "            \n"
          ],
          "name": "stdout"
        },
        {
          "output_type": "execute_result",
          "data": {
            "text/plain": [
              "['apple', 'banana', 'dates', 'cherry']"
            ]
          },
          "metadata": {
            "tags": []
          },
          "execution_count": 9
        }
      ]
    },
    {
      "cell_type": "markdown",
      "metadata": {
        "id": "SfIHt12J9mtf",
        "colab_type": "text"
      },
      "source": [
        "# USING RECURSION\n",
        "pre order"
      ]
    },
    {
      "cell_type": "code",
      "metadata": {
        "id": "_6V1ZAvy8iTI",
        "colab_type": "code",
        "colab": {}
      },
      "source": [
        "def pre_order(tree):\n",
        "    \n",
        "    visit_order = list()\n",
        "    \n",
        "    def traverse(node):\n",
        "        if node:\n",
        "            # visit the node\n",
        "            visit_order.append(node.get_value())\n",
        "            \n",
        "            # traverse left subtree\n",
        "            traverse(node.get_left_child())\n",
        "            \n",
        "            # traverse right subtree\n",
        "            traverse(node.get_right_child())\n",
        "    \n",
        "    traverse(tree.get_root())\n",
        "    \n",
        "    return visit_order"
      ],
      "execution_count": 0,
      "outputs": []
    },
    {
      "cell_type": "code",
      "metadata": {
        "id": "qXan3ebN9weW",
        "colab_type": "code",
        "outputId": "98ad4ef3-d5ae-4e57-885d-c72454cc953a",
        "colab": {
          "base_uri": "https://localhost:8080/",
          "height": 34
        }
      },
      "source": [
        "pre_order(tree)"
      ],
      "execution_count": 0,
      "outputs": [
        {
          "output_type": "execute_result",
          "data": {
            "text/plain": [
              "['apple', 'banana', 'dates', 'cherry']"
            ]
          },
          "metadata": {
            "tags": []
          },
          "execution_count": 11
        }
      ]
    },
    {
      "cell_type": "markdown",
      "metadata": {
        "id": "Hrno5Fs-9w6D",
        "colab_type": "text"
      },
      "source": [
        "#Post order"
      ]
    },
    {
      "cell_type": "code",
      "metadata": {
        "id": "r1PKrEDs95dk",
        "colab_type": "code",
        "colab": {}
      },
      "source": [
        "def post_order(tree):\n",
        "    \n",
        "    visit_order = list()\n",
        "    \n",
        "    def traverse(node):\n",
        "        if node:\n",
        "            # traverse left subtree\n",
        "            traverse(node.get_left_child())\n",
        "            \n",
        "            # traverse right subtree\n",
        "            traverse(node.get_right_child())\n",
        "            \n",
        "            # visit node\n",
        "            visit_order.append(node.get_value())\n",
        "    \n",
        "    traverse(tree.get_root())\n",
        "    \n",
        "    return visit_order"
      ],
      "execution_count": 0,
      "outputs": []
    },
    {
      "cell_type": "code",
      "metadata": {
        "id": "lVmrSQHJ99a9",
        "colab_type": "code",
        "outputId": "3213d0ff-39d7-46e2-b9fe-0f7a13e69896",
        "colab": {
          "base_uri": "https://localhost:8080/",
          "height": 34
        }
      },
      "source": [
        "post_order(tree)"
      ],
      "execution_count": 0,
      "outputs": [
        {
          "output_type": "execute_result",
          "data": {
            "text/plain": [
              "['dates', 'banana', 'cherry', 'apple']"
            ]
          },
          "metadata": {
            "tags": []
          },
          "execution_count": 13
        }
      ]
    },
    {
      "cell_type": "markdown",
      "metadata": {
        "id": "FrShRgMR-Cnj",
        "colab_type": "text"
      },
      "source": [
        "#IN ORDER\n"
      ]
    },
    {
      "cell_type": "code",
      "metadata": {
        "id": "X-OPkHjY-JFs",
        "colab_type": "code",
        "colab": {}
      },
      "source": [
        "def in_order(tree):\n",
        "    \n",
        "    visit_order = list()\n",
        "    \n",
        "    def traverse(node):\n",
        "        if node:\n",
        "            # traverse left subtree\n",
        "            traverse(node.get_left_child())\n",
        "            \n",
        "            # visit node\n",
        "            visit_order.append(node.get_value())\n",
        "            \n",
        "            # traverse right sub-tree\n",
        "            traverse(node.get_right_child())\n",
        "    \n",
        "    traverse(tree.get_root())\n",
        "    \n",
        "    return visit_order"
      ],
      "execution_count": 0,
      "outputs": []
    },
    {
      "cell_type": "code",
      "metadata": {
        "id": "bUd3X-dC-Lcc",
        "colab_type": "code",
        "outputId": "31dc168a-3b58-4e9e-af84-0886fee0bb19",
        "colab": {
          "base_uri": "https://localhost:8080/",
          "height": 34
        }
      },
      "source": [
        "in_order(tree)"
      ],
      "execution_count": 0,
      "outputs": [
        {
          "output_type": "execute_result",
          "data": {
            "text/plain": [
              "['dates', 'banana', 'apple', 'cherry']"
            ]
          },
          "metadata": {
            "tags": []
          },
          "execution_count": 15
        }
      ]
    }
  ]
}