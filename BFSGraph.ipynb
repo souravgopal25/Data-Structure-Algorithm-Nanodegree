{
  "nbformat": 4,
  "nbformat_minor": 0,
  "metadata": {
    "colab": {
      "name": "BFSGraph.ipynb",
      "provenance": [],
      "authorship_tag": "ABX9TyNzZYtNJwu65mGaYMpbNAcW",
      "include_colab_link": true
    },
    "kernelspec": {
      "name": "python3",
      "display_name": "Python 3"
    }
  },
  "cells": [
    {
      "cell_type": "markdown",
      "metadata": {
        "id": "view-in-github",
        "colab_type": "text"
      },
      "source": [
        "<a href=\"https://colab.research.google.com/github/souravgopal25/Data-Structure-Algorithm-Nanodegree/blob/master/BFSGraph.ipynb\" target=\"_parent\"><img src=\"https://colab.research.google.com/assets/colab-badge.svg\" alt=\"Open In Colab\"/></a>"
      ]
    },
    {
      "cell_type": "markdown",
      "metadata": {
        "id": "aqzaFOuoheih",
        "colab_type": "text"
      },
      "source": [
        "#BFS"
      ]
    },
    {
      "cell_type": "code",
      "metadata": {
        "id": "v8C4JEdthJKx",
        "colab_type": "code",
        "colab": {}
      },
      "source": [
        "class GraphNode(object):\n",
        "    def __init__(self, val):\n",
        "        self.value = val\n",
        "        self.children = []\n",
        "        \n",
        "    def add_child(self,new_node):\n",
        "        self.children.append(new_node)\n",
        "    \n",
        "    def remove_child(self,del_node):\n",
        "        if del_node in self.children:\n",
        "            self.children.remove(del_node)\n",
        "\n",
        "class Graph(object):\n",
        "    def __init__(self,node_list):\n",
        "        self.nodes = node_list\n",
        "        \n",
        "    def add_edge(self,node1,node2):\n",
        "        if(node1 in self.nodes and node2 in self.nodes):\n",
        "            node1.add_child(node2)\n",
        "            node2.add_child(node1)\n",
        "            \n",
        "    def remove_edge(self,node1,node2):\n",
        "        if(node1 in self.nodes and node2 in self.nodes):\n",
        "            node1.remove_child(node2)\n",
        "            node2.remove_child(node1)"
      ],
      "execution_count": 0,
      "outputs": []
    },
    {
      "cell_type": "code",
      "metadata": {
        "id": "B32QpBXEi0NN",
        "colab_type": "code",
        "colab": {}
      },
      "source": [
        "nodeG = GraphNode('G')\n",
        "nodeR = GraphNode('R')\n",
        "nodeA = GraphNode('A')\n",
        "nodeP = GraphNode('P')\n",
        "nodeH = GraphNode('H')\n",
        "nodeS = GraphNode('S')\n",
        "\n",
        "graph1 = Graph([nodeS,nodeH,nodeG,nodeP,nodeR,nodeA] ) \n",
        "graph1.add_edge(nodeG,nodeR)\n",
        "graph1.add_edge(nodeA,nodeR)\n",
        "graph1.add_edge(nodeA,nodeG)\n",
        "graph1.add_edge(nodeR,nodeP)\n",
        "graph1.add_edge(nodeH,nodeG)\n",
        "graph1.add_edge(nodeH,nodeP)\n",
        "graph1.add_edge(nodeS,nodeR)"
      ],
      "execution_count": 0,
      "outputs": []
    },
    {
      "cell_type": "code",
      "metadata": {
        "id": "V-IT3d0Fi4K1",
        "colab_type": "code",
        "colab": {}
      },
      "source": [
        "def bfs_search(root_node, search_value):\n",
        "    visited = []\n",
        "    queue = [root_node]\n",
        "    \n",
        "    while len(queue) > 0:\n",
        "        current_node = queue.pop(0)\n",
        "        queue.append(current_node)\n",
        "\n",
        "        if current_node.value == search_value:\n",
        "            return current_node\n",
        "\n",
        "        for child in current_node.children:\n",
        "            if child not in visited:\n",
        "                queue.append(child)"
      ],
      "execution_count": 0,
      "outputs": []
    },
    {
      "cell_type": "code",
      "metadata": {
        "id": "Ou7Bq9LZi_S8",
        "colab_type": "code",
        "colab": {
          "base_uri": "https://localhost:8080/",
          "height": 68
        },
        "outputId": "3fa5bc88-0228-44c4-be5d-50441ed944ee"
      },
      "source": [
        "print( nodeA == bfs_search(nodeS, 'A'))\n",
        "print( nodeS == bfs_search(nodeP, 'S'))\n",
        "print( nodeR == bfs_search(nodeH, 'R'))"
      ],
      "execution_count": 11,
      "outputs": [
        {
          "output_type": "stream",
          "text": [
            "True\n",
            "True\n",
            "True\n"
          ],
          "name": "stdout"
        }
      ]
    },
    {
      "cell_type": "code",
      "metadata": {
        "id": "P7QdAdjki6ie",
        "colab_type": "code",
        "colab": {
          "base_uri": "https://localhost:8080/",
          "height": 425
        },
        "outputId": "94e676fc-d8f1-4afc-df1b-789f84d678da"
      },
      "source": [
        "\n",
        "for each in graph1.nodes:\n",
        "    print('parent node = ',each.value,end='\\nchildren\\n')\n",
        "    for each in each.children:\n",
        "        print(each.value,end=' ')\n",
        "    print('\\n')"
      ],
      "execution_count": 5,
      "outputs": [
        {
          "output_type": "stream",
          "text": [
            "parent node =  S\n",
            "children\n",
            "R \n",
            "\n",
            "parent node =  H\n",
            "children\n",
            "G P \n",
            "\n",
            "parent node =  G\n",
            "children\n",
            "R A H \n",
            "\n",
            "parent node =  P\n",
            "children\n",
            "R H \n",
            "\n",
            "parent node =  R\n",
            "children\n",
            "G A P S \n",
            "\n",
            "parent node =  A\n",
            "children\n",
            "R G \n",
            "\n"
          ],
          "name": "stdout"
        }
      ]
    }
  ]
}