{
  "nbformat": 4,
  "nbformat_minor": 0,
  "metadata": {
    "colab": {
      "name": "DaysBetweenDate.ipynb",
      "provenance": [],
      "authorship_tag": "ABX9TyP0Xc6YU/xzkCeaJu5tbT+T",
      "include_colab_link": true
    },
    "kernelspec": {
      "name": "python3",
      "display_name": "Python 3"
    }
  },
  "cells": [
    {
      "cell_type": "markdown",
      "metadata": {
        "id": "view-in-github",
        "colab_type": "text"
      },
      "source": [
        "<a href=\"https://colab.research.google.com/github/souravgopal25/Data-Structure-Algorithm-Nanodegree/blob/master/DaysBetweenDate.ipynb\" target=\"_parent\"><img src=\"https://colab.research.google.com/assets/colab-badge.svg\" alt=\"Open In Colab\"/></a>"
      ]
    },
    {
      "cell_type": "markdown",
      "metadata": {
        "id": "hNHBVyuOpjK8",
        "colab_type": "text"
      },
      "source": [
        "# Days Between Dates\n",
        "\n",
        "This lesson will focus on one problem: calculating the number of days between two dates. \n",
        "\n",
        "This workspace is yours to use in whatever way is helpful. You might want to keep it open in a second tab as you go through the videos. "
      ]
    },
    {
      "cell_type": "code",
      "metadata": {
        "id": "EretRrZopdO4",
        "colab_type": "code",
        "colab": {}
      },
      "source": [
        "def nextDay(year, month, day):\n",
        "    \"\"\"Simple version: assume every month has 30 days\"\"\"\n",
        "    if day < daysInMonth(year,month):\n",
        "        return year, month, day + 1\n",
        "    else:\n",
        "        if month == 12:\n",
        "            return year + 1, 1, 1\n",
        "        else:\n",
        "            return year, month + 1, 1"
      ],
      "execution_count": 0,
      "outputs": []
    },
    {
      "cell_type": "code",
      "metadata": {
        "id": "NAmdfxpCqALa",
        "colab_type": "code",
        "colab": {}
      },
      "source": [
        "def dateIsBefore(year1, month1, day1, year2, month2, day2):\n",
        "    \"\"\"Returns True if year1-month1-day1 is before\n",
        "       year2-month2-day2. Otherwise, returns False.\"\"\"\n",
        "    if year1 < year2:\n",
        "        return True\n",
        "    if year1 == year2:\n",
        "        if month1 < month2:\n",
        "            return True\n",
        "        if month1 == month2:\n",
        "            return day1 < day2\n",
        "    return False "
      ],
      "execution_count": 0,
      "outputs": []
    },
    {
      "cell_type": "code",
      "metadata": {
        "id": "CGaPT02aqVoM",
        "colab_type": "code",
        "colab": {}
      },
      "source": [
        "def isLeapYear(year):\n",
        "\tif year % 400 == 0:\n",
        "\t\treturn True\n",
        "\tif year % 100 == 0:\n",
        "\t\treturn False\n",
        "\tif year % 4 == 0:\n",
        "\t\treturn True\n",
        "\treturn False"
      ],
      "execution_count": 0,
      "outputs": []
    },
    {
      "cell_type": "code",
      "metadata": {
        "id": "amptU5AxqeTG",
        "colab_type": "code",
        "colab": {}
      },
      "source": [
        "def daysInMonth(year, month):\n",
        "  day31Month=[1,3,5,7,8,10,12]\n",
        "  if month in day31Month:\n",
        "    return 31\n",
        "  else :\n",
        "    if month is 2:\n",
        "      if isLeapYear(year):\n",
        "        return 29\n",
        "      else:\n",
        "        return 28\n",
        "    else:\n",
        "      return 30\n",
        "      \n",
        " "
      ],
      "execution_count": 0,
      "outputs": []
    },
    {
      "cell_type": "code",
      "metadata": {
        "id": "aXLgBNwWqDxx",
        "colab_type": "code",
        "colab": {}
      },
      "source": [
        "def daysBetweenDate(year1, month1, day1, year2, month2, day2):\n",
        "    \"\"\"Returns the number of days between year1/month1/day1\n",
        "       and year2/month2/day2. Assumes inputs are valid dates\n",
        "       in Gregorian calendar.\"\"\"\n",
        "    # program defensively! Add an assertion if the input is not valid!\n",
        "    if dateIsBefore(year1, month1, day1, year2, month2, day2):\n",
        "        return \"AssertionError\"\n",
        "    days = 0\n",
        "    while dateIsBefore(year1, month1, day1, year2, month2, day2):\n",
        "        year1, month1, day1 = nextDay(year1, month1, day1)\n",
        "        days += 1\n",
        "    return days"
      ],
      "execution_count": 0,
      "outputs": []
    },
    {
      "cell_type": "code",
      "metadata": {
        "id": "thIVqlTKtHS6",
        "colab_type": "code",
        "colab": {}
      },
      "source": [
        "def daysBetweenDates(year1, month1, day1, year2, month2, day2):\n",
        "\tif dateIsBefore(year1, month1, day1, year2, month2, day2) == False:\n",
        "\t\treturn \"AssertionError\"\n",
        "\telse:\n",
        "\t\tdays = 0\n",
        "\t\twhile dateIsBefore(year1, month1, day1, year2, month2, day2):\n",
        "\t\t\tyear1, month1, day1 = nextDay(year1, month1, day1)\n",
        "\t\t\tdays += 1\n",
        "\t\treturn days"
      ],
      "execution_count": 0,
      "outputs": []
    },
    {
      "cell_type": "code",
      "metadata": {
        "id": "nX1bE_EeqIpx",
        "colab_type": "code",
        "colab": {}
      },
      "source": [
        "def test():\n",
        "    test_cases = [((2012,9,30,2012,10,30),30), \n",
        "                  ((2012,1,1,2013,1,1),360),\n",
        "                  ((2012,9,1,2012,9,4),3),\n",
        "                  ((2013,1,1,1999,12,31), \"AssertionError\")]\n",
        "    \n",
        "    for (args, answer) in test_cases:\n",
        "        try:\n",
        "            result = daysBetweenDates(*args)\n",
        "            if result == answer and answer != \"AssertionError\":\n",
        "                print (\"Test case passed!\")\n",
        "            else:\n",
        "                print (\"Test with data:\", args, \"failed\")\n",
        "    \n",
        "        except AssertionError:\n",
        "            if answer == \"AssertionError\":\n",
        "                print (\"Nice job! Test case {0} correctly raises AssertionError!\\n\".format(args))\n",
        "            else:\n",
        "                print (\"Check your work! Test case {0} should not raise AssertionError!\\n\".format(args))"
      ],
      "execution_count": 0,
      "outputs": []
    },
    {
      "cell_type": "code",
      "metadata": {
        "id": "4MyCkmltslzA",
        "colab_type": "code",
        "colab": {
          "base_uri": "https://localhost:8080/",
          "height": 85
        },
        "outputId": "cb25bd27-e6ac-45ad-e7f6-961804a07763"
      },
      "source": [
        "test()"
      ],
      "execution_count": 30,
      "outputs": [
        {
          "output_type": "stream",
          "text": [
            "Test case passed!\n",
            "Test with data: (2012, 1, 1, 2013, 1, 1) failed\n",
            "Test case passed!\n",
            "Test with data: (2013, 1, 1, 1999, 12, 31) failed\n"
          ],
          "name": "stdout"
        }
      ]
    },
    {
      "cell_type": "code",
      "metadata": {
        "id": "vPmCM0Tzs1J9",
        "colab_type": "code",
        "colab": {}
      },
      "source": [
        ""
      ],
      "execution_count": 0,
      "outputs": []
    }
  ]
}