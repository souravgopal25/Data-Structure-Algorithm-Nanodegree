{
  "nbformat": 4,
  "nbformat_minor": 0,
  "metadata": {
    "colab": {
      "name": "Task1.ipynb",
      "provenance": []
    },
    "kernelspec": {
      "name": "python3",
      "display_name": "Python 3"
    }
  },
  "cells": [
    {
      "cell_type": "code",
      "metadata": {
        "id": "z-ctf9LVF61k",
        "colab_type": "code",
        "colab": {}
      },
      "source": [
        "\"\"\"\n",
        "Read file into texts and calls.\n",
        "It's ok if you don't understand how to read files.\n",
        "\"\"\"\n",
        "import \n",
        "with open('texts.csv', 'r') as f:\n",
        "    readera = csv.reader(f)\n",
        "    texts = list(readera)\n",
        "\n",
        "with open('calls.csv', 'r') as f:\n",
        "    readerb = csv.reader(f)\n",
        "    calls = list(readerb)\n",
        "\n"
      ],
      "execution_count": 0,
      "outputs": []
    },
    {
      "cell_type": "code",
      "metadata": {
        "id": "cibG7_ZAGv2C",
        "colab_type": "code",
        "outputId": "3c4bd655-c9b4-46b4-fdd0-bc7fe4f154b5",
        "colab": {
          "base_uri": "https://localhost:8080/",
          "height": 54
        }
      },
      "source": [
        "\n",
        "\"\"\"\n",
        "TASK 1:\n",
        "How many different telephone numbers are there in the records? \n",
        "Print a message:\n",
        "\"There are <count> different telephone numbers in the records.\"\n",
        "\"\"\""
      ],
      "execution_count": 0,
      "outputs": [
        {
          "output_type": "execute_result",
          "data": {
            "text/plain": [
              "'\\nTASK 1:\\nHow many different telephone numbers are there in the records? \\nPrint a message:\\n\"There are <count> different telephone numbers in the records.\"\\n'"
            ]
          },
          "metadata": {
            "tags": []
          },
          "execution_count": 3
        }
      ]
    },
    {
      "cell_type": "code",
      "metadata": {
        "id": "OCSWhArsVH-Y",
        "colab_type": "code",
        "outputId": "a96f0b25-230e-46a6-bacb-2e1543d06a5f",
        "colab": {
          "base_uri": "https://localhost:8080/",
          "height": 51
        }
      },
      "source": [
        "#print(texts[0])\n",
        "#print(calls[0])"
      ],
      "execution_count": 0,
      "outputs": [
        {
          "output_type": "stream",
          "text": [
            "['97424 22395', '90365 06212', '01-09-2016 06:03:22']\n",
            "['78130 00821', '98453 94494', '01-09-2016 06:01:12', '186']\n"
          ],
          "name": "stdout"
        }
      ]
    },
    {
      "cell_type": "code",
      "metadata": {
        "id": "uWhNxVpwGT8r",
        "colab_type": "code",
        "colab": {}
      },
      "source": [
        "teleNumber= set()"
      ],
      "execution_count": 0,
      "outputs": []
    },
    {
      "cell_type": "code",
      "metadata": {
        "id": "ZfCeFKtjTVSl",
        "colab_type": "code",
        "colab": {}
      },
      "source": [
        "for i in range(len(texts)):\n",
        "  teleNumber.add(texts[i][0])\n",
        "  teleNumber.add(texts[i][1])\n",
        "for i in range(len(calls)):\n",
        "  teleNumber.add(calls[i][0])\n",
        "  teleNumber.add(calls[i][1])\n"
      ],
      "execution_count": 0,
      "outputs": []
    },
    {
      "cell_type": "code",
      "metadata": {
        "id": "-CGvxalNVuyJ",
        "colab_type": "code",
        "outputId": "78e96014-6662-4718-f980-4d6c8a83361f",
        "colab": {
          "base_uri": "https://localhost:8080/",
          "height": 34
        }
      },
      "source": [
        "#print(len(teleNumber))"
      ],
      "execution_count": 0,
      "outputs": [
        {
          "output_type": "stream",
          "text": [
            "570\n"
          ],
          "name": "stdout"
        }
      ]
    },
    {
      "cell_type": "code",
      "metadata": {
        "id": "tIXXCgniV3lI",
        "colab_type": "code",
        "outputId": "605d697a-4940-4913-b056-727e884ef581",
        "colab": {
          "base_uri": "https://localhost:8080/",
          "height": 34
        }
      },
      "source": [
        "print(\"There are {} different telephone numbers in the records.\".format(len(teleNumber)))"
      ],
      "execution_count": 0,
      "outputs": [
        {
          "output_type": "stream",
          "text": [
            "There are 570 different telephone numbers in the records.\n"
          ],
          "name": "stdout"
        }
      ]
    },
    {
      "cell_type": "code",
      "metadata": {
        "id": "l9POSC_QWJk-",
        "colab_type": "code",
        "colab": {}
      },
      "source": [
        ""
      ],
      "execution_count": 0,
      "outputs": []
    }
  ]
}