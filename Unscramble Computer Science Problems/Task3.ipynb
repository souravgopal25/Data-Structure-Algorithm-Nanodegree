{
  "nbformat": 4,
  "nbformat_minor": 0,
  "metadata": {
    "colab": {
      "name": "Task3.ipynb",
      "provenance": []
    },
    "kernelspec": {
      "name": "python3",
      "display_name": "Python 3"
    }
  },
  "cells": [
    {
      "cell_type": "code",
      "metadata": {
        "id": "Z7UOdJHolhxp",
        "colab_type": "code",
        "colab": {}
      },
      "source": [
        "\"\"\"\n",
        "Read file into texts and calls.\n",
        "It's ok if you don't understand how to read files.\n",
        "\"\"\"\n",
        "import csv\n",
        "\n",
        "with open('texts.csv', 'r') as f:\n",
        "    reader = csv.reader(f)\n",
        "    texts = list(reader)\n",
        "\n",
        "with open('calls.csv', 'r') as f:\n",
        "    reader = csv.reader(f)\n",
        "    calls = list(reader)"
      ],
      "execution_count": 0,
      "outputs": []
    },
    {
      "cell_type": "code",
      "metadata": {
        "id": "k0sdUzQgnDDQ",
        "colab_type": "code",
        "outputId": "e194c8ea-a199-4eea-c157-5666bc0f7c7f",
        "colab": {
          "base_uri": "https://localhost:8080/",
          "height": 54
        }
      },
      "source": [
        "\"\"\"\n",
        "TASK 3:\n",
        "(080) is the area code for fixed line telephones in Bangalore.\n",
        "Fixed line numbers include parentheses, so Bangalore numbers\n",
        "have the form (080)xxxxxxx.)\n",
        "\n",
        "Part A: Find all of the area codes and mobile prefixes called by people\n",
        "in Bangalore.\n",
        " - Fixed lines start with an area code enclosed in brackets. The area\n",
        "   codes vary in length but always begin with 0.\n",
        " - Mobile numbers have no parentheses, but have a space in the middle\n",
        "   of the number to help readability. The prefix of a mobile number\n",
        "   is its first four digits, and they always start with 7, 8 or 9.\n",
        " - Telemarketers' numbers have no parentheses or space, but they start\n",
        "   with the area code 140.\n",
        "\n",
        "Print the answer as part of a message:\n",
        "\"The numbers called by people in Bangalore have codes:\"\n",
        " <list of codes>\n",
        "The list of codes should be print out one per line in lexicographic order with no duplicates.\n",
        "\n",
        "Part B: What percentage of calls from fixed lines in Bangalore are made\n",
        "to fixed lines also in Bangalore? In other words, of all the calls made\n",
        "from a number starting with \"(080)\", what percentage of these calls\n",
        "were made to a number also starting with \"(080)\"?\n",
        "\n",
        "Print the answer as a part of a message::\n",
        "\"<percentage> percent of calls from fixed lines in Bangalore are calls\n",
        "to other fixed lines in Bangalore.\"\n",
        "The percentage should have 2 decimal digits\n",
        "\"\"\"\n"
      ],
      "execution_count": 0,
      "outputs": [
        {
          "output_type": "execute_result",
          "data": {
            "text/plain": [
              "'\\nTASK 3:\\n(080) is the area code for fixed line telephones in Bangalore.\\nFixed line numbers include parentheses, so Bangalore numbers\\nhave the form (080)xxxxxxx.)\\n\\nPart A: Find all of the area codes and mobile prefixes called by people\\nin Bangalore.\\n - Fixed lines start with an area code enclosed in brackets. The area\\n   codes vary in length but always begin with 0.\\n - Mobile numbers have no parentheses, but have a space in the middle\\n   of the number to help readability. The prefix of a mobile number\\n   is its first four digits, and they always start with 7, 8 or 9.\\n - Telemarketers\\' numbers have no parentheses or space, but they start\\n   with the area code 140.\\n\\nPrint the answer as part of a message:\\n\"The numbers called by people in Bangalore have codes:\"\\n <list of codes>\\nThe list of codes should be print out one per line in lexicographic order with no duplicates.\\n\\nPart B: What percentage of calls from fixed lines in Bangalore are made\\nto fixed lines also in Bangalore? In other words, of all the calls made\\nfrom a number starting with \"(080)\", what percentage of these calls\\nwere made to a number also starting with \"(080)\"?\\n\\nPrint the answer as a part of a message::\\n\"<percentage> percent of calls from fixed lines in Bangalore are calls\\nto other fixed lines in Bangalore.\"\\nThe percentage should have 2 decimal digits\\n'"
            ]
          },
          "metadata": {
            "tags": []
          },
          "execution_count": 4
        }
      ]
    },
    {
      "cell_type": "code",
      "metadata": {
        "id": "hJJx4ecanZz8",
        "colab_type": "code",
        "outputId": "c3a68542-f547-4dd4-f141-4a14b71d739d",
        "colab": {
          "base_uri": "https://localhost:8080/",
          "height": 714
        }
      },
      "source": [
        "called=[]\n",
        "i=0\n",
        "total=0\n",
        "for dialer,reciever,time,duration in calls:\n",
        "  #print(dialer)\n",
        "  #print(\"\\n\")\n",
        "  total+=1\n",
        "  if dialer.startswith('(080)'):\n",
        "    if reciever.startswith('(080'):\n",
        "      i+=1\n",
        "      called.append(reciever.split(')')[0][1:])\n",
        "    if reciever.startswith('('):\n",
        "      called.append(reciever.split(')')[0][1:])\n",
        "    elif reciever.startswith('140'):\n",
        "      called.append('140')\n",
        "    else:\n",
        "      called.append(reciever[0:4])\n",
        "called=list(set(called))\n",
        "\n",
        "called.sort()\n",
        "\n",
        "print(\"The numbers called by people in Bangalore have codes:\")\n",
        "for codes in called:\n",
        "  print(codes)\n",
        "\n",
        "percent=i/total\n",
        "percent*=100\n",
        "print(\"{:.2f} percent of calls from fixed lines in Bangalore are calls to other fixed lines in Bangalore.\".format(percent))\n",
        "\n",
        "  \n",
        "    \n"
      ],
      "execution_count": 0,
      "outputs": [
        {
          "output_type": "stream",
          "text": [
            "The numbers called by people in Bangalore have codes:\n",
            "022\n",
            "040\n",
            "04344\n",
            "044\n",
            "04546\n",
            "0471\n",
            "080\n",
            "0821\n",
            "7406\n",
            "7795\n",
            "7813\n",
            "7829\n",
            "8151\n",
            "8152\n",
            "8301\n",
            "8431\n",
            "8714\n",
            "9008\n",
            "9019\n",
            "9035\n",
            "9036\n",
            "9241\n",
            "9242\n",
            "9341\n",
            "9342\n",
            "9343\n",
            "9400\n",
            "9448\n",
            "9449\n",
            "9526\n",
            "9656\n",
            "9738\n",
            "9740\n",
            "9741\n",
            "9742\n",
            "9844\n",
            "9845\n",
            "9900\n",
            "9961\n",
            "5.14 percent of calls from fixed lines in Bangalore are calls to other fixed lines in Bangalore.\n"
          ],
          "name": "stdout"
        }
      ]
    },
    {
      "cell_type": "code",
      "metadata": {
        "id": "mzL0FjmIpAwk",
        "colab_type": "code",
        "colab": {}
      },
      "source": [
        ""
      ],
      "execution_count": 0,
      "outputs": []
    }
  ]
}