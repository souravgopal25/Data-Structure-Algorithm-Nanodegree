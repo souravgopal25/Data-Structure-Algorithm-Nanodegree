{
  "nbformat": 4,
  "nbformat_minor": 0,
  "metadata": {
    "colab": {
      "name": "Task0.ipynb",
      "provenance": []
    },
    "kernelspec": {
      "name": "python3",
      "display_name": "Python 3"
    }
  },
  "cells": [
    {
      "cell_type": "code",
      "metadata": {
        "id": "o8NwIueN-LhQ",
        "colab_type": "code",
        "colab": {}
      },
      "source": [
        "\"\"\"\n",
        "Read file into texts and calls.\n",
        "It's ok if you don't understand how to read files.\n",
        "\"\"\"\n",
        "import csv\n",
        "with open('texts.csv', 'r') as f:\n",
        "    reader = csv.reader(f)\n",
        "    texts = list(reader)\n",
        "\n",
        "with open('calls.csv', 'r') as f:\n",
        "    reader = csv.reader(f)\n",
        "    calls = list(reader)"
      ],
      "execution_count": 0,
      "outputs": []
    },
    {
      "cell_type": "code",
      "metadata": {
        "id": "siRgWhj3-XNk",
        "colab_type": "code",
        "outputId": "1a0e7852-620c-4a36-dc8a-e0120b8521f4",
        "colab": {
          "base_uri": "https://localhost:8080/",
          "height": 54
        }
      },
      "source": [
        "\"\"\"\n",
        "TASK 0:\n",
        "What is the first record of texts and what is the last record of calls?\n",
        "Print messages:\n",
        "\"First record of texts, <incoming number> texts <answering number> at time <time>\"\n",
        "\"Last record of calls, <incoming number> calls <answering number> at time <time>, lasting <during> seconds\"\n",
        "\"\"\""
      ],
      "execution_count": 0,
      "outputs": [
        {
          "output_type": "execute_result",
          "data": {
            "text/plain": [
              "'\\nTASK 0:\\nWhat is the first record of texts and what is the last record of calls?\\nPrint messages:\\n\"First record of texts, <incoming number> texts <answering number> at time <time>\"\\n\"Last record of calls, <incoming number> calls <answering number> at time <time>, lasting <during> seconds\"\\n'"
            ]
          },
          "metadata": {
            "tags": []
          },
          "execution_count": 2
        }
      ]
    },
    {
      "cell_type": "code",
      "metadata": {
        "id": "U0zPzn1s-ZYn",
        "colab_type": "code",
        "outputId": "f2916eb5-0569-44a7-a771-9f0441c8a93b",
        "colab": {
          "base_uri": "https://localhost:8080/",
          "height": 51
        }
      },
      "source": [
        "print(\"First record of texts, {} texts {} at time {}\".format(texts[0][0], texts[0][1], texts[0][2]))\n",
        "print(\"Last record of calls, {} calls {} at time {}, lasting {} seconds\".format(calls[-1][0], calls[-1][1], calls[-1][2], calls[-1][3]))\n"
      ],
      "execution_count": 0,
      "outputs": [
        {
          "output_type": "stream",
          "text": [
            "First record of texts, 97424 22395 texts 90365 06212 at time 01-09-2016 06:03:22\n",
            "Last record of calls, 98447 62998 calls (080)46304537 at time 30-09-2016 23:57:15, lasting 2151 seconds\n"
          ],
          "name": "stdout"
        }
      ]
    },
    {
      "cell_type": "code",
      "metadata": {
        "id": "lf5qhMBI-cZH",
        "colab_type": "code",
        "colab": {}
      },
      "source": [
        ""
      ],
      "execution_count": 0,
      "outputs": []
    }
  ]
}