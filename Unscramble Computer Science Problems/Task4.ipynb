{
  "nbformat": 4,
  "nbformat_minor": 0,
  "metadata": {
    "colab": {
      "name": "Task4.ipynb",
      "provenance": []
    },
    "kernelspec": {
      "name": "python3",
      "display_name": "Python 3"
    }
  },
  "cells": [
    {
      "cell_type": "code",
      "metadata": {
        "id": "1MqBWmIUydmW",
        "colab_type": "code",
        "colab": {}
      },
      "source": [
        "\"\"\"\n",
        "Read file into texts and calls.\n",
        "It's ok if you don't understand how to read files.\n",
        "\"\"\"\n",
        "import csv\n",
        "\n",
        "with open('texts.csv', 'r') as f:\n",
        "    reader = csv.reader(f)\n",
        "    texts = list(reader)\n",
        "\n",
        "with open('calls.csv', 'r') as f:\n",
        "    reader = csv.reader(f)\n",
        "    calls = list(reader)"
      ],
      "execution_count": 0,
      "outputs": []
    },
    {
      "cell_type": "code",
      "metadata": {
        "id": "EhsIX1X0y0Pf",
        "colab_type": "code",
        "outputId": "adea5fbe-1d2f-45b0-9a89-98c91abe4780",
        "colab": {
          "base_uri": "https://localhost:8080/",
          "height": 54
        }
      },
      "source": [
        "\"\"\"\n",
        "TASK 4:\n",
        "The telephone company want to identify numbers that might be doing\n",
        "telephone marketing. Create a set of possible telemarketers:\n",
        "these are numbers that make outgoing calls but never send texts,\n",
        "receive texts or receive incoming calls.\n",
        "\n",
        "Print a message:\n",
        "\"These numbers could be telemarketers: \"\n",
        "<list of numbers>\n",
        "The list of numbers should be print out one per line in lexicographic order with no duplicates.\n",
        "\"\"\""
      ],
      "execution_count": 0,
      "outputs": [
        {
          "output_type": "execute_result",
          "data": {
            "text/plain": [
              "'\\nTASK 4:\\nThe telephone company want to identify numbers that might be doing\\ntelephone marketing. Create a set of possible telemarketers:\\nthese are numbers that make outgoing calls but never send texts,\\nreceive texts or receive incoming calls.\\n\\nPrint a message:\\n\"These numbers could be telemarketers: \"\\n<list of numbers>\\nThe list of numbers should be print out one per line in lexicographic order with no duplicates.\\n'"
            ]
          },
          "metadata": {
            "tags": []
          },
          "execution_count": 2
        }
      ]
    },
    {
      "cell_type": "code",
      "metadata": {
        "id": "qMGrRD18y4Hq",
        "colab_type": "code",
        "colab": {}
      },
      "source": [
        "caller_list=[]\n",
        "sender_list=[]\n",
        "for caller,reciever,time,duration in calls:\n",
        "    if not caller in caller_list:\n",
        "      caller_list.append(caller)\n",
        "    if reciever in caller_list:\n",
        "      caller_list.remove(reciever)\n",
        "\n",
        "for sender,reciever,time in texts:\n",
        "  if sender in caller_list:\n",
        "    caller_list.remove(sender)\n",
        "  if reciever in caller_list:\n",
        "    caller_list.remove(reciever)\n",
        "    \n",
        "\n",
        "\n",
        "caller_set=set(caller_list)"
      ],
      "execution_count": 0,
      "outputs": []
    },
    {
      "cell_type": "code",
      "metadata": {
        "id": "yR06kG_-1GOF",
        "colab_type": "code",
        "colab": {}
      },
      "source": [
        "caller_list=list(caller_set)\n",
        "caller_list.sort()"
      ],
      "execution_count": 0,
      "outputs": []
    },
    {
      "cell_type": "code",
      "metadata": {
        "id": "t2imriqB1fV_",
        "colab_type": "code",
        "outputId": "1bd76b47-863f-4c75-8d58-7f21f3fd7f06",
        "colab": {
          "base_uri": "https://localhost:8080/",
          "height": 1000
        }
      },
      "source": [
        "print(\"These numbers could be telemarketers: \")\n",
        "for number in caller_list:\n",
        "  print(number)\n",
        "  len(number)"
      ],
      "execution_count": 0,
      "outputs": [
        {
          "output_type": "stream",
          "text": [
            "These numbers could be telemarketers: \n",
            "(011)21017178\n",
            "(022)28765220\n",
            "(022)28952819\n",
            "(022)34715405\n",
            "(022)37572285\n",
            "(022)38214945\n",
            "(022)40840621\n",
            "(022)46574732\n",
            "(022)47410783\n",
            "(022)65548497\n",
            "(022)66911540\n",
            "(022)68535788\n",
            "(022)69042431\n",
            "(033)25441815\n",
            "(040)26738737\n",
            "(040)30429041\n",
            "(040)34008657\n",
            "(040)36649724\n",
            "(040)66729318\n",
            "(04344)615310\n",
            "(04344)649705\n",
            "(044)20550065\n",
            "(044)22020822\n",
            "(044)24037112\n",
            "(044)27523585\n",
            "(044)27641880\n",
            "(044)30360652\n",
            "(044)41581342\n",
            "(044)45838604\n",
            "(044)49481100\n",
            "(044)49868415\n",
            "(04546)218519\n",
            "(04546)267875\n",
            "(0471)2171438\n",
            "(0471)2225098\n",
            "(0471)2953539\n",
            "(0471)4255177\n",
            "(0471)6579079\n",
            "(080)20123809\n",
            "(080)20383942\n",
            "(080)23802940\n",
            "(080)24444677\n",
            "(080)25820765\n",
            "(080)27498339\n",
            "(080)30231886\n",
            "(080)30270642\n",
            "(080)31606520\n",
            "(080)31863188\n",
            "(080)32679828\n",
            "(080)33277651\n",
            "(080)34932254\n",
            "(080)35986130\n",
            "(080)35987804\n",
            "(080)37913009\n",
            "(080)39755879\n",
            "(080)40362016\n",
            "(080)40395498\n",
            "(080)40929452\n",
            "(080)41203315\n",
            "(080)41336994\n",
            "(080)41712046\n",
            "(080)43215621\n",
            "(080)43562014\n",
            "(080)43685310\n",
            "(080)43901222\n",
            "(080)44046839\n",
            "(080)44050207\n",
            "(080)44357306\n",
            "(080)45291968\n",
            "(080)45547058\n",
            "(080)45687418\n",
            "(080)46702492\n",
            "(080)46772413\n",
            "(080)47459867\n",
            "(080)49328664\n",
            "(080)49796269\n",
            "(080)60062475\n",
            "(080)60463379\n",
            "(080)60998034\n",
            "(080)62164823\n",
            "(080)62963633\n",
            "(080)63623429\n",
            "(080)64015211\n",
            "(080)64047472\n",
            "(080)64431120\n",
            "(080)65275591\n",
            "(080)66044294\n",
            "(080)66955387\n",
            "(080)67362492\n",
            "(080)68104927\n",
            "(080)68739140\n",
            "(080)69609453\n",
            "(080)69887826\n",
            "(0821)2135265\n",
            "(0821)3257740\n",
            "(0821)3602212\n",
            "(08214175)358\n",
            "1400481538\n",
            "1401747654\n",
            "1402316533\n",
            "1403072432\n",
            "1403579926\n",
            "1404073047\n",
            "1404368883\n",
            "1404787681\n",
            "1407539117\n",
            "1408371942\n",
            "1408409918\n",
            "1408672243\n",
            "1409421631\n",
            "1409668775\n",
            "1409994233\n",
            "74064 66270\n",
            "74292 23928\n",
            "78135 69048\n",
            "78136 54214\n",
            "78291 94593\n",
            "78293 38561\n",
            "78993 89387\n",
            "84313 80377\n",
            "87144 42283\n",
            "87144 55014\n",
            "87149 75762\n",
            "89071 50880\n",
            "90085 20915\n",
            "90089 69682\n",
            "90193 61937\n",
            "90196 73585\n",
            "90197 38885\n",
            "90351 90193\n",
            "90357 25284\n",
            "90368 95100\n",
            "92414 69419\n",
            "92423 51078\n",
            "92426 65661\n",
            "92426 72402\n",
            "93426 76415\n",
            "93427 40118\n",
            "93430 54160\n",
            "94002 85593\n",
            "94495 03761\n",
            "96569 95359\n",
            "97404 30456\n",
            "97404 90013\n",
            "97407 84573\n",
            "97418 59299\n",
            "97427 87999\n",
            "97442 45192\n",
            "98442 73671\n",
            "98444 63396\n",
            "98447 62998\n",
            "98448 88411\n",
            "98457 75681\n",
            "98458 94162\n",
            "99617 25274\n"
          ],
          "name": "stdout"
        }
      ]
    },
    {
      "cell_type": "code",
      "metadata": {
        "id": "EKioBy1d5Ynp",
        "colab_type": "code",
        "colab": {}
      },
      "source": [
        ""
      ],
      "execution_count": 0,
      "outputs": []
    }
  ]
}